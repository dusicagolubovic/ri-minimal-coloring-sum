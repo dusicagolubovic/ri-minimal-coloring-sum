{
 "cells": [
  {
   "cell_type": "markdown",
   "metadata": {},
   "source": [
    "### Algoritam grube sile\n",
    "\n",
    "Prolazimo kroz sve moguce permutacije(sva moguca resenja) i trazimo minimalno dopustivo resenje.\n",
    "Neefikasan nacin.\n",
    "Slozenost: O(n!) valjda"
   ]
  },
  {
   "cell_type": "code",
   "execution_count": 23,
   "metadata": {},
   "outputs": [
    {
     "name": "stdout",
     "output_type": "stream",
     "text": [
      "Najbolje inf\n"
     ]
    }
   ],
   "source": [
    "minSolution = float('inf')\n",
    "\n",
    "def isFeasible(graph, solution):\n",
    "    for i in range(len(graph)):\n",
    "        for neigh in graph[i]:\n",
    "            if(solution[i]==solution[neigh]):\n",
    "                return False\n",
    "            \n",
    "    return True\n",
    "\n",
    "\n",
    "def allPossibleSolutionsRecur (possibleColors, data, last, index,graph): \n",
    "    length = len(possibleColors) \n",
    "  \n",
    "    # One by one fix all characters at the given index and \n",
    "    # recur for the subsequent indexes \n",
    "    for i in range(length):\n",
    "        data[index] = possibleColors[i] \n",
    "        if index==last: \n",
    "            if(isFeasible(graph,data)):\n",
    "                print('Ulazi')\n",
    "                if(sum(data)<minSolution):\n",
    "                    minSolution = sum(data)\n",
    "                \n",
    "        else: \n",
    "            allPossibleSolutionsRecur(possibleColors, data, last, index+1,graph) \n",
    "  \n",
    "# This function sorts input string, allocate memory for data \n",
    "# (needed for allLexicographicRecur()) and calls \n",
    "# allLexicographicRecur() for printing all permutations \n",
    "def allPossibleSolutions(possibleColors,graph): \n",
    "    length = len(possibleColors) \n",
    "\n",
    "    data = [1] * (length)  \n",
    "    allPossibleSolutionsRecur(possibleColors, data, length-1, 0,graph) \n",
    "    \n",
    "\n",
    "\n",
    "graph_list = [\n",
    "  [1,2],\n",
    "  [0,3,4,6],\n",
    "  [0,2,5],\n",
    "  [1],\n",
    "  [1,5],\n",
    "  [2,4],\n",
    "  [1]\n",
    "]\n",
    "\n",
    "allPossibleSolutions([1,2,3,4,5,6,7],graph_list)\n",
    "print('Najbolje',minSolution)"
   ]
  },
  {
   "cell_type": "code",
   "execution_count": 20,
   "metadata": {},
   "outputs": [
    {
     "data": {
      "text/plain": [
       "True"
      ]
     },
     "execution_count": 20,
     "metadata": {},
     "output_type": "execute_result"
    }
   ],
   "source": [
    "\n",
    "graph_list = [\n",
    "  [1,2],\n",
    "  [0,3,4,6],\n",
    "  [0,4,5],\n",
    "  [1],\n",
    "  [1,5],\n",
    "  [2,4],\n",
    "  [1]\n",
    "]\n",
    "isFeasible(graph_list,[1,2,3,4,5,6,7])"
   ]
  },
  {
   "cell_type": "code",
   "execution_count": null,
   "metadata": {},
   "outputs": [],
   "source": []
  },
  {
   "cell_type": "code",
   "execution_count": null,
   "metadata": {},
   "outputs": [],
   "source": []
  }
 ],
 "metadata": {
  "kernelspec": {
   "display_name": "Python 3",
   "language": "python",
   "name": "python3"
  },
  "language_info": {
   "codemirror_mode": {
    "name": "ipython",
    "version": 3
   },
   "file_extension": ".py",
   "mimetype": "text/x-python",
   "name": "python",
   "nbconvert_exporter": "python",
   "pygments_lexer": "ipython3",
   "version": "3.7.3"
  }
 },
 "nbformat": 4,
 "nbformat_minor": 2
}
