{
 "cells": [
  {
   "cell_type": "markdown",
   "metadata": {},
   "source": [
    "### Genetski algoritam"
   ]
  },
  {
   "cell_type": "code",
   "execution_count": 9,
   "metadata": {},
   "outputs": [],
   "source": [
    "import random\n",
    "\n",
    "class Individual:\n",
    "    \n",
    "    \n",
    "    def __init__(self,graph):\n",
    "        self.graph = graph\n",
    "        self.colors = self.initColors(graph)\n",
    "        self.fitness = 0\n",
    "        \n",
    "    def __lt__(self,other):\n",
    "        return self.fitness < other.fitness\n",
    "    \n",
    "    def findAjdColors(self,i):\n",
    "        ajdColors = []\n",
    "        for ajd in self.graph[i]:\n",
    "            ajdColors.append(self.colors[ajd])\n",
    "        return ajdColors\n",
    "        \n",
    "        \n",
    "    def correctNonFeasible(self):\n",
    "        \n",
    "        for i in range(len(self.graph)):\n",
    "            ajdColors = self.findAjdColors(i)\n",
    "            if(self.colors[i] in ajdColors):\n",
    "                \n",
    "                possibleColors = list(set([1,2,3,4,5,6,7,8])-set(ajdColors))\n",
    "                self.colors[i] = random.choice(possibleColors)\n",
    "        \n",
    "            \n",
    "    def fitnessFunction(self,colors):\n",
    "        value = 0\n",
    "        for color in colors:\n",
    "            value+=color\n",
    "        return value\n",
    "    \n",
    "    def initColors(self,graph):\n",
    "        colors = []\n",
    "        numberOfColors = len(graph)\n",
    "        for i in range(numberOfColors):\n",
    "            colors.append(random.randrange(1,numberOfColors+1))\n",
    "        return colors\n",
    "\n",
    "    def __str__(self):\n",
    "        print('Bojenje' + str(self.colors))\n",
    "\n"
   ]
  },
  {
   "cell_type": "code",
   "execution_count": 10,
   "metadata": {},
   "outputs": [],
   "source": [
    "# Selekcija -> biramo jedinke iz populacije za generisanje naredne\n",
    "# Koristimo turnirsku: za pocetak 6 turnira \n",
    "def tournamentSelection(population):\n",
    "    min = float('inf')\n",
    "    k=-1\n",
    "    for j in range(6):\n",
    "        j = random.randrange(100) # 100 -> broj populacije\n",
    "        if population[j].fitness < min:\n",
    "            min = population[j].fitness\n",
    "            k=j\n",
    "    \n",
    "    return k\n"
   ]
  },
  {
   "cell_type": "code",
   "execution_count": 11,
   "metadata": {},
   "outputs": [],
   "source": [
    "def rouletteSelection(population):\n",
    "    totalFitness = sum([individual.fitness for individual in population])\n",
    "    randomValue = random.randrange(0,totalFitness)\n",
    "    currentSum = 0\n",
    "    \n",
    "    for i in range(len(population)):\n",
    "        currentSum += population[i].fitness\n",
    "        if currentSum > randomValue:\n",
    "            return i\n",
    "     "
   ]
  },
  {
   "cell_type": "code",
   "execution_count": 12,
   "metadata": {},
   "outputs": [],
   "source": [
    "# Jednopoziciono ukrstanje\n",
    "def crossover(parent1,parent2,child1,child2):\n",
    "    numberColors = len(parent1.colors)\n",
    "    # biramo poziciju ukrstanja\n",
    "    position = random.randrange(numberColors)\n",
    "    # razmenjujemo\n",
    "    # prvi deo bojenja\n",
    "    for i in range(position):\n",
    "        child1.colors[i]=parent1.colors[i]\n",
    "        child2.colors[i]=parent2.colors[i]\n",
    "    \n",
    "    # drugi deo bojenja\n",
    "    for j in range(position,numberColors):\n",
    "        child1.colors[j]=parent2.colors[j]\n",
    "        child2.colors[j]=parent1.colors[j]\n",
    "        \n",
    "    # menjamo da budu dopustiva\n",
    "    child1.correctNonFeasible()\n",
    "    child2.correctNonFeasible()\n",
    "    "
   ]
  },
  {
   "cell_type": "code",
   "execution_count": 13,
   "metadata": {},
   "outputs": [],
   "source": [
    "# Mutacija\n",
    "# Verovatnoca za mutaciju 0.05 (parametar, probati druge)\n",
    "def mutation(individual):\n",
    "    numberColors = len(individual.colors)\n",
    "    for i in range(numberColors):\n",
    "        if random.random() > 0.05:\n",
    "            continue\n",
    "        individual.colors[i] = random.choice(individual.colors)\n",
    "        individual.correctNonFeasible()\n",
    "        "
   ]
  },
  {
   "cell_type": "code",
   "execution_count": 14,
   "metadata": {},
   "outputs": [],
   "source": [
    "# Inicijalna populacija\n",
    "# 100 jedinki u populaciji (parametar, probati druge)\n",
    "# za\n",
    "def initPopulation(graph):\n",
    "    population = []\n",
    "    newPopulation = []\n",
    "    for i in range(100):\n",
    "        individual = Individual(graph)\n",
    "        individual.initColors(graph)\n",
    "        individual.correctNonFeasible()\n",
    "        individual.fitness = individual.fitnessFunction(individual.colors)\n",
    "        population.append(individual)\n",
    "        newPopulation.append(individual)\n",
    "        \n",
    "    return (population,newPopulation)\n",
    "\n"
   ]
  },
  {
   "cell_type": "code",
   "execution_count": 15,
   "metadata": {},
   "outputs": [
    {
     "name": "stdout",
     "output_type": "stream",
     "text": [
      "Resenje 12\n"
     ]
    }
   ],
   "source": [
    "# Sprovodimo Genetski algoritam\n",
    "# 500 iteracija (probati druge parametre)\n",
    "\n",
    "graph_list = [\n",
    "  [1,2],\n",
    "  [0,3,4,6],\n",
    "  [0,2,5],\n",
    "  [1],\n",
    "  [1,5],\n",
    "  [2,4],\n",
    "  [1]\n",
    "]\n",
    "\n",
    "graph_list2 = [[3],[3],[3],[0,1,2,4],[3,5,6,7],[4],[4],[4]]\n",
    "\n",
    "# Dobijamo inicijalnu populaciju\n",
    "population,newPopulation = initPopulation(graph_list2)\n",
    "\n",
    "\n",
    "\n",
    "for iteration in range(1000):\n",
    "    population.sort() # da bi nam prvi bio sa najboljim fitnesom tj minimalnom sumom\n",
    "    # Elitizam, cuvamo 30 najboljih\n",
    "    for i in range(30):\n",
    "        newPopulation[i] = population[i]\n",
    "    # Ostale zamenjujemo decom\n",
    "    for i in range(30,100,2):\n",
    "        ind1 = rouletteSelection(population)\n",
    "        ind2 = rouletteSelection(population)\n",
    "        crossover(population[ind1],population[ind2],newPopulation[i],newPopulation[i+1])\n",
    "        mutation(newPopulation[i])\n",
    "        mutation(newPopulation[i+1])\n",
    "        newPopulation[i].fitness = newPopulation[i].fitnessFunction(newPopulation[i].colors)\n",
    "        newPopulation[i+1].fitness = newPopulation[i+1].fitnessFunction(newPopulation[i+1].colors)\n",
    "    \n",
    "    population=newPopulation\n",
    "\n",
    "population.sort()\n",
    "\n",
    "print('Resenje',population[0].fitness)\n",
    "# Sa ruletskom se dobija 12\n"
   ]
  },
  {
   "cell_type": "code",
   "execution_count": null,
   "metadata": {},
   "outputs": [],
   "source": []
  },
  {
   "cell_type": "code",
   "execution_count": null,
   "metadata": {},
   "outputs": [],
   "source": []
  },
  {
   "cell_type": "code",
   "execution_count": null,
   "metadata": {},
   "outputs": [],
   "source": []
  },
  {
   "cell_type": "code",
   "execution_count": null,
   "metadata": {},
   "outputs": [],
   "source": []
  }
 ],
 "metadata": {
  "kernelspec": {
   "display_name": "Python 3",
   "language": "python",
   "name": "python3"
  },
  "language_info": {
   "codemirror_mode": {
    "name": "ipython",
    "version": 3
   },
   "file_extension": ".py",
   "mimetype": "text/x-python",
   "name": "python",
   "nbconvert_exporter": "python",
   "pygments_lexer": "ipython3",
   "version": "3.8.5"
  }
 },
 "nbformat": 4,
 "nbformat_minor": 2
}
