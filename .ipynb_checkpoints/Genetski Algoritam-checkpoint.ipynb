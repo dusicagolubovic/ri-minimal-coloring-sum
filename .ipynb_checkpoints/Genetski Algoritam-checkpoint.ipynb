{
 "cells": [
  {
   "cell_type": "markdown",
   "metadata": {},
   "source": [
    "### Genetski algoritam"
   ]
  },
  {
   "cell_type": "markdown",
   "metadata": {},
   "source": [
    "### Znacajni parametri"
   ]
  },
  {
   "cell_type": "code",
   "execution_count": 52,
   "metadata": {},
   "outputs": [],
   "source": [
    "TOURNAMENT_SIZE = 6\n",
    "POPULATION_SIZE = 100\n",
    "MUTATION_RATE = 0.05\n",
    "MAX_ITERATION = 1000\n",
    "ELITE_SIZE = 30"
   ]
  },
  {
   "cell_type": "code",
   "execution_count": 59,
   "metadata": {},
   "outputs": [],
   "source": [
    "import random\n",
    "\n",
    "class Individual:\n",
    "    \n",
    "    \n",
    "    def __init__(self,graph):\n",
    "        self.graph = graph\n",
    "        self.colors = self.initColors(graph)\n",
    "        self.fitness = 0\n",
    "        self.oldValue = 0\n",
    "        \n",
    "    def __lt__(self,other):\n",
    "        return self.fitness < other.fitness\n",
    "    \n",
    "    def findAdjColors(self,i):\n",
    "        adjColors = []\n",
    "        for ajd in self.graph[i]:\n",
    "            adjColors.append(self.colors[ajd])\n",
    "        return adjColors\n",
    "    \n",
    "    def isFeasible(self):\n",
    "        for i in range(len(self.graph)):\n",
    "            for neigh in self.graph[i]:\n",
    "                if(self.colors[i]==self.colors[neigh]):\n",
    "                    return False\n",
    "            \n",
    "        return True\n",
    "        \n",
    "        # biramo resenje iz okoline\n",
    "# random odaberemo indeks i smanjimo mu vrednost boje   \n",
    "    def adjacentSolution(self):\n",
    "        position = random.randrange(0,len(self.graph))\n",
    "        self.oldValue = self.colors[position]\n",
    "      #  if self.colors[position]==1:\n",
    "       #     self.colors[position]=self.colors[position]+1\n",
    "        #else:\n",
    "         #   self.colors[position]=self.colors[position]-1\n",
    "      \n",
    "        newColor = random.randrange(1,len(self.graph)+1)\n",
    "        self.colors[position] = newColor # brze konvergira ako ovako biramo susedno\n",
    "        if self.isFeasible():\n",
    "            return position\n",
    "        self.colors[position] = self.oldValue\n",
    "        return -1    \n",
    "        \n",
    "        \n",
    "    def correctNonFeasible(self):\n",
    "        \n",
    "        for i in range(len(self.graph)):\n",
    "            adjColors = self.findAdjColors(i)\n",
    "            if(self.colors[i] in adjColors):\n",
    "                allColors = list(range(1,len(self.graph) + 1))\n",
    "                possibleColors = list(set(allColors)-set(adjColors))\n",
    "                self.colors[i] = random.choice(possibleColors)\n",
    "        \n",
    "            \n",
    "    def fitnessFunction(self,colors):\n",
    "        value = 0\n",
    "        for color in colors:\n",
    "            value+=color\n",
    "        return value\n",
    "    \n",
    "    def restore(self,position):\n",
    "        self.colors[position] = self.oldValue\n",
    "    \n",
    "    def initColors(self,graph):\n",
    "        colors = []\n",
    "        numberOfColors = len(graph)\n",
    "        for i in range(numberOfColors):\n",
    "            colors.append(random.randrange(1,numberOfColors+1))\n",
    "        return colors\n",
    "\n",
    "    def __str__(self):\n",
    "        print('Bojenje' + str(self.colors))\n",
    "\n"
   ]
  },
  {
   "cell_type": "code",
   "execution_count": 60,
   "metadata": {},
   "outputs": [],
   "source": [
    "# Selekcija -> biramo jedinke iz populacije za generisanje naredne\n",
    "# Koristimo turnirsku: za pocetak 6 turnira \n",
    "def tournamentSelection(population):\n",
    "    min = float('inf')\n",
    "    k=-1\n",
    "    for j in range(TOURNAMENT_SIZE):\n",
    "        j = random.randrange(POPULATION_SIZE) # 100 -> broj populacije\n",
    "        if population[j].fitness < min:\n",
    "            min = population[j].fitness\n",
    "            k=j\n",
    "    \n",
    "    return k\n"
   ]
  },
  {
   "cell_type": "code",
   "execution_count": 61,
   "metadata": {},
   "outputs": [],
   "source": [
    "def rouletteSelection(population):\n",
    "    totalFitness = sum([individual.fitness for individual in population])\n",
    "    randomValue = random.randrange(0,totalFitness)\n",
    "    currentSum = 0\n",
    "    \n",
    "    for i in range(len(population)):\n",
    "        currentSum += population[i].fitness\n",
    "        if currentSum > randomValue:\n",
    "            return i\n",
    "     "
   ]
  },
  {
   "cell_type": "code",
   "execution_count": 62,
   "metadata": {},
   "outputs": [],
   "source": [
    "# Jednopoziciono ukrstanje\n",
    "def crossover(parent1,parent2,child1,child2):\n",
    "    numberColors = len(parent1.colors)\n",
    "    # biramo poziciju ukrstanja\n",
    "    position = random.randrange(numberColors)\n",
    "    # razmenjujemo\n",
    "    # prvi deo bojenja\n",
    "    for i in range(position):\n",
    "        child1.colors[i]=parent1.colors[i]\n",
    "        child2.colors[i]=parent2.colors[i]\n",
    "    \n",
    "    # drugi deo bojenja\n",
    "    for j in range(position,numberColors):\n",
    "        child1.colors[j]=parent2.colors[j]\n",
    "        child2.colors[j]=parent1.colors[j]\n",
    "        \n",
    "    # menjamo da budu dopustiva\n",
    "    child1.correctNonFeasible()\n",
    "    child2.correctNonFeasible()\n",
    "    "
   ]
  },
  {
   "cell_type": "code",
   "execution_count": 63,
   "metadata": {},
   "outputs": [],
   "source": [
    "# Mutacija\n",
    "# Verovatnoca za mutaciju 0.05 (parametar, probati druge)\n",
    "def mutation(individual):\n",
    "    numberColors = len(individual.colors)\n",
    "    for i in range(numberColors):\n",
    "        if random.random() > MUTATION_RATE:\n",
    "            continue\n",
    "        individual.colors[i] = random.choice(individual.colors)\n",
    "        individual.correctNonFeasible()\n",
    "        "
   ]
  },
  {
   "cell_type": "code",
   "execution_count": 64,
   "metadata": {},
   "outputs": [],
   "source": [
    "# Inicijalna populacija\n",
    "# 100 jedinki u populaciji (parametar, probati druge)\n",
    "# za\n",
    "def initPopulation(graph):\n",
    "    population = []\n",
    "    newPopulation = []\n",
    "    for i in range(POPULATION_SIZE):\n",
    "        individual = Individual(graph)\n",
    "        individual.initColors(graph)\n",
    "        individual.correctNonFeasible()\n",
    "        individual.fitness = individual.fitnessFunction(individual.colors)\n",
    "        population.append(individual)\n",
    "        newPopulation.append(individual)\n",
    "        \n",
    "    return (population,newPopulation)\n",
    "\n"
   ]
  },
  {
   "cell_type": "code",
   "execution_count": 65,
   "metadata": {},
   "outputs": [],
   "source": [
    " def simulatedAnnealing(individual, maxIters):\n",
    "    for i in range(maxIters):\n",
    "        j = individual.adjacentSolution()\n",
    "        if j < 0:\n",
    "            continue\n",
    "        newFitness = individual.fitnessFunction(individual.colors)\n",
    "        if newFitness < individual.fitness:\n",
    "            individual.fitness = newFitness\n",
    "        else:\n",
    "            p = 1.0 / (i + 1) ** 0.5\n",
    "            q = random.uniform(0, 1)\n",
    "            if p > q:\n",
    "                individual.fitness = newFitness\n",
    "            else:\n",
    "                individual.restore(j)"
   ]
  },
  {
   "cell_type": "code",
   "execution_count": 70,
   "metadata": {},
   "outputs": [],
   "source": [
    "def ga(graph):\n",
    "    # Dobijamo inicijalnu populaciju\n",
    "    population,newPopulation = initPopulation(graph_list2)\n",
    "    \n",
    "    for iteration in range(MAX_ITERATION):\n",
    "        population.sort() # da bi nam prvi bio sa najboljim fitnesom tj minimalnom sumom\n",
    "        # Elitizam, cuvamo 30 najboljih\n",
    "        for i in range(ELITE_SIZE):\n",
    "            newPopulation[i] = population[i]\n",
    "        # Ostale zamenjujemo decom\n",
    "        for i in range(ELITE_SIZE,POPULATION_SIZE,2):\n",
    "            ind1 = rouletteSelection(population)\n",
    "            ind2 = rouletteSelection(population)\n",
    "            crossover(population[ind1],population[ind2],newPopulation[i],newPopulation[i+1])\n",
    "            mutation(newPopulation[i])\n",
    "            mutation(newPopulation[i+1])\n",
    "            newPopulation[i].fitness = newPopulation[i].fitnessFunction(newPopulation[i].colors)\n",
    "            newPopulation[i+1].fitness = newPopulation[i+1].fitnessFunction(newPopulation[i+1].colors)\n",
    "    \n",
    "        population=newPopulation\n",
    "\n",
    "    population.sort()\n",
    "\n",
    "    print('Resenje',population[0].fitness)\n",
    "    # Sa ruletskom se dobija 12\n"
   ]
  },
  {
   "cell_type": "markdown",
   "metadata": {},
   "source": [
    "#### Genetski + simulirano kaljenje"
   ]
  },
  {
   "cell_type": "code",
   "execution_count": 67,
   "metadata": {},
   "outputs": [],
   "source": [
    "\n",
    "def hybrid_ga(graph):\n",
    "    # Dobijamo inicijalnu populaciju\n",
    "    population,newPopulation = initPopulation(graph)\n",
    "\n",
    "    for iteration in range(MAX_ITERATION):\n",
    "        population.sort() # da bi nam prvi bio sa najboljim fitnesom tj minimalnom sumom\n",
    "        # Elitizam, cuvamo 30 najboljih\n",
    "        for i in range(ELITE_SIZE):\n",
    "            newPopulation[i] = population[i]\n",
    "        # Ostale zamenjujemo decom\n",
    "        for i in range(ELITE_SIZE,POPULATION_SIZE,2):\n",
    "            ind1 = tournamentSelection(population)\n",
    "            ind2 = tournamentSelection(population)\n",
    "            crossover(population[ind1],population[ind2],newPopulation[i],newPopulation[i+1])\n",
    "            mutation(newPopulation[i])\n",
    "            mutation(newPopulation[i+1])\n",
    "            newPopulation[i].fitness = newPopulation[i].fitnessFunction(newPopulation[i].colors)\n",
    "            newPopulation[i+1].fitness = newPopulation[i+1].fitnessFunction(newPopulation[i+1].colors)\n",
    "    # sprovodimo kaljenje na najbolji u populaciji\n",
    "        simulatedAnnealing(newPopulation[0], 100)\n",
    "        population=newPopulation\n",
    "\n",
    "    population.sort()\n",
    "\n",
    "    print('Resenje',population[0].fitness)\n",
    "    # Sa ruletskom se dobija 12\n",
    "        "
   ]
  },
  {
   "cell_type": "markdown",
   "metadata": {},
   "source": [
    "#### Primena genetskog i hibridnog na grafove"
   ]
  },
  {
   "cell_type": "code",
   "execution_count": 71,
   "metadata": {},
   "outputs": [
    {
     "name": "stdout",
     "output_type": "stream",
     "text": [
      "Resenje 11\n",
      "Resenje 11\n"
     ]
    }
   ],
   "source": [
    "graph0= [[3],[3],[3],[0,1,2,4],[3,5,6,7],[4],[4],[4]]\n",
    "\n",
    "ga(graph0)\n",
    "hybrid_ga(graph0)"
   ]
  },
  {
   "cell_type": "code",
   "execution_count": 3,
   "metadata": {},
   "outputs": [],
   "source": []
  },
  {
   "cell_type": "code",
   "execution_count": 5,
   "metadata": {},
   "outputs": [],
   "source": []
  },
  {
   "cell_type": "code",
   "execution_count": 6,
   "metadata": {},
   "outputs": [],
   "source": [
    "\n"
   ]
  },
  {
   "cell_type": "code",
   "execution_count": 7,
   "metadata": {},
   "outputs": [],
   "source": [
    "\n"
   ]
  },
  {
   "cell_type": "code",
   "execution_count": 8,
   "metadata": {},
   "outputs": [],
   "source": [
    "\n",
    "                "
   ]
  },
  {
   "cell_type": "code",
   "execution_count": 9,
   "metadata": {},
   "outputs": [
    {
     "name": "stdout",
     "output_type": "stream",
     "text": [
      "Resenje 11\n"
     ]
    }
   ],
   "source": []
  },
  {
   "cell_type": "code",
   "execution_count": null,
   "metadata": {},
   "outputs": [],
   "source": []
  }
 ],
 "metadata": {
  "kernelspec": {
   "display_name": "Python 3",
   "language": "python",
   "name": "python3"
  },
  "language_info": {
   "codemirror_mode": {
    "name": "ipython",
    "version": 3
   },
   "file_extension": ".py",
   "mimetype": "text/x-python",
   "name": "python",
   "nbconvert_exporter": "python",
   "pygments_lexer": "ipython3",
   "version": "3.6.9"
  }
 },
 "nbformat": 4,
 "nbformat_minor": 2
}
