{
 "cells": [
  {
   "cell_type": "code",
   "execution_count": 1,
   "metadata": {},
   "outputs": [],
   "source": [
    "import random"
   ]
  },
  {
   "cell_type": "code",
   "execution_count": 2,
   "metadata": {},
   "outputs": [],
   "source": [
    "\n",
    "def isFeasible(graph, solution):\n",
    "    for i in range(len(graph)):\n",
    "        for neigh in graph[i]:\n",
    "            if(solution[i]==solution[neigh]):\n",
    "                return False\n",
    "            \n",
    "    return True\n",
    "\n",
    "def findAjdColors(i,graph,colors):\n",
    "        ajdColors = []\n",
    "        for ajd in graph[i]:\n",
    "            ajdColors.append(colors[ajd])\n",
    "        return ajdColors\n",
    "        \n",
    "        \n",
    "def correctNonFeasible(graph,colors):\n",
    "        \n",
    "    for i in range(len(graph)):\n",
    "        ajdColors = findAjdColors(i,graph,colors)\n",
    "        if(colors[i] in ajdColors):  \n",
    "            possibleColors = list(set(list(range(1,len(colors)+1)))-set(ajdColors))\n",
    "            #difference = []\n",
    "            #for x in possibleColors:\n",
    "            #    difference.append(abs(colors[i]-x))\n",
    "            #minDifference = float('inf')\n",
    "            #pos = 0\n",
    "           # for i in range(len(difference)):\n",
    "            #    if difference[i] < minDifference:\n",
    "             #       minDifference = difference[i]\n",
    "              #      pos = i\n",
    "            colors[i] = random.choice(possibleColors)\n",
    "            #colors[i] = possibleColors[pos]\n",
    "                \n",
    "\n",
    "\n",
    "def initializeSolution(graph):\n",
    "    colors = []\n",
    "    numberOfColors = len(graph)\n",
    "    for i in range(numberOfColors):\n",
    "            colors.append(random.randrange(1,numberOfColors+1))\n",
    "    \n",
    "    if not isFeasible(graph,colors):\n",
    "        correctNonFeasible(graph,colors)\n",
    "        \n",
    "    return colors\n",
    "\n",
    "# racuna vrednost funkcije cilja\n",
    "def solutionValue(solution):\n",
    "    return sum(solution)"
   ]
  },
  {
   "cell_type": "code",
   "execution_count": 3,
   "metadata": {},
   "outputs": [],
   "source": [
    "def init(numberVertex,position,velocity,bestValue,numberOfParticles,graph):\n",
    "    # za svaku cesticu pravimo bojenje\n",
    "    globalBestValue = float(\"inf\")\n",
    "    for i in range(numberOfParticles):\n",
    "        coloring = initializeSolution(graph)\n",
    "        position.append(coloring)\n",
    "        bestValue.append(solutionValue(coloring))\n",
    "        velocity.append(0.0)\n",
    "        if(solutionValue(coloring)<globalBestValue):\n",
    "            globalBestValue = solutionValue(coloring)\n",
    "            globalBest = coloring\n",
    "\n",
    "    return globalBestValue,globalBest    \n",
    "        \n",
    "        "
   ]
  },
  {
   "cell_type": "code",
   "execution_count": 4,
   "metadata": {},
   "outputs": [],
   "source": [
    "#apdejtujemo vektor brzina\n",
    "max_velocity = 10\n",
    "def updateVelocity(position,velocity,bestValue,globalBestValue):\n",
    "    # za svaku jedinku\n",
    "    for i in range(len(velocity)):\n",
    "        # po formuli \n",
    "        #              koliko pridajemo znajacnosti      pravac\n",
    "        velocity[i] += 2.0*random.random()*(bestValue[i]-solutionValue(position[i])) \\\n",
    "                    + 5.0*random.random()*(globalBestValue-solutionValue(position[i]))\n",
    "        if velocity[i] > max_velocity:\n",
    "            velocity[i] = max_velocity\n",
    "        if velocity[i] < -max_velocity:\n",
    "            velocity[i] = - max_velocity"
   ]
  },
  {
   "cell_type": "code",
   "execution_count": 5,
   "metadata": {},
   "outputs": [],
   "source": [
    "def updatePosition(position,velocity,bestValue,globalBest,globalBestValue,graph):\n",
    "    # za svaku cesticu\n",
    "    for i in range(len(position)):\n",
    "        # prolazimo kroz svaki deo koloringa, na svaki broj dodajemo brzinu\n",
    "        # isto formula\n",
    "        for j in range(len(position[i])):\n",
    "            position[i][j]+=int(velocity[i])#jer nam trebaju celi brojevi, necemo velocity jer bismo stalno zaokruzili i usporili\n",
    "            if position[i][j] > len(graph):\n",
    "                position[i][j] = len(graph)\n",
    "            if position[i][j] < 1:\n",
    "                position[i][j] = 1\n",
    "\n",
    "        if not isFeasible(graph,position[i]):\n",
    "            correctNonFeasible(graph,position[i])\n",
    "        value = solutionValue(position[i])\n",
    "        if value < bestValue[i]:\n",
    "            bestValue[i]=value\n",
    "        if value<globalBestValue:\n",
    "            globalBestValue = value\n",
    "            globalBest = position[i].copy()\n",
    "        \n",
    "        \n",
    "    return globalBestValue    \n",
    "            \n",
    "    "
   ]
  },
  {
   "cell_type": "code",
   "execution_count": 6,
   "metadata": {},
   "outputs": [],
   "source": [
    "def PSO(graph,numberVertex,numberOfParticles,maxIteration):\n",
    "    position = []   #niz svih bojenja\n",
    "    velocity = []  # vektor brzina\n",
    "    bestValue = [] #vektor najboljih pozicija za svaku cesticu\n",
    "    \n",
    "    globalBestValue,globalBest = init(len(graph),position,velocity,bestValue,numberOfParticles,graph)\n",
    "    for iteration in range(maxIteration):\n",
    "        #apdejtujemo brzinu\n",
    "        updateVelocity(position,velocity,bestValue,globalBestValue)\n",
    "        globalBestValue = updatePosition(position,velocity,bestValue,globalBest,globalBestValue,graph)\n",
    "        \n",
    "    print('Najbolje resenje',globalBestValue)\n",
    "    \n",
    "    "
   ]
  },
  {
   "cell_type": "code",
   "execution_count": 7,
   "metadata": {},
   "outputs": [
    {
     "name": "stdout",
     "output_type": "stream",
     "text": [
      "Najbolje resenje 16\n"
     ]
    }
   ],
   "source": [
    "graph_list2 = [[3],[3],[3],[0,1,2,4],[3,5,6,7],[4],[4],[4]]\n",
    "PSO(graph_list2,len(graph_list2),5,250)"
   ]
  },
  {
   "cell_type": "code",
   "execution_count": 8,
   "metadata": {},
   "outputs": [],
   "source": [
    "graph= [[3],[3],[3],[0,1,2,4],[3,5,6,7],[4],[4],[4]]"
   ]
  },
  {
   "cell_type": "code",
   "execution_count": 16,
   "metadata": {},
   "outputs": [
    {
     "name": "stdout",
     "output_type": "stream",
     "text": [
      "Najbolje resenje 29\n"
     ]
    }
   ],
   "source": [
    "graph1 = [[1, 3, 6, 8], [0, 2, 5, 7], [1, 4, 6, 9], \n",
    "          [0, 4, 5, 9], [2, 3, 7, 8], \n",
    "          [1, 3, 10], [0, 2, 10],\n",
    "          [1, 4, 10], [0, 4, 10], [2, 3, 10], \n",
    "          [5, 6, 7, 8, 9]]\n",
    "\n",
    "PSO(graph1,len(graph1),50,4400)"
   ]
  },
  {
   "cell_type": "code",
   "execution_count": null,
   "metadata": {},
   "outputs": [],
   "source": []
  }
 ],
 "metadata": {
  "kernelspec": {
   "display_name": "Python 3",
   "language": "python",
   "name": "python3"
  },
  "language_info": {
   "codemirror_mode": {
    "name": "ipython",
    "version": 3
   },
   "file_extension": ".py",
   "mimetype": "text/x-python",
   "name": "python",
   "nbconvert_exporter": "python",
   "pygments_lexer": "ipython3",
   "version": "3.8.5"
  }
 },
 "nbformat": 4,
 "nbformat_minor": 2
}
