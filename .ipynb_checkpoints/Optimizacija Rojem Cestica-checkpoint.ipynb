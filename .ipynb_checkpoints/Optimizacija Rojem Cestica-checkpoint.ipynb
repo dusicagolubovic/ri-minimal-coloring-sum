{
 "cells": [
  {
   "cell_type": "code",
   "execution_count": 1,
   "metadata": {},
   "outputs": [],
   "source": [
    "import random"
   ]
  },
  {
   "cell_type": "code",
   "execution_count": 2,
   "metadata": {},
   "outputs": [],
   "source": [
    "\n",
    "def isFeasible(graph, solution):\n",
    "    for i in range(len(graph)):\n",
    "        for neigh in graph[i]:\n",
    "            if(solution[i]==solution[neigh]):\n",
    "                return False\n",
    "            \n",
    "    return True\n",
    "\n",
    "def findAjdColors(i,graph,colors):\n",
    "        ajdColors = []\n",
    "        for ajd in graph[i]:\n",
    "            ajdColors.append(colors[ajd])\n",
    "        return ajdColors\n",
    "        \n",
    "        \n",
    "def correctNonFeasible(graph,colors):\n",
    "        \n",
    "    for i in range(len(graph)):\n",
    "        ajdColors = findAjdColors(i,graph,colors)\n",
    "        if(colors[i] in ajdColors):  \n",
    "            possibleColors = list(set([1,2,3,4,5,6,7,8])-set(ajdColors))\n",
    "            difference = []\n",
    "            for x in possibleColors:\n",
    "                difference.append(abs(colors[i]-x))\n",
    "            minDifference = float('inf')\n",
    "            pos = 0\n",
    "            for i in range(len(difference)):\n",
    "                if difference[i] < minDifference:\n",
    "                    minDifference = difference[i]\n",
    "                    pos = i\n",
    "           # colors[i] = random.choice(possibleColors)\n",
    "            colors[i] = possibleColors[pos]\n",
    "                \n",
    "\n",
    "\n",
    "def initializeSolution(graph):\n",
    "    colors = []\n",
    "    numberOfColors = len(graph)\n",
    "    for i in range(numberOfColors):\n",
    "            colors.append(random.randrange(1,numberOfColors+1))\n",
    "    \n",
    "    if not isFeasible(graph,colors):\n",
    "        correctNonFeasible(graph,colors)\n",
    "        \n",
    "    return colors\n",
    "\n",
    "# racuna vrednost funkcije cilja\n",
    "def solutionValue(solution):\n",
    "    return sum(solution)"
   ]
  },
  {
   "cell_type": "code",
   "execution_count": 3,
   "metadata": {},
   "outputs": [],
   "source": [
    "def init(numberVertex,position,velocity,bestValue,numberOfParticles,graph):\n",
    "    # za svaku cesticu pravimo bojenje\n",
    "    globalBestValue = float(\"inf\")\n",
    "    for i in range(numberOfParticles):\n",
    "        coloring = initializeSolution(graph)\n",
    "        position.append(coloring)\n",
    "        bestValue.append(solutionValue(coloring))\n",
    "        velocity.append(0.0)\n",
    "        if(solutionValue(coloring)<globalBestValue):\n",
    "            globalBestValue = solutionValue(coloring)\n",
    "            globalBest = coloring\n",
    "\n",
    "    return globalBestValue,globalBest    \n",
    "        \n",
    "        "
   ]
  },
  {
   "cell_type": "code",
   "execution_count": 4,
   "metadata": {},
   "outputs": [],
   "source": [
    "#apdejtujemo vektor brzina\n",
    "max_velocity = 10\n",
    "def updateVelocity(position,velocity,bestValue,globalBestValue):\n",
    "    # za svaku jedinku\n",
    "    for i in range(len(velocity)):\n",
    "        # po formuli \n",
    "        #              koliko pridajemo znajacnosti      pravac\n",
    "        velocity[i] += 2.0*random.random()*(bestValue[i]-solutionValue(position[i])) \\\n",
    "                    + 2.0*random.random()*(globalBestValue-solutionValue(position[i]))\n",
    "        if velocity[i] > max_velocity:\n",
    "            velocity[i] = max_velocity\n",
    "        if velocity[i] < -max_velocity:\n",
    "            velocity[i] = - max_velocity"
   ]
  },
  {
   "cell_type": "code",
   "execution_count": 5,
   "metadata": {},
   "outputs": [],
   "source": [
    "def updatePosition(position,velocity,bestValue,globalBest,globalBestValue,graph):\n",
    "    # za svaku cesticu\n",
    "    for i in range(len(position)):\n",
    "        # prolazimo kroz svaki deo koloringa, na svaki broj dodajemo brzinu\n",
    "        # isto formula\n",
    "        for j in range(len(position[i])):\n",
    "            position[i][j]+=int(velocity[i])#jer nam trebaju celi brojevi, necemo velocity jer bismo stalno zaokruzili i usporili\n",
    "            if position[i][j] > len(graph):\n",
    "                position[i][j] = len(graph)\n",
    "            if position[i][j] < 1:\n",
    "                position[i][j] = 1\n",
    "\n",
    "        if not isFeasible(position[i]):\n",
    "            correctNonFeasible(graph,position[i])\n",
    "        value = solutionValue(position[i])\n",
    "        if value < bestValue[i]:\n",
    "            bestValue[i]=value\n",
    "        if value<globalBestValue:\n",
    "            globalBestValue = value\n",
    "            globalBest = position[i].copy()\n",
    "        \n",
    "        \n",
    "    return globalBestValue    \n",
    "            \n",
    "    "
   ]
  },
  {
   "cell_type": "code",
   "execution_count": 6,
   "metadata": {},
   "outputs": [],
   "source": [
    "def PSO(graph,numberVertex,numberOfParticles,maxIteration):\n",
    "    position = []   #niz svih bojenja\n",
    "    velocity = []  # vektor brzina\n",
    "    bestValue = [] #vektor najboljih pozicija za svaku cesticu\n",
    "    \n",
    "    globalBestValue,globalBest = init(len(graph),position,velocity,bestValue,numberOfParticles,graph)\n",
    "    for iteration in range(maxIteration):\n",
    "        #apdejtujemo brzinu\n",
    "        updateVelocity(position,velocity,bestValue,globalBestValue)\n",
    "        globalBestValue = updatePosition(position,velocity,bestValue,globalBest,globalBestValue,graph)\n",
    "        \n",
    "    print('Najbolje resenje',globalBestValue)\n",
    "    \n",
    "    "
   ]
  },
  {
   "cell_type": "code",
   "execution_count": 7,
   "metadata": {},
   "outputs": [
    {
     "ename": "TypeError",
     "evalue": "'list' object cannot be interpreted as an integer",
     "output_type": "error",
     "traceback": [
      "\u001b[0;31m---------------------------------------------------------------------------\u001b[0m",
      "\u001b[0;31mTypeError\u001b[0m                                 Traceback (most recent call last)",
      "\u001b[0;32m<ipython-input-7-b4b6ecf51c3a>\u001b[0m in \u001b[0;36m<module>\u001b[0;34m\u001b[0m\n\u001b[1;32m      1\u001b[0m \u001b[0mgraph_list2\u001b[0m \u001b[0;34m=\u001b[0m \u001b[0;34m[\u001b[0m\u001b[0;34m[\u001b[0m\u001b[0;36m3\u001b[0m\u001b[0;34m]\u001b[0m\u001b[0;34m,\u001b[0m\u001b[0;34m[\u001b[0m\u001b[0;36m3\u001b[0m\u001b[0;34m]\u001b[0m\u001b[0;34m,\u001b[0m\u001b[0;34m[\u001b[0m\u001b[0;36m3\u001b[0m\u001b[0;34m]\u001b[0m\u001b[0;34m,\u001b[0m\u001b[0;34m[\u001b[0m\u001b[0;36m0\u001b[0m\u001b[0;34m,\u001b[0m\u001b[0;36m1\u001b[0m\u001b[0;34m,\u001b[0m\u001b[0;36m2\u001b[0m\u001b[0;34m,\u001b[0m\u001b[0;36m4\u001b[0m\u001b[0;34m]\u001b[0m\u001b[0;34m,\u001b[0m\u001b[0;34m[\u001b[0m\u001b[0;36m3\u001b[0m\u001b[0;34m,\u001b[0m\u001b[0;36m5\u001b[0m\u001b[0;34m,\u001b[0m\u001b[0;36m6\u001b[0m\u001b[0;34m,\u001b[0m\u001b[0;36m7\u001b[0m\u001b[0;34m]\u001b[0m\u001b[0;34m,\u001b[0m\u001b[0;34m[\u001b[0m\u001b[0;36m4\u001b[0m\u001b[0;34m]\u001b[0m\u001b[0;34m,\u001b[0m\u001b[0;34m[\u001b[0m\u001b[0;36m4\u001b[0m\u001b[0;34m]\u001b[0m\u001b[0;34m,\u001b[0m\u001b[0;34m[\u001b[0m\u001b[0;36m4\u001b[0m\u001b[0;34m]\u001b[0m\u001b[0;34m]\u001b[0m\u001b[0;34m\u001b[0m\u001b[0;34m\u001b[0m\u001b[0m\n\u001b[0;32m----> 2\u001b[0;31m \u001b[0mPSO\u001b[0m\u001b[0;34m(\u001b[0m\u001b[0mgraph_list2\u001b[0m\u001b[0;34m,\u001b[0m\u001b[0mlen\u001b[0m\u001b[0;34m(\u001b[0m\u001b[0mgraph_list2\u001b[0m\u001b[0;34m)\u001b[0m\u001b[0;34m,\u001b[0m\u001b[0;36m5\u001b[0m\u001b[0;34m,\u001b[0m\u001b[0;36m550\u001b[0m\u001b[0;34m)\u001b[0m\u001b[0;34m\u001b[0m\u001b[0;34m\u001b[0m\u001b[0m\n\u001b[0m",
      "\u001b[0;32m<ipython-input-6-7eeab53260e5>\u001b[0m in \u001b[0;36mPSO\u001b[0;34m(graph, numberVertex, numberOfParticles, maxIteration)\u001b[0m\n\u001b[1;32m      8\u001b[0m         \u001b[0;31m#apdejtujemo brzinu\u001b[0m\u001b[0;34m\u001b[0m\u001b[0;34m\u001b[0m\u001b[0;34m\u001b[0m\u001b[0m\n\u001b[1;32m      9\u001b[0m         \u001b[0mupdateVelocity\u001b[0m\u001b[0;34m(\u001b[0m\u001b[0mposition\u001b[0m\u001b[0;34m,\u001b[0m\u001b[0mvelocity\u001b[0m\u001b[0;34m,\u001b[0m\u001b[0mbestValue\u001b[0m\u001b[0;34m,\u001b[0m\u001b[0mglobalBestValue\u001b[0m\u001b[0;34m)\u001b[0m\u001b[0;34m\u001b[0m\u001b[0;34m\u001b[0m\u001b[0m\n\u001b[0;32m---> 10\u001b[0;31m         \u001b[0mglobalBestValue\u001b[0m \u001b[0;34m=\u001b[0m \u001b[0mupdatePosition\u001b[0m\u001b[0;34m(\u001b[0m\u001b[0mposition\u001b[0m\u001b[0;34m,\u001b[0m\u001b[0mvelocity\u001b[0m\u001b[0;34m,\u001b[0m\u001b[0mbestValue\u001b[0m\u001b[0;34m,\u001b[0m\u001b[0mglobalBest\u001b[0m\u001b[0;34m,\u001b[0m\u001b[0mglobalBestValue\u001b[0m\u001b[0;34m,\u001b[0m\u001b[0mgraph\u001b[0m\u001b[0;34m)\u001b[0m\u001b[0;34m\u001b[0m\u001b[0;34m\u001b[0m\u001b[0m\n\u001b[0m\u001b[1;32m     11\u001b[0m \u001b[0;34m\u001b[0m\u001b[0m\n\u001b[1;32m     12\u001b[0m     \u001b[0mprint\u001b[0m\u001b[0;34m(\u001b[0m\u001b[0;34m'Najbolje resenje'\u001b[0m\u001b[0;34m,\u001b[0m\u001b[0mglobalBestValue\u001b[0m\u001b[0;34m)\u001b[0m\u001b[0;34m\u001b[0m\u001b[0;34m\u001b[0m\u001b[0m\n",
      "\u001b[0;32m<ipython-input-5-cb64d8209514>\u001b[0m in \u001b[0;36mupdatePosition\u001b[0;34m(position, velocity, bestValue, globalBest, globalBestValue, graph)\u001b[0m\n\u001b[1;32m      4\u001b[0m         \u001b[0;31m# prolazimo kroz svaki deo koloringa, na svaki broj dodajemo brzinu\u001b[0m\u001b[0;34m\u001b[0m\u001b[0;34m\u001b[0m\u001b[0;34m\u001b[0m\u001b[0m\n\u001b[1;32m      5\u001b[0m         \u001b[0;31m# isto formula\u001b[0m\u001b[0;34m\u001b[0m\u001b[0;34m\u001b[0m\u001b[0;34m\u001b[0m\u001b[0m\n\u001b[0;32m----> 6\u001b[0;31m         \u001b[0;32mfor\u001b[0m \u001b[0mj\u001b[0m \u001b[0;32min\u001b[0m \u001b[0mrange\u001b[0m\u001b[0;34m(\u001b[0m\u001b[0mposition\u001b[0m\u001b[0;34m[\u001b[0m\u001b[0mi\u001b[0m\u001b[0;34m]\u001b[0m\u001b[0;34m)\u001b[0m\u001b[0;34m:\u001b[0m\u001b[0;34m\u001b[0m\u001b[0;34m\u001b[0m\u001b[0m\n\u001b[0m\u001b[1;32m      7\u001b[0m             \u001b[0mposition\u001b[0m\u001b[0;34m[\u001b[0m\u001b[0mi\u001b[0m\u001b[0;34m]\u001b[0m\u001b[0;34m[\u001b[0m\u001b[0mj\u001b[0m\u001b[0;34m]\u001b[0m\u001b[0;34m+=\u001b[0m\u001b[0mint\u001b[0m\u001b[0;34m(\u001b[0m\u001b[0mvelocity\u001b[0m\u001b[0;34m[\u001b[0m\u001b[0mi\u001b[0m\u001b[0;34m]\u001b[0m\u001b[0;34m)\u001b[0m\u001b[0;31m#jer nam trebaju celi brojevi, necemo velocity jer bismo stalno zaokruzili i usporili\u001b[0m\u001b[0;34m\u001b[0m\u001b[0;34m\u001b[0m\u001b[0m\n\u001b[1;32m      8\u001b[0m             \u001b[0;32mif\u001b[0m \u001b[0mposition\u001b[0m\u001b[0;34m[\u001b[0m\u001b[0mi\u001b[0m\u001b[0;34m]\u001b[0m\u001b[0;34m[\u001b[0m\u001b[0mj\u001b[0m\u001b[0;34m]\u001b[0m \u001b[0;34m>\u001b[0m \u001b[0mlen\u001b[0m\u001b[0;34m(\u001b[0m\u001b[0mgraph\u001b[0m\u001b[0;34m)\u001b[0m\u001b[0;34m:\u001b[0m\u001b[0;34m\u001b[0m\u001b[0;34m\u001b[0m\u001b[0m\n",
      "\u001b[0;31mTypeError\u001b[0m: 'list' object cannot be interpreted as an integer"
     ]
    }
   ],
   "source": [
    "graph_list2 = [[3],[3],[3],[0,1,2,4],[3,5,6,7],[4],[4],[4]]\n",
    "PSO(graph_list2,len(graph_list2),5,550)"
   ]
  },
  {
   "cell_type": "code",
   "execution_count": null,
   "metadata": {},
   "outputs": [],
   "source": [
    "graph= [[3],[3],[3],[0,1,2,4],[3,5,6,7],[4],[4],[4]]"
   ]
  },
  {
   "cell_type": "code",
   "execution_count": null,
   "metadata": {},
   "outputs": [],
   "source": []
  }
 ],
 "metadata": {
  "kernelspec": {
   "display_name": "Python 3",
   "language": "python",
   "name": "python3"
  },
  "language_info": {
   "codemirror_mode": {
    "name": "ipython",
    "version": 3
   },
   "file_extension": ".py",
   "mimetype": "text/x-python",
   "name": "python",
   "nbconvert_exporter": "python",
   "pygments_lexer": "ipython3",
   "version": "3.7.3"
  }
 },
 "nbformat": 4,
 "nbformat_minor": 2
}
