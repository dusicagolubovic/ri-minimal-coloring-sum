{
 "cells": [
  {
   "cell_type": "markdown",
   "metadata": {},
   "source": [
    "### Pohlepni algoritam (BFS)"
   ]
  },
  {
   "cell_type": "code",
   "execution_count": 3,
   "metadata": {},
   "outputs": [],
   "source": [
    "def bfs(graph, root):\n",
    "  \n",
    "    visited = [root]\n",
    "    queue = [root]\n",
    "  \n",
    "    color_dict = [-1 for i in range(len(graph))]\n",
    "\n",
    "    while queue:\n",
    "    \n",
    "        s = queue.pop(0)\n",
    "\n",
    "\n",
    "        #ovo moze lepse vrv\n",
    "        not_satisfied = True\n",
    "        color = 1\n",
    "\n",
    "      \n",
    "\n",
    "        adj = list(map(lambda x : color_dict[x], graph[s]))\n",
    "        #print ('adj:',adj, end = '\\n')\n",
    "        while not_satisfied:\n",
    "            if color not in adj:\n",
    "                color_dict[s] = color\n",
    "                not_satisfied = False\n",
    "            else: \n",
    "                color = color + 1\n",
    "      \n",
    "        for neighbour in graph[s]:\n",
    "            if neighbour not in visited:\n",
    "                visited.append(neighbour)\n",
    "                queue.append(neighbour)\n",
    "\n",
    "    return color_dict\n",
    "\n",
    "\n",
    "#color_dict = bfs(graph3,1)\n",
    "#print(color_dict)"
   ]
  },
  {
   "cell_type": "code",
   "execution_count": 4,
   "metadata": {},
   "outputs": [],
   "source": [
    "graph0= [[3],[3],[3],[0,1,2,4],[3,5,6,7],[4],[4],[4]]\n",
    "\n",
    "graph1 = [[1, 3, 6, 8], [0, 2, 5, 7], [1, 4, 6, 9], \n",
    "          [0, 4, 5, 9], [2, 3, 7, 8], \n",
    "          [1, 3, 10], [0, 2, 10],\n",
    "          [1, 4, 10], [0, 4, 10], [2, 3, 10], \n",
    "          [5, 6, 7, 8, 9]]\n",
    "\n",
    "graph2 =[[1, 3, 6, 8, 12, 14, 17, 19, 24, 26, 29, 31, 35, 37, 40, 42],\n",
    " [0, 2, 5, 7, 11, 13, 16, 18, 23, 25, 28, 30, 34, 36, 39, 41],\n",
    " [1, 4, 6, 9, 12, 15, 17, 20, 24, 27, 29, 32, 35, 38, 40, 43],\n",
    " [0, 4, 5, 9, 11, 15, 16, 20, 23, 27, 28, 32, 34, 38, 39, 43],\n",
    " [2, 3, 7, 8, 13, 14, 18, 19, 25, 26, 30, 31, 36, 37, 41, 42],\n",
    " [1, 3, 10, 12, 14, 21, 24, 26, 33, 35, 37, 44],\n",
    " [0, 2, 10, 11, 13, 21, 23, 25, 33, 34, 36, 44],\n",
    " [1, 4, 10, 12, 15, 21, 24, 27, 33, 35, 38, 44],\n",
    " [0, 4, 10, 11, 15, 21, 23, 27, 33, 34, 38, 44],\n",
    " [2, 3, 10, 13, 14, 21, 25, 26, 33, 36, 37, 44],\n",
    " [5, 6, 7, 8, 9, 16, 17, 18, 19, 20, 28, 29, 30, 31, 32, 39, 40, 41, 42, 43],\n",
    " [1, 3, 6, 8, 22, 24, 26, 29, 31, 45],\n",
    " [0, 2, 5, 7, 22, 23, 25, 28, 30, 45],\n",
    " [1, 4, 6, 9, 22, 24, 27, 29, 32, 45],\n",
    " [0, 4, 5, 9, 22, 23, 27, 28, 32, 45],\n",
    " [2, 3, 7, 8, 22, 25, 26, 30, 31, 45],\n",
    " [1, 3, 10, 22, 24, 26, 33, 45],\n",
    " [0, 2, 10, 22, 23, 25, 33, 45],\n",
    " [1, 4, 10, 22, 24, 27, 33, 45],\n",
    " [0, 4, 10, 22, 23, 27, 33, 45],\n",
    " [2, 3, 10, 22, 25, 26, 33, 45],\n",
    " [5, 6, 7, 8, 9, 22, 28, 29, 30, 31, 32, 45],\n",
    " [11,12,13,14,15,16,17,18,19,20,21,34,35,36,37,38,39,40,41,42,43,44],\n",
    " [1, 3, 6, 8, 12, 14, 17, 19, 46],\n",
    " [0, 2, 5, 7, 11, 13, 16, 18, 46],\n",
    " [1, 4, 6, 9, 12, 15, 17, 20, 46],\n",
    " [0, 4, 5, 9, 11, 15, 16, 20, 46],\n",
    " [2, 3, 7, 8, 13, 14, 18, 19, 46],\n",
    " [1, 3, 10, 12, 14, 21, 46],\n",
    " [0, 2, 10, 11, 13, 21, 46],\n",
    " [1, 4, 10, 12, 15, 21, 46],\n",
    " [0, 4, 10, 11, 15, 21, 46],\n",
    " [2, 3, 10, 13, 14, 21, 46],\n",
    " [5, 6, 7, 8, 9, 16, 17, 18, 19, 20, 46],\n",
    " [1, 3, 6, 8, 22, 46],\n",
    " [0, 2, 5, 7, 22, 46],\n",
    " [1, 4, 6, 9, 22, 46],\n",
    " [0, 4, 5, 9, 22, 46],\n",
    " [2, 3, 7, 8, 22, 46],\n",
    " [1, 3, 10, 22, 46],\n",
    " [0, 2, 10, 22, 46],\n",
    " [1, 4, 10, 22, 46],\n",
    " [0, 4, 10, 22, 46],\n",
    " [2, 3, 10, 22, 46],\n",
    " [5, 6, 7, 8, 9, 22, 46],\n",
    " [11, 12, 13, 14, 15, 16, 17, 18, 19, 20, 21, 46],\n",
    " [23,24,25,26,27,28,29,30,31,32,33,34,35,36,37,38,39,40,41,42,43,44,45]]"
   ]
  },
  {
   "cell_type": "code",
   "execution_count": 6,
   "metadata": {},
   "outputs": [],
   "source": [
    "import time"
   ]
  },
  {
   "cell_type": "code",
   "execution_count": 9,
   "metadata": {},
   "outputs": [
    {
     "name": "stdout",
     "output_type": "stream",
     "text": [
      "2.1000000003823516e-05\n",
      "\n",
      "Resenje [1, 1, 1, 2, 1, 2, 2, 2]\n",
      "\n",
      "4.020000000082291e-05\n",
      "\n",
      "Resenje [1, 2, 1, 2, 3, 1, 2, 1, 2, 3, 4]\n",
      "\n",
      "0.00029419999998481217\n",
      "\n",
      "Resenje [1, 2, 1, 2, 3, 1, 2, 1, 2, 3, 4, 1, 2, 1, 2, 3, 1, 2, 1, 2, 3, 4, 5, 1, 2, 1, 2, 3, 1, 2, 1, 2, 3, 4, 1, 2, 1, 2, 3, 1, 2, 1, 2, 3, 4, 5, 6]\n",
      "\n",
      "1.809999997703926e-05\n",
      "\n",
      "Resenje [1, 1, 1, 2, 1, 2, 2, 2]\n",
      "\n",
      "3.429999998161293e-05\n",
      "\n",
      "Resenje [2, 1, 2, 1, 3, 2, 1, 2, 1, 3, 4]\n",
      "\n",
      "0.0003241000000002714\n",
      "\n",
      "Resenje [2, 1, 2, 1, 3, 2, 1, 2, 1, 3, 4, 2, 1, 2, 1, 3, 2, 1, 2, 1, 3, 4, 5, 2, 1, 2, 1, 3, 2, 1, 2, 1, 3, 4, 2, 1, 2, 1, 3, 2, 1, 2, 1, 3, 4, 5, 6]\n",
      "\n"
     ]
    }
   ],
   "source": [
    "for graph in [graph0, graph1, graph2]:\n",
    "    start = time.perf_counter()\n",
    "    solution = bfs(graph, 0)\n",
    "    end = time.perf_counter()\n",
    "    print(end-start)\n",
    "    timeExec = end - start\n",
    "\n",
    "    string = '\\n' + \"Resenje \"+str(solution)+ \"\\n\"\n",
    "    print(string)\n",
    "    #file = open(\"Parametri_genetski.txt\",\"a\")\n",
    "    #file.write(string)\n",
    "\n",
    "    \n",
    "for graph in [graph0, graph1, graph2]:\n",
    "    start = time.perf_counter()\n",
    "    solution = bfs(graph, 1)\n",
    "    end = time.perf_counter()\n",
    "    print(end-start)\n",
    "    timeExec = end - start\n",
    "\n",
    "    string = '\\n' + \"Resenje \"+str(solution)+ \"\\n\"\n",
    "    print(string)\n",
    "    #file = open(\"Parametri_genetski.txt\",\"a\")\n",
    "    #file.write(string)    "
   ]
  },
  {
   "cell_type": "code",
   "execution_count": 47,
   "metadata": {},
   "outputs": [
    {
     "data": {
      "text/plain": [
       "{1: 5, 2: 3, 3: 2, 4: 1}"
      ]
     },
     "execution_count": 47,
     "metadata": {},
     "output_type": "execute_result"
    }
   ],
   "source": [
    "import operator\n",
    "def adapt_colors(colors):\n",
    "    color_dict={}\n",
    "    for color in colors:\n",
    "        if color not in color_dict:\n",
    "            color_dict.update( {color : 1} )\n",
    "        else:\n",
    "            color_dict[color] = color_dict[color] + 1\n",
    "            \n",
    "    temp_dict = sorted(color_dict.items(), key=operator.itemgetter(0))\n",
    "    color_dict = {k: v for k, v in temp_dict}\n",
    "\n",
    "    \n",
    "    sorted_tuples = sorted(color_dict.items(), key=operator.itemgetter(1), reverse=True)\n",
    "    \n",
    "    sorted_dict = {k: v for k, v in sorted_tuples}\n",
    "\n",
    "\n",
    "    \n",
    "    #neefikasno ali nmvz\n",
    "    for k1,k2 in zip(color_dict, sorted_dict):\n",
    "        color_dict[k1] = sorted_dict[k2]\n",
    "\n",
    "    return color_dict\n",
    "    \n",
    "adapt_colors([2, 1, 2, 2, 3, 1, 2, 1, 2, 4, 4])"
   ]
  },
  {
   "cell_type": "code",
   "execution_count": 20,
   "metadata": {},
   "outputs": [
    {
     "name": "stdout",
     "output_type": "stream",
     "text": [
      "0.011421500000324158\n",
      "\n",
      "Resenje [-1, 1, 1, 1, 18, 2, 29, 43, 42, 17, 41, 6, 3, 32, 34, 3, 4, 2, 16, 30, 40, 15, 13, 24, 39, 38, 14, 28, 37, 4, 36, 5, 6, 7, 2, 10, 22, 9, 35, 23, 13, 34, 7, 19, 12, 33, 32, 14, 5, 12, 5, 1, 31, 30, 7, 4, 5, 26, 29, 11, 7, 28, 27, 4, 21, 5, 26, 9, 25, 24, 18, 20, 2, 18, 20, 23, 22, 6, 6, 29, 24, 3, 21, 20, 19, 8, 18, 8, 17, 14, 32, 16, 15, 10, 11, 4, 13, 9, 30, 14, 13, 3, 33, 13, 10, 35, 2, 12, 11, 34, 10, 8, 1, 9, 8, 7, 6, 36, 2, 7, 8, 11, 6, 5, 9, 12, 4, 3, 2]\n",
      "\n"
     ]
    }
   ],
   "source": []
  }
 ],
 "metadata": {
  "kernelspec": {
   "display_name": "Python 3",
   "language": "python",
   "name": "python3"
  },
  "language_info": {
   "codemirror_mode": {
    "name": "ipython",
    "version": 3
   },
   "file_extension": ".py",
   "mimetype": "text/x-python",
   "name": "python",
   "nbconvert_exporter": "python",
   "pygments_lexer": "ipython3",
   "version": "3.7.1"
  }
 },
 "nbformat": 4,
 "nbformat_minor": 2
}
