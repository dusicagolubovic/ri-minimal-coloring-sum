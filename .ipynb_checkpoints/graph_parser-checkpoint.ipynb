{
 "cells": [
  {
   "cell_type": "markdown",
   "metadata": {},
   "source": [
    "# Graph Parser"
   ]
  },
  {
   "cell_type": "code",
   "execution_count": 90,
   "metadata": {},
   "outputs": [
    {
     "name": "stdout",
     "output_type": "stream",
     "text": [
      "95\n",
      "[[], [], [], [], [], [], [], [], [], [], [], [], [], [], [], [], [], [], [], [], [], [], [], [], [], [], [], [], [], [], [], [], [], [], [], [], [], [], [], [], [], [], [], [], [], [], [], [], [], [], [], [], [], [], [], [], [], [], [], [], [], [], [], [], [], [], [], [], [], [], [], [], [], [], [], [], [], [], [], [], [], [], [], [], [], [], [], [], [], [], [], [], [], [], [], []]\n",
      "[[], [], [], [], [], [], [], [], [], [], [], [], [], [], [], [], [], [], [], [], [], [], [], [], [], [], [], [], [], [], [], [], [], [], [], [], [], [], [], [], [], [], [], [], [], [], [], [], [], [], [], [], [], [], [], [], [], [], [], [], [], [], [], [], [], [], [], [], [], [], [], [], [], [], [], [], [], [], [], [], [], [], [], [], [], [], [], [], [], [], [], [], [], [], [], []]\n"
     ]
    }
   ],
   "source": [
    "import codecs\n",
    "\n",
    "graph_list = []\n",
    "dim = 0\n",
    "\n",
    "#trazenje dimenzije liste\n",
    "with codecs.open('graph2.txt', encoding='ascii') as graph_text:\n",
    " \n",
    "    \n",
    "    for line in graph_text:\n",
    "        if line.startswith('e'):\n",
    "            line = line[:-2]  \n",
    "            line = line.split(' ')\n",
    "            del line[0]    \n",
    "            int_list = list(map(int,line))\n",
    "            dim = max(dim, int(int_list[0]), int(int_list[1]))\n",
    "        \n",
    "    print(dim)\n",
    "    \n",
    "    for i in range(0,dim+1):\n",
    "        graph_list.append([])\n",
    "    print(graph_list)\n",
    "\n",
    "#popunjavanje liste\n",
    "with codecs.open('graph2.txt', encoding='ascii') as graph_text:        \n",
    "\n",
    "    for line in graph_text:\n",
    "        if line.startswith('e'):\n",
    "            print(line)\n",
    "            line = line[:-2]  \n",
    "            line = line.split(' ')\n",
    "            del line[0]    \n",
    "            int_list = list(map(int,line))\n",
    "            print(int_list)\n",
    "            print(int_list[0],int_list[1])\n",
    "            graph_list[int_list[0]].append(int_list[1])\n",
    "            graph_list[int_list[1]].append(int_list[0])\n",
    "            print(graph_list)\n",
    "            \n",
    "\n",
    "            \n",
    "            \n",
    "          \n",
    "    print(graph_list)\n"
   ]
  },
  {
   "cell_type": "code",
   "execution_count": null,
   "metadata": {},
   "outputs": [],
   "source": []
  },
  {
   "cell_type": "code",
   "execution_count": null,
   "metadata": {},
   "outputs": [],
   "source": []
  },
  {
   "cell_type": "code",
   "execution_count": null,
   "metadata": {},
   "outputs": [],
   "source": []
  },
  {
   "cell_type": "code",
   "execution_count": null,
   "metadata": {},
   "outputs": [],
   "source": []
  },
  {
   "cell_type": "code",
   "execution_count": null,
   "metadata": {},
   "outputs": [],
   "source": []
  },
  {
   "cell_type": "code",
   "execution_count": null,
   "metadata": {},
   "outputs": [],
   "source": []
  }
 ],
 "metadata": {
  "kernelspec": {
   "display_name": "Python 3",
   "language": "python",
   "name": "python3"
  },
  "language_info": {
   "codemirror_mode": {
    "name": "ipython",
    "version": 3
   },
   "file_extension": ".py",
   "mimetype": "text/x-python",
   "name": "python",
   "nbconvert_exporter": "python",
   "pygments_lexer": "ipython3",
   "version": "3.7.1"
  }
 },
 "nbformat": 4,
 "nbformat_minor": 2
}
