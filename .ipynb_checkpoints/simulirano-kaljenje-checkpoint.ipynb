{
 "cells": [
  {
   "cell_type": "markdown",
   "metadata": {},
   "source": [
    "### Algoritam simuliranog kaljanja\n",
    "\n",
    "Prvo cemo na jednom resenju pa potom ubacujemo u genetski"
   ]
  },
  {
   "cell_type": "code",
   "execution_count": 1,
   "metadata": {},
   "outputs": [],
   "source": [
    "import random\n",
    "import time\n",
    "from numpy import log as ln\n",
    "\n",
    "def isFeasible(graph, solution):\n",
    "    for i in range(len(graph)):\n",
    "        for neigh in graph[i]:\n",
    "            if(solution[i]==solution[neigh]):\n",
    "                return False\n",
    "            \n",
    "    return True\n",
    "\n",
    "def findAjdColors(i,graph,colors):\n",
    "        ajdColors = []\n",
    "        for ajd in graph[i]:\n",
    "            ajdColors.append(colors[ajd])\n",
    "        return ajdColors\n",
    "        \n",
    "        \n",
    "def correctNonFeasible(graph,colors):\n",
    "        \n",
    "    for i in range(len(graph)):\n",
    "        ajdColors = findAjdColors(i,graph,colors)\n",
    "        if(colors[i] in ajdColors):  \n",
    "            possibleColors = list(set(list(range(1,len(colors)+1)))-set(ajdColors))\n",
    "            colors[i] = random.choice(possibleColors)\n",
    "    \n",
    "\n",
    "\n",
    "def initializeSolution(graph):\n",
    "    colors = []\n",
    "    numberOfColors = len(graph)\n",
    "    for i in range(numberOfColors):\n",
    "            colors.append(random.randrange(1,numberOfColors+1))\n",
    "    \n",
    "    if not isFeasible(graph,colors):\n",
    "        correctNonFeasible(graph,colors)\n",
    "        \n",
    "    return colors\n",
    "\n",
    "# racuna vrednost funkcije cilja\n",
    "def solutionValue(solution):\n",
    "    return sum(solution)\n",
    "# biramo resenje iz okoline\n",
    "# random odaberemo indeks i smanjimo mu vrednost boje\n",
    "oldValue = 0\n",
    "\n",
    "def adjacencySolution(solution,graph):\n",
    "    global oldValue\n",
    "    position = random.randrange(0,len(graph))\n",
    "    oldValue = solution[position]\n",
    "    oldPosition = position\n",
    "   # if solution[position]==1:\n",
    "    #    solution[position]=solution[position]+1\n",
    "    #else:\n",
    "     #   solution[position]=solution[position]-1\n",
    "      \n",
    "    newColor = random.randrange(1,len(graph)+1)\n",
    "    solution[position] = newColor\n",
    "    if isFeasible(graph,solution):\n",
    "        return position\n",
    "    solution[position] = oldValue\n",
    "    return -1\n",
    "            \n",
    "    \n",
    "# vracamo staru vrednost ako ne dobijamo bolje resenje\n",
    "\n",
    "def restore(position,solution):\n",
    "    solution[position] = oldValue\n",
    "\n"
   ]
  },
  {
   "cell_type": "code",
   "execution_count": 2,
   "metadata": {},
   "outputs": [],
   "source": [
    "# Algoritam simuliranog kaljenja\n",
    "def simulatedAnnealing(graph,solution,maxIters):\n",
    "    currValue = solutionValue(solution)\n",
    "    bestValue = currValue # na pocetku od pocetnog resenja \n",
    "    i=1\n",
    "    # ponavljamo postupak dok ne dostignemo maksimalno iteracija\n",
    "    while i<maxIters:\n",
    "        # uzimamo resenje u okolini\n",
    "        j = adjacencySolution(solution,graph)\n",
    "        # ako nije dopustivo idemo na narednu iteraciju \n",
    "        if j<0: \n",
    "            continue\n",
    "        newValue = solutionValue(solution)\n",
    "        if newValue < currValue:\n",
    "            currValue = newValue\n",
    "        else:\n",
    "            # Racunamo vrednost opadajuce fje\n",
    "            # Uzimamo druge fje p\n",
    "            \n",
    "            p = 1.0 / i ** 0.5\n",
    "           # p = ln(2) / ln(1+i) \n",
    "            q = random.uniform(0, 1) #treba nam random vr [0,1]\n",
    "            if p > q:\n",
    "                currValue = newValue\n",
    "            else:\n",
    "                restore(j, solution)\n",
    "        if newValue < bestValue:\n",
    "            bestValue = newValue\n",
    "        i += 1\n",
    "    return bestValue"
   ]
  },
  {
   "cell_type": "code",
   "execution_count": 3,
   "metadata": {},
   "outputs": [],
   "source": [
    "graph1 = [[2, 4, 7, 9], [1, 3, 6, 8], [2, 5, 7, 10], \n",
    "          [1, 5, 6, 10], [3, 4, 8, 9], \n",
    "          [2, 4, 11], [1, 3, 11],\n",
    "          [2, 5, 11], [1, 5, 11], [3, 4, 11], \n",
    "          [6, 7, 8, 9, 10]]\n"
   ]
  },
  {
   "cell_type": "code",
   "execution_count": 4,
   "metadata": {},
   "outputs": [
    {
     "name": "stdout",
     "output_type": "stream",
     "text": [
      "Najbolje resenje 12\n"
     ]
    }
   ],
   "source": [
    "graph_list2 = [[3],[3],[3],[0,1,2,4],[3,5,6,7],[4],[4],[4]]\n",
    "solution = initializeSolution(graph_list2)\n",
    "value = simulatedAnnealing(graph_list2,solution,500)\n",
    "print('Najbolje resenje',value)"
   ]
  },
  {
   "cell_type": "code",
   "execution_count": 5,
   "metadata": {},
   "outputs": [
    {
     "name": "stdout",
     "output_type": "stream",
     "text": [
      "Najbolje resenje 21\n"
     ]
    }
   ],
   "source": [
    "graph1 = [[1, 3, 6, 8], [0, 2, 5, 7], [1, 4, 6, 9], \n",
    "          [0, 4, 5, 9], [2, 3, 7, 8], \n",
    "          [1, 3, 10], [0, 2, 10],\n",
    "          [1, 4, 10], [0, 4, 10], [2, 3, 10], \n",
    "          [5, 6, 7, 8, 9]]\n",
    "\n",
    "\n",
    "\n",
    "solution = initializeSolution(graph1)\n",
    "value = simulatedAnnealing(graph1,solution,2000)\n",
    "print('Najbolje resenje',value)\n"
   ]
  },
  {
   "cell_type": "code",
   "execution_count": 6,
   "metadata": {},
   "outputs": [],
   "source": [
    "graph2 = [[2, 4, 7, 9, 13, 15, 18, 20, 25, 27, 30, 32, 36, 38, 41, 43], \n",
    " [1, 3, 6, 8, 12, 14, 17, 19, 24, 26, 29, 31, 35, 37, 40, 42],\n",
    " [2, 5, 7, 10, 13, 16, 18, 21, 25, 28, 30, 33, 36, 39, 41, 44], \n",
    " [1, 5, 6, 10, 12, 16, 17, 21, 24, 28, 29, 33, 35, 39, 40, 44],\n",
    " [3, 4, 8, 9, 14, 15, 19, 20, 26, 27, 31, 32, 37, 38, 42, 43], \n",
    " [2, 4, 11, 13, 15, 22, 25, 27, 34, 36, 38, 45], \n",
    " [1, 3, 11, 12, 14, 22, 24, 26, 34, 35, 37, 45], \n",
    " [2, 5, 11, 13, 16, 22, 25, 28, 34, 36, 39, 45],\n",
    " [1, 5, 11, 12, 16, 22, 24, 28, 34, 35, 39, 45], \n",
    " [3, 4, 11, 14, 15, 22, 26, 27, 34, 37, 38, 45],\n",
    " [6, 7, 8, 9, 10, 17, 18, 19, 20, 21, 29, 30, 31, 32, 33, 40, 41, 42, 43, 44],\n",
    " [2, 4, 7, 9, 23, 25, 27, 30, 32, 46], [1, 3, 6, 8, 23, 24, 26, 29, 31, 46],\n",
    " [2, 5, 7, 10, 23, 25, 28, 30, 33, 46], [1, 5, 6, 10, 23, 24, 28, 29, 33, 46], \n",
    " [3, 4, 8, 9, 23, 26, 27, 31, 32, 46], [2, 4, 11, 23, 25, 27, 34, 46], \n",
    " [1, 3, 11, 23, 24, 26, 34, 46], [2, 5, 11, 23, 25, 28, 34, 46], \n",
    " [1, 5, 11, 23, 24, 28, 34, 46], [3, 4, 11, 23, 26, 27, 34, 46], \n",
    " [6, 7, 8, 9, 10, 23, 29, 30, 31, 32, 33, 46], \n",
    " [12, 13, 14, 15, 16, 17, 18, 19, 20, 21, 22, 35, 36, 37, 38, 39, 40, 41, 42, 43, 44, 45], \n",
    " [2, 4, 7, 9, 13, 15, 18, 20, 47], [1, 3, 6, 8, 12, 14, 17, 19, 47],\n",
    " [2, 5, 7, 10, 13, 16, 18, 21, 47], [1, 5, 6, 10, 12, 16, 17, 21, 47], \n",
    " [3, 4, 8, 9, 14, 15, 19, 20, 47], [2, 4, 11, 13, 15, 22, 47], \n",
    " [1, 3, 11, 12, 14, 22, 47], [2, 5, 11, 13, 16, 22, 47], \n",
    " [1, 5, 11, 12, 16, 22, 47], [3, 4, 11, 14, 15, 22, 47],\n",
    " [6, 7, 8, 9, 10, 17, 18, 19, 20, 21, 47],\n",
    " [2, 4, 7, 9, 23, 47], [1, 3, 6, 8, 23, 47], \n",
    " [2, 5, 7, 10, 23, 47], [1, 5, 6, 10, 23, 47], \n",
    " [3, 4, 8, 9, 23, 47], [2, 4, 11, 23, 47], [1, 3, 11, 23, 47], \n",
    " [2, 5, 11, 23, 47], [1, 5, 11, 23, 47], [3, 4, 11, 23, 47], \n",
    " [6, 7, 8, 9, 10, 23, 47], [12, 13, 14, 15, 16, 17, 18, 19, 20, 21, 22, 47], \n",
    " [24, 25, 26, 27, 28, 29, 30, 31, 32, 33, 34, 35, 36, 37, 38, 39, 40, 41, 42, 43, 44, 45, 46]]"
   ]
  },
  {
   "cell_type": "code",
   "execution_count": 7,
   "metadata": {},
   "outputs": [
    {
     "name": "stdout",
     "output_type": "stream",
     "text": [
      "Najbolje resenje 99\n",
      "10.049895271999958\n"
     ]
    }
   ],
   "source": [
    "newGraph  = []\n",
    "for vertex in graph2:\n",
    "    vertexList = []\n",
    "    for neigh in vertex:\n",
    "        neigh = neigh - 1\n",
    "        vertexList.append(neigh)\n",
    "    newGraph.append(vertexList)\n",
    "    \n",
    "graph2 = newGraph\n",
    "start = time.perf_counter()\n",
    "solution = initializeSolution(graph2)\n",
    "value = simulatedAnnealing(graph2,solution,150000)\n",
    "print('Najbolje resenje',value) \n",
    "end = time.perf_counter()\n",
    "print(end-start)"
   ]
  },
  {
   "cell_type": "code",
   "execution_count": null,
   "metadata": {},
   "outputs": [],
   "source": []
  },
  {
   "cell_type": "code",
   "execution_count": 8,
   "metadata": {},
   "outputs": [],
   "source": [
    "graph5 = [[2, 4, 7, 9, 13, 15, 18, 20, 25, 27, 30, 32, 36, 38, 41, 43, 49, 51, 54, 56, 60, 62, 65, 67, 72, 74, 77, 79, 83, 85, 88, 90], [1, 3, 6, 8, 12, 14, 17, 19, 24, 26, 29, 31, 35, 37, 40, 42, 48, 50, 53, 55, 59, 61, 64, 66, 71, 73, 76, 78, 82, 84, 87, 89], [2, 5, 7, 10, 13, 16, 18, 21, 25, 28, 30, 33, 36, 39, 41, 44, 49, 52, 54, 57, 60, 63, 65, 68, 72, 75, 77, 80, 83, 86, 88, 91], [1, 5, 6, 10, 12, 16, 17, 21, 24, 28, 29, 33, 35, 39, 40, 44, 48, 52, 53, 57, 59, 63, 64, 68, 71, 75, 76, 80, 82, 86, 87, 91], [3, 4, 8, 9, 14, 15, 19, 20, 26, 27, 31, 32, 37, 38, 42, 43, 50, 51, 55, 56, 61, 62, 66, 67, 73, 74, 78, 79, 84, 85, 89, 90], [2, 4, 11, 13, 15, 22, 25, 27, 34, 36, 38, 45, 49, 51, 58, 60, 62, 69, 72, 74, 81, 83, 85, 92], [1, 3, 11, 12, 14, 22, 24, 26, 34, 35, 37, 45, 48, 50, 58, 59, 61, 69, 71, 73, 81, 82, 84, 92], [2, 5, 11, 13, 16, 22, 25, 28, 34, 36, 39, 45, 49, 52, 58, 60, 63, 69, 72, 75, 81, 83, 86, 92], [1, 5, 11, 12, 16, 22, 24, 28, 34, 35, 39, 45, 48, 52, 58, 59, 63, 69, 71, 75, 81, 82, 86, 92], [3, 4, 11, 14, 15, 22, 26, 27, 34, 37, 38, 45, 50, 51, 58, 61, 62, 69, 73, 74, 81, 84, 85, 92], [6, 7, 8, 9, 10, 17, 18, 19, 20, 21, 29, 30, 31, 32, 33, 40, 41, 42, 43, 44, 53, 54, 55, 56, 57, 64, 65, 66, 67, 68, 76, 77, 78, 79, 80, 87, 88, 89, 90, 91], [2, 4, 7, 9, 23, 25, 27, 30, 32, 46, 49, 51, 54, 56, 70, 72, 74, 77, 79, 93], [1, 3, 6, 8, 23, 24, 26, 29, 31, 46, 48, 50, 53, 55, 70, 71, 73, 76, 78, 93], [2, 5, 7, 10, 23, 25, 28, 30, 33, 46, 49, 52, 54, 57, 70, 72, 75, 77, 80, 93], [1, 5, 6, 10, 23, 24, 28, 29, 33, 46, 48, 52, 53, 57, 70, 71, 75, 76, 80, 93], [3, 4, 8, 9, 23, 26, 27, 31, 32, 46, 50, 51, 55, 56, 70, 73, 74, 78, 79, 93], [2, 4, 11, 23, 25, 27, 34, 46, 49, 51, 58, 70, 72, 74, 81, 93], [1, 3, 11, 23, 24, 26, 34, 46, 48, 50, 58, 70, 71, 73, 81, 93], [2, 5, 11, 23, 25, 28, 34, 46, 49, 52, 58, 70, 72, 75, 81, 93], [1, 5, 11, 23, 24, 28, 34, 46, 48, 52, 58, 70, 71, 75, 81, 93], [3, 4, 11, 23, 26, 27, 34, 46, 50, 51, 58, 70, 73, 74, 81, 93], [6, 7, 8, 9, 10, 23, 29, 30, 31, 32, 33, 46, 53, 54, 55, 56, 57, 70, 76, 77, 78, 79, 80, 93], [12, 13, 14, 15, 16, 17, 18, 19, 20, 21, 22, 35, 36, 37, 38, 39, 40, 41, 42, 43, 44, 45, 59, 60, 61, 62, 63, 64, 65, 66, 67, 68, 69, 82, 83, 84, 85, 86, 87, 88, 89, 90, 91, 92], [2, 4, 7, 9, 13, 15, 18, 20, 47, 49, 51, 54, 56, 60, 62, 65, 67, 94], [1, 3, 6, 8, 12, 14, 17, 19, 47, 48, 50, 53, 55, 59, 61, 64, 66, 94], [2, 5, 7, 10, 13, 16, 18, 21, 47, 49, 52, 54, 57, 60, 63, 65, 68, 94], [1, 5, 6, 10, 12, 16, 17, 21, 47, 48, 52, 53, 57, 59, 63, 64, 68, 94], [3, 4, 8, 9, 14, 15, 19, 20, 47, 50, 51, 55, 56, 61, 62, 66, 67, 94], [2, 4, 11, 13, 15, 22, 47, 49, 51, 58, 60, 62, 69, 94], [1, 3, 11, 12, 14, 22, 47, 48, 50, 58, 59, 61, 69, 94], [2, 5, 11, 13, 16, 22, 47, 49, 52, 58, 60, 63, 69, 94], [1, 5, 11, 12, 16, 22, 47, 48, 52, 58, 59, 63, 69, 94], [3, 4, 11, 14, 15, 22, 47, 50, 51, 58, 61, 62, 69, 94], [6, 7, 8, 9, 10, 17, 18, 19, 20, 21, 47, 53, 54, 55, 56, 57, 64, 65, 66, 67, 68, 94], [2, 4, 7, 9, 23, 47, 49, 51, 54, 56, 70, 94], [1, 3, 6, 8, 23, 47, 48, 50, 53, 55, 70, 94], [2, 5, 7, 10, 23, 47, 49, 52, 54, 57, 70, 94], [1, 5, 6, 10, 23, 47, 48, 52, 53, 57, 70, 94], [3, 4, 8, 9, 23, 47, 50, 51, 55, 56, 70, 94], [2, 4, 11, 23, 47, 49, 51, 58, 70, 94], [1, 3, 11, 23, 47, 48, 50, 58, 70, 94], [2, 5, 11, 23, 47, 49, 52, 58, 70, 94], [1, 5, 11, 23, 47, 48, 52, 58, 70, 94], [3, 4, 11, 23, 47, 50, 51, 58, 70, 94], [6, 7, 8, 9, 10, 23, 47, 53, 54, 55, 56, 57, 70, 94], [12, 13, 14, 15, 16, 17, 18, 19, 20, 21, 22, 47, 59, 60, 61, 62, 63, 64, 65, 66, 67, 68, 69, 94], [24, 25, 26, 27, 28, 29, 30, 31, 32, 33, 34, 35, 36, 37, 38, 39, 40, 41, 42, 43, 44, 45, 46, 71, 72, 73, 74, 75, 76, 77, 78, 79, 80, 81, 82, 83, 84, 85, 86, 87, 88, 89, 90, 91, 92, 93], [2, 4, 7, 9, 13, 15, 18, 20, 25, 27, 30, 32, 36, 38, 41, 43, 95], [1, 3, 6, 8, 12, 14, 17, 19, 24, 26, 29, 31, 35, 37, 40, 42, 95], [2, 5, 7, 10, 13, 16, 18, 21, 25, 28, 30, 33, 36, 39, 41, 44, 95], [1, 5, 6, 10, 12, 16, 17, 21, 24, 28, 29, 33, 35, 39, 40, 44, 95], [3, 4, 8, 9, 14, 15, 19, 20, 26, 27, 31, 32, 37, 38, 42, 43, 95], [2, 4, 11, 13, 15, 22, 25, 27, 34, 36, 38, 45, 95], [1, 3, 11, 12, 14, 22, 24, 26, 34, 35, 37, 45, 95], [2, 5, 11, 13, 16, 22, 25, 28, 34, 36, 39, 45, 95], [1, 5, 11, 12, 16, 22, 24, 28, 34, 35, 39, 45, 95], [3, 4, 11, 14, 15, 22, 26, 27, 34, 37, 38, 45, 95], [6, 7, 8, 9, 10, 17, 18, 19, 20, 21, 29, 30, 31, 32, 33, 40, 41, 42, 43, 44, 95], [2, 4, 7, 9, 23, 25, 27, 30, 32, 46, 95], [1, 3, 6, 8, 23, 24, 26, 29, 31, 46, 95], [2, 5, 7, 10, 23, 25, 28, 30, 33, 46, 95], [1, 5, 6, 10, 23, 24, 28, 29, 33, 46, 95], [3, 4, 8, 9, 23, 26, 27, 31, 32, 46, 95], [2, 4, 11, 23, 25, 27, 34, 46, 95], [1, 3, 11, 23, 24, 26, 34, 46, 95], [2, 5, 11, 23, 25, 28, 34, 46, 95], [1, 5, 11, 23, 24, 28, 34, 46, 95], [3, 4, 11, 23, 26, 27, 34, 46, 95], [6, 7, 8, 9, 10, 23, 29, 30, 31, 32, 33, 46, 95], [12, 13, 14, 15, 16, 17, 18, 19, 20, 21, 22, 35, 36, 37, 38, 39, 40, 41, 42, 43, 44, 45, 95], [2, 4, 7, 9, 13, 15, 18, 20, 47, 95], [1, 3, 6, 8, 12, 14, 17, 19, 47, 95], [2, 5, 7, 10, 13, 16, 18, 21, 47, 95], [1, 5, 6, 10, 12, 16, 17, 21, 47, 95], [3, 4, 8, 9, 14, 15, 19, 20, 47, 95], [2, 4, 11, 13, 15, 22, 47, 95], [1, 3, 11, 12, 14, 22, 47, 95], [2, 5, 11, 13, 16, 22, 47, 95], [1, 5, 11, 12, 16, 22, 47, 95], [3, 4, 11, 14, 15, 22, 47, 95], [6, 7, 8, 9, 10, 17, 18, 19, 20, 21, 47, 95], [2, 4, 7, 9, 23, 47, 95], [1, 3, 6, 8, 23, 47, 95], [2, 5, 7, 10, 23, 47, 95], [1, 5, 6, 10, 23, 47, 95], [3, 4, 8, 9, 23, 47, 95], [2, 4, 11, 23, 47, 95], [1, 3, 11, 23, 47, 95], [2, 5, 11, 23, 47, 95], [1, 5, 11, 23, 47, 95], [3, 4, 11, 23, 47, 95], [6, 7, 8, 9, 10, 23, 47, 95], [12, 13, 14, 15, 16, 17, 18, 19, 20, 21, 22, 47, 95], [24, 25, 26, 27, 28, 29, 30, 31, 32, 33, 34, 35, 36, 37, 38, 39, 40, 41, 42, 43, 44, 45, 46, 95], [48, 49, 50, 51, 52, 53, 54, 55, 56, 57, 58, 59, 60, 61, 62, 63, 64, 65, 66, 67, 68, 69, 70, 71, 72, 73, 74, 75, 76, 77, 78, 79, 80, 81, 82, 83, 84, 85, 86, 87, 88, 89, 90, 91, 92, 93, 94]]"
   ]
  },
  {
   "cell_type": "code",
   "execution_count": 9,
   "metadata": {},
   "outputs": [
    {
     "name": "stdout",
     "output_type": "stream",
     "text": [
      "Najbolje resenje 256\n",
      "69.46735347100002\n"
     ]
    }
   ],
   "source": [
    "newGraph  = []\n",
    "for vertex in graph5:\n",
    "    vertexList = []\n",
    "    for neigh in vertex:\n",
    "        neigh = neigh - 1\n",
    "        vertexList.append(neigh)\n",
    "    newGraph.append(vertexList)\n",
    "    \n",
    "graph5 = newGraph\n",
    "start = time.perf_counter()\n",
    "solution = initializeSolution(graph5)\n",
    "value = simulatedAnnealing(graph5,solution,3000000)\n",
    "print('Najbolje resenje',value) \n",
    "end = time.perf_counter()\n",
    "print(end-start)"
   ]
  },
  {
   "cell_type": "markdown",
   "metadata": {},
   "source": [
    "#### Hibridizacija genetskog algoritma\n",
    "Primenjujemo na najbolju jedinku u generaciji simulirano kaljenje"
   ]
  },
  {
   "cell_type": "code",
   "execution_count": 10,
   "metadata": {},
   "outputs": [],
   "source": [
    "import random\n",
    "\n",
    "class Individual:\n",
    "    \n",
    "    \n",
    "    def __init__(self,graph):\n",
    "        self.graph = graph\n",
    "        self.colors = self.initColors(graph)\n",
    "        self.fitness = 0\n",
    "        self.oldValue = 0\n",
    "        \n",
    "    def __lt__(self,other):\n",
    "        return self.fitness < other.fitness\n",
    "    \n",
    "    def findAjdColors(self,i):\n",
    "        ajdColors = []\n",
    "        for ajd in self.graph[i]:\n",
    "            ajdColors.append(self.colors[ajd])\n",
    "        return ajdColors\n",
    "   \n",
    "\n",
    "    def isFeasible(self):\n",
    "        for i in range(len(self.graph)):\n",
    "            for neigh in self.graph[i]:\n",
    "                if(self.colors[i]==self.colors[neigh]):\n",
    "                    return False\n",
    "            \n",
    "        return True\n",
    "    \n",
    "    # biramo resenje iz okoline\n",
    "# random odaberemo indeks i smanjimo mu vrednost boje\n",
    "   \n",
    "    def adjacencySolution(self):\n",
    "        position = random.randrange(0,len(self.graph))\n",
    "        self.oldValue = self.colors[position]\n",
    "        if self.colors[position]==1:\n",
    "            self.colors[position]=self.colors[position]+1\n",
    "        else:\n",
    "            self.colors[position]=self.colors[position]-1\n",
    "      \n",
    "    #newColor = random.randrange(1,len(graph)+1)\n",
    "    #solution[position] = newColor ---> nije susedno vrv\n",
    "        if self.isFeasible():\n",
    "            return position\n",
    "        self.colors[position] = self.oldValue\n",
    "        return -1\n",
    "\n",
    "        \n",
    "    def correctNonFeasible(self):\n",
    "        \n",
    "        for i in range(len(self.graph)):\n",
    "            ajdColors = self.findAjdColors(i)\n",
    "            if(self.colors[i] in ajdColors):\n",
    "                \n",
    "                possibleColors = list(set([1,2,3,4,5,6,7,8])-set(ajdColors))\n",
    "                self.colors[i] = random.choice(possibleColors)\n",
    "        \n",
    "    \n",
    "    def restore(self,position):\n",
    "        self.colors[position] = self.oldValue\n",
    "\n",
    "    def fitnessFunction(self,colors):\n",
    "        value = 0\n",
    "        for color in colors:\n",
    "            value+=color\n",
    "        return value\n",
    "    \n",
    "    def initColors(self,graph):\n",
    "        colors = []\n",
    "        numberOfColors = len(graph)\n",
    "        for i in range(numberOfColors):\n",
    "            colors.append(random.randrange(1,numberOfColors+1))\n",
    "        return colors\n",
    "\n",
    "    def __str__(self):\n",
    "        print('Bojenje' + str(self.colors))\n",
    "        \n"
   ]
  },
  {
   "cell_type": "code",
   "execution_count": 11,
   "metadata": {},
   "outputs": [],
   "source": [
    "# Selekcija -> biramo jedinke iz populacije za generisanje naredne\n",
    "# Koristimo turnirsku: za pocetak 6 turnira \n",
    "def tournamentSelection(population):\n",
    "    min = float('inf')\n",
    "    k=-1\n",
    "    for j in range(6):\n",
    "        j = random.randrange(100) # 100 -> broj populacije\n",
    "        if population[j].fitness < min:\n",
    "            min = population[j].fitness\n",
    "            k=j\n",
    "    \n",
    "    return k\n"
   ]
  },
  {
   "cell_type": "code",
   "execution_count": 12,
   "metadata": {},
   "outputs": [],
   "source": [
    "def rouletteSelection(population):\n",
    "    totalFitness = sum([individual.fitness for individual in population])\n",
    "    randomValue = random.randrange(0,totalFitness)\n",
    "    currentSum = 0\n",
    "    \n",
    "    for i in range(len(population)):\n",
    "        currentSum += population[i].fitness\n",
    "        if currentSum > randomValue:\n",
    "            return i\n",
    "     "
   ]
  },
  {
   "cell_type": "code",
   "execution_count": 13,
   "metadata": {},
   "outputs": [],
   "source": [
    "# Jednopoziciono ukrstanje\n",
    "def crossover(parent1,parent2,child1,child2):\n",
    "    numberColors = len(parent1.colors)\n",
    "    # biramo poziciju ukrstanja\n",
    "    position = random.randrange(numberColors)\n",
    "    # razmenjujemo\n",
    "    # prvi deo bojenja\n",
    "    for i in range(position):\n",
    "        child1.colors[i]=parent1.colors[i]\n",
    "        child2.colors[i]=parent2.colors[i]\n",
    "    \n",
    "    # drugi deo bojenja\n",
    "    for j in range(position,numberColors):\n",
    "        child1.colors[j]=parent2.colors[j]\n",
    "        child2.colors[j]=parent1.colors[j]\n",
    "        \n",
    "    # menjamo da budu dopustiva\n",
    "    child1.correctNonFeasible()\n",
    "    child2.correctNonFeasible()\n",
    "    "
   ]
  },
  {
   "cell_type": "code",
   "execution_count": 14,
   "metadata": {},
   "outputs": [],
   "source": [
    "# Mutacija\n",
    "# Verovatnoca za mutaciju 0.05 (parametar, probati druge)\n",
    "def mutation(individual):\n",
    "    numberColors = len(individual.colors)\n",
    "    for i in range(numberColors):\n",
    "        if random.random() > 0.05:\n",
    "            continue\n",
    "        individual.colors[i] = random.choice(individual.colors)\n",
    "        individual.correctNonFeasible()\n"
   ]
  },
  {
   "cell_type": "code",
   "execution_count": 15,
   "metadata": {},
   "outputs": [],
   "source": [
    "# Inicijalna populacija\n",
    "# 100 jedinki u populaciji (parametar, probati druge)\n",
    "# za\n",
    "def initPopulation(graph):\n",
    "    population = []\n",
    "    newPopulation = []\n",
    "    for i in range(100):\n",
    "        individual = Individual(graph)\n",
    "        individual.initColors(graph)\n",
    "        individual.correctNonFeasible()\n",
    "        individual.fitness = individual.fitnessFunction(individual.colors)\n",
    "        population.append(individual)\n",
    "        newPopulation.append(individual)\n",
    "        \n",
    "    return (population,newPopulation)\n",
    "\n"
   ]
  },
  {
   "cell_type": "code",
   "execution_count": 16,
   "metadata": {},
   "outputs": [],
   "source": [
    " def simulatedAnnealing(individual, maxIters):\n",
    "    for i in range(maxIters):\n",
    "        j = individual.adjacencySolution()\n",
    "        if j < 0:\n",
    "            continue\n",
    "        newFitness = individual.fitnessFunction(individual.colors)\n",
    "        if newFitness < individual.fitness:\n",
    "            individual.fitness = newFitness\n",
    "        else:\n",
    "            p = 1.0 / (i + 1) ** 0.5\n",
    "            q = random.uniform(0, 1)\n",
    "            if p > q:\n",
    "                individual.fitness = newFitness\n",
    "            else:\n",
    "                individual.restore(j)\n",
    "                \n",
    "\n"
   ]
  },
  {
   "cell_type": "code",
   "execution_count": 17,
   "metadata": {},
   "outputs": [
    {
     "name": "stdout",
     "output_type": "stream",
     "text": [
      "Resenje 11\n"
     ]
    }
   ],
   "source": [
    "# Sprovodimo Genetski algoritam\n",
    "# 500 iteracija (probati druge parametre)\n",
    "\n",
    "graph_list = [\n",
    "  [1,2],\n",
    "  [0,3,4,6],\n",
    "  [0,2,5],\n",
    "  [1],\n",
    "  [1,5],\n",
    "  [2,4],\n",
    "  [1]\n",
    "]\n",
    "\n",
    "graph_list2 = [[3],[3],[3],[0,1,2,4],[3,5,6,7],[4],[4],[4]]\n",
    "\n",
    "# Dobijamo inicijalnu populaciju\n",
    "population,newPopulation = initPopulation(graph_list2)\n",
    "\n",
    "\n",
    "\n",
    "for iteration in range(500):\n",
    "    population.sort() # da bi nam prvi bio sa najboljim fitnesom tj minimalnom sumom\n",
    "    # Elitizam, cuvamo 30 najboljih\n",
    "    for i in range(30):\n",
    "        newPopulation[i] = population[i]\n",
    "    # Ostale zamenjujemo decom\n",
    "    for i in range(30,100,2):\n",
    "        ind1 = tournamentSelection(population)\n",
    "        ind2 = tournamentSelection(population)\n",
    "        crossover(population[ind1],population[ind2],newPopulation[i],newPopulation[i+1])\n",
    "        mutation(newPopulation[i])\n",
    "        mutation(newPopulation[i+1])\n",
    "        newPopulation[i].fitness = newPopulation[i].fitnessFunction(newPopulation[i].colors)\n",
    "        newPopulation[i+1].fitness = newPopulation[i+1].fitnessFunction(newPopulation[i+1].colors)\n",
    "    # sprovodimo kaljenje na najbolji u populaciji\n",
    "    simulatedAnnealing(newPopulation[0], 100)\n",
    "    population=newPopulation\n",
    "\n",
    "population.sort()\n",
    "\n",
    "print('Resenje',population[0].fitness)\n",
    "# Sa ruletskom se dobija 12\n"
   ]
  },
  {
   "cell_type": "code",
   "execution_count": null,
   "metadata": {},
   "outputs": [],
   "source": []
  },
  {
   "cell_type": "code",
   "execution_count": null,
   "metadata": {},
   "outputs": [],
   "source": []
  }
 ],
 "metadata": {
  "kernelspec": {
   "display_name": "Python 3",
   "language": "python",
   "name": "python3"
  },
  "language_info": {
   "codemirror_mode": {
    "name": "ipython",
    "version": 3
   },
   "file_extension": ".py",
   "mimetype": "text/x-python",
   "name": "python",
   "nbconvert_exporter": "python",
   "pygments_lexer": "ipython3",
   "version": "3.8.5"
  }
 },
 "nbformat": 4,
 "nbformat_minor": 4
}
