{
 "cells": [
  {
   "cell_type": "markdown",
   "metadata": {},
   "source": [
    "### Algoritam grube sile\n",
    "\n",
    "Prolazimo kroz sve moguce permutacije(sva moguca resenja) i trazimo minimalno dopustivo resenje.\n",
    "Neefikasan nacin.\n",
    "Slozenost: O(n!) valjda"
   ]
  },
  {
   "cell_type": "code",
   "execution_count": 3,
   "metadata": {},
   "outputs": [
    {
     "name": "stdout",
     "output_type": "stream",
     "text": [
      "inf\n",
      "Najbolje inf\n"
     ]
    }
   ],
   "source": [
    "\n",
    "def isFeasible(graph, solution):\n",
    "    for i in range(len(graph)):\n",
    "        for neigh in graph[i]:\n",
    "            if(solution[i]==solution[neigh]):\n",
    "                return False\n",
    "            \n",
    "    return True\n",
    "\n",
    "\n",
    "def allPossibleSolutionsRecur (possibleColors, data, last, index,graph,minSolution): \n",
    "    length = len(possibleColors) \n",
    "   \n",
    "    for i in range(length):\n",
    "        data[index] = possibleColors[i] \n",
    "        if index==last:\n",
    "            # Ovde uopste ne ulazi, nzm zasto\n",
    "            if(isFeasible(graph,data)):\n",
    "               # print('Ulazi')\n",
    "                if(sum(data)<minSolution):\n",
    "                    minSolution = sum(data)\n",
    "                \n",
    "                \n",
    "        else: \n",
    "            allPossibleSolutionsRecur(possibleColors, data, last, index+1,graph,minSolution) \n",
    "            \n",
    "\n",
    "    \n",
    "  \n",
    " \n",
    "\n",
    "\n",
    "def allPossibleSolutions(possibleColors,graph): \n",
    "    minSolution = float('inf')\n",
    "    length = len(possibleColors) \n",
    "\n",
    "    data = [1] * (length)  \n",
    "    allPossibleSolutionsRecur(possibleColors, data, length-1, 0,graph,minSolution) \n",
    "    print(minSolution)\n",
    "\n",
    "\n",
    "graph_list = [\n",
    "  [1,2],\n",
    "  [0,3,4,6],\n",
    "  [0,2,5],\n",
    "  [1],\n",
    "  [1,5],\n",
    "  [2,4],\n",
    "  [1]\n",
    "]\n",
    "\n",
    "graph_list2 = [[3],[3],[3],[0,1,2,4],[3,5,6,7],[4],[4],[4]]\n",
    "\n",
    "allPossibleSolutions([1,2,3,4,5,6,7,8],graph_list2)\n",
    "print('Najbolje',minSolution)"
   ]
  },
  {
   "cell_type": "code",
   "execution_count": null,
   "metadata": {},
   "outputs": [],
   "source": [
    "\n",
    "graph_list = [\n",
    "  [1,2],\n",
    "  [0,3,4,6],\n",
    "  [0,4,5],\n",
    "  [1],\n",
    "  [1,5],\n",
    "  [2,4],\n",
    "  [1]\n",
    "]\n",
    "isFeasible(graph_list,[1,2,3,4,5,6,7])"
   ]
  },
  {
   "cell_type": "code",
   "execution_count": null,
   "metadata": {},
   "outputs": [],
   "source": []
  },
  {
   "cell_type": "code",
   "execution_count": null,
   "metadata": {},
   "outputs": [],
   "source": []
  }
 ],
 "metadata": {
  "kernelspec": {
   "display_name": "Python 3",
   "language": "python",
   "name": "python3"
  },
  "language_info": {
   "codemirror_mode": {
    "name": "ipython",
    "version": 3
   },
   "file_extension": ".py",
   "mimetype": "text/x-python",
   "name": "python",
   "nbconvert_exporter": "python",
   "pygments_lexer": "ipython3",
   "version": "3.7.3"
  }
 },
 "nbformat": 4,
 "nbformat_minor": 2
}
