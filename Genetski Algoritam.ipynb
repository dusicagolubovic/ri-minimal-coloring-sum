{
 "cells": [
  {
   "cell_type": "markdown",
   "metadata": {},
   "source": [
    "### Genetski algoritam"
   ]
  },
  {
   "cell_type": "code",
   "execution_count": 8,
   "metadata": {},
   "outputs": [],
   "source": [
    "import random\n",
    "\n",
    "class Individual:\n",
    "    \n",
    "    def __init__(self,graph,fitness):\n",
    "        self.graph = graph\n",
    "        self.fitness = fitness\n",
    "        self.colors = []\n",
    "        \n",
    "    def __lt__(self,other):\n",
    "        return self.fitness < other.fitness\n",
    "    def findAjdColors(self,i):\n",
    "        ajdColors = []\n",
    "        for ajd in graph[i]:\n",
    "            ajdColors.append(color[ajd])\n",
    "        return ajdColors\n",
    "        \n",
    "        \n",
    "    def correctNonFeasible(self):\n",
    "        i=0        \n",
    "        for vertex in self.graph:\n",
    "            ajdColors = self.findAjdColors(i)\n",
    "            if(color[i] in ajdColors):\n",
    "                possibleColors = list(set(colors)-set(ajdColors))\n",
    "                color[i] = random.choose(possibleColors)\n",
    "            i=i+1\n",
    "            \n",
    "    def fitnessFunction(self):\n",
    "        # ne znamo da li je ovo fitnes\n",
    "        return sum(colors)\n",
    "    \n",
    "            \n",
    "            \n"
   ]
  },
  {
   "cell_type": "code",
   "execution_count": 5,
   "metadata": {},
   "outputs": [
    {
     "data": {
      "text/plain": [
       "[1, 2]"
      ]
     },
     "execution_count": 5,
     "metadata": {},
     "output_type": "execute_result"
    }
   ],
   "source": [
    "liste = [[1,2],[3,5]]\n",
    "\n",
    "liste[0]"
   ]
  },
  {
   "cell_type": "code",
   "execution_count": null,
   "metadata": {},
   "outputs": [],
   "source": [
    "def selection(population):\n",
    "    "
   ]
  }
 ],
 "metadata": {
  "kernelspec": {
   "display_name": "Python 3",
   "language": "python",
   "name": "python3"
  },
  "language_info": {
   "codemirror_mode": {
    "name": "ipython",
    "version": 3
   },
   "file_extension": ".py",
   "mimetype": "text/x-python",
   "name": "python",
   "nbconvert_exporter": "python",
   "pygments_lexer": "ipython3",
   "version": "3.6.9"
  }
 },
 "nbformat": 4,
 "nbformat_minor": 2
}
