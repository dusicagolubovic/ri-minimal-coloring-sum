{
 "cells": [
  {
   "cell_type": "markdown",
   "metadata": {},
   "source": [
    "## Linearno programiranje\n",
    "\n",
    "U ovom delu ce biti predstavljen linearni model za problem Minimalne sume bojenja"
   ]
  },
  {
   "cell_type": "markdown",
   "metadata": {},
   "source": [
    "Matematicki model:\n",
    "\n",
    "Neka je dat graf <br> $G = (V,E)$\n",
    "<br> $V$ - skup cvorova\n",
    "<br> $E$ - skup grana\n",
    "<br> $K = {1,2,..,k}$  skup boja\n",
    "\n",
    "\n",
    "$x_{uk}$ - binarna promenljiva koja ima vrednost 1 ako je cvoru $u$ dodeljena boja $k$\n",
    "\n",
    "Funkcija cilja koju treba minimizovati \n",
    "\n",
    "$f(x) = \\sum_{u=1}^{n} \\sum_{k=1}^{K} kx_{uk}$\n",
    "\n",
    "Ogranicenja \n",
    "\n",
    "1. $\\sum_{k=1}^{K} x_{uk} = 1,  u \\in \\{1,..n\\}$   za svaki cvor tacno jedna boja\n",
    "2. $x_{uk} + x_{uk} \\leq 1,\\forall(u,v) \\in E, k \\in \\{ 1,..,K\\}$  susedni cvorovi ne smeju istu boju\n",
    "3. $x_{uk} \\in \\{0,1\\}$  binarne promenljive\n",
    "\n",
    "\n",
    "Koristimo CPLEX alat da bismo pronasli vrednost funkcije"
   ]
  },
  {
   "cell_type": "code",
   "execution_count": 33,
   "metadata": {},
   "outputs": [],
   "source": [
    "from docplex.mp.model import Model"
   ]
  },
  {
   "cell_type": "code",
   "execution_count": 38,
   "metadata": {},
   "outputs": [],
   "source": [
    "def linear_programming(graph):\n",
    "    graphSize = len(graph)\n",
    "    possibleColors = list(range(graphSize))\n",
    "    m = Model('Minimal Sum Coloring')\n",
    "    x = m.binary_var_matrix(graphSize,graphSize,name=\"x\")\n",
    "    # Ogranicenje 1.\n",
    "    m.add_constraints(m.sum(m.sum(x[i,j] for j in range(graphSize)))==1 for i in range(graphSize))\n",
    "    # Ogranicenje 2\n",
    "    for color in possibleColors:\n",
    "        index = 0\n",
    "        for adjList in graph:\n",
    "            for adj in adjList:\n",
    "                m.add_constraint(x[index,color]+x[adj,color] <=1)    \n",
    "            index = index+1\n",
    "            \n",
    "    sum = 0\n",
    "    for u in range(graphSize):\n",
    "        for k in range(graphSize):\n",
    "            sum+=(k+1)*x[u,k]\n",
    "        \n",
    "    m.minimize(sum)\n",
    "    m.print_information()\n",
    "    s = m.solve()\n",
    "    m.print_solution()\n",
    "    \n"
   ]
  },
  {
   "cell_type": "code",
   "execution_count": 40,
   "metadata": {},
   "outputs": [
    {
     "name": "stdout",
     "output_type": "stream",
     "text": [
      "Model: Minimal Sum Coloring\n",
      " - number of variables: 64\n",
      "   - binary=64, integer=0, continuous=0\n",
      " - number of constraints: 120\n",
      "   - linear=120\n",
      " - parameters: defaults\n",
      " - objective: minimize\n",
      " - problem type is: MILP\n",
      "objective: 11\n",
      "  x_0_0=1\n",
      "  x_1_0=1\n",
      "  x_2_0=1\n",
      "  x_3_2=1\n",
      "  x_4_1=1\n",
      "  x_5_0=1\n",
      "  x_6_0=1\n",
      "  x_7_0=1\n"
     ]
    }
   ],
   "source": [
    "graph0 = [[3],[3],[3],[0,1,2,4],[3,5,6,7],[4],[4],[4]]\n",
    "linear_programming(graph0)"
   ]
  },
  {
   "cell_type": "code",
   "execution_count": 41,
   "metadata": {},
   "outputs": [
    {
     "name": "stdout",
     "output_type": "stream",
     "text": [
      "Model: Minimal Sum Coloring\n",
      " - number of variables: 121\n",
      "   - binary=121, integer=0, continuous=0\n",
      " - number of constraints: 451\n",
      "   - linear=451\n",
      " - parameters: defaults\n",
      " - objective: minimize\n",
      " - problem type is: MILP\n",
      "objective: 21\n",
      "  x_0_1=1\n",
      "  x_1_2=1\n",
      "  x_2_1=1\n",
      "  x_3_2=1\n",
      "  x_4_3=1\n",
      "  x_5_0=1\n",
      "  x_6_0=1\n",
      "  x_7_0=1\n",
      "  x_8_0=1\n",
      "  x_9_0=1\n",
      "  x_10_1=1\n"
     ]
    }
   ],
   "source": [
    "graph1 = [[1, 3, 6, 8], [0, 2, 5, 7], [1, 4, 6, 9], \n",
    "          [0, 4, 5, 9], [2, 3, 7, 8], \n",
    "          [1, 3, 10], [0, 2, 10],\n",
    "          [1, 4, 10], [0, 4, 10], [2, 3, 10], \n",
    "          [5, 6, 7, 8, 9]]\n",
    "\n",
    "linear_programming(graph1)"
   ]
  }
 ],
 "metadata": {
  "kernelspec": {
   "display_name": "Python 3",
   "language": "python",
   "name": "python3"
  },
  "language_info": {
   "codemirror_mode": {
    "name": "ipython",
    "version": 3
   },
   "file_extension": ".py",
   "mimetype": "text/x-python",
   "name": "python",
   "nbconvert_exporter": "python",
   "pygments_lexer": "ipython3",
   "version": "3.7.1"
  }
 },
 "nbformat": 4,
 "nbformat_minor": 2
}
