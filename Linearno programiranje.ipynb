{
 "cells": [
  {
   "cell_type": "markdown",
   "metadata": {},
   "source": [
    "## Linearno programiranje\n",
    "\n",
    "U ovom delu ce biti predstavljen linearni model za problem Minimalne sume bojenja"
   ]
  },
  {
   "cell_type": "markdown",
   "metadata": {},
   "source": [
    "Matematicki model:\n",
    "\n",
    "Neka je dat graf <br> $G = (V,E)$\n",
    "<br> $V$ - skup cvorova\n",
    "<br> $E$ - skup grana\n",
    "<br> $K = {1,2,..,k}$  skup boja\n",
    "\n",
    "\n",
    "$x_{uk}$ - binarna promenljiva koja ima vrednost 1 ako je cvoru $u$ dodeljena boja $k$\n",
    "\n",
    "Funkcija cilja koju treba minimizovati \n",
    "\n",
    "$f(x) = \\sum_{u=1}^{n} \\sum_{k=1}^{K} kx_{uk}$\n",
    "\n",
    "Ogranicenja \n",
    "\n",
    "1. $\\sum_{k=1}^{K} x_{uk} = 1,  u \\in \\{1,..n\\}$   za svaki cvor tacno jedna boja\n",
    "2. $x_{uk} + x_{uk} \\leq 1,\\forall(u,v) \\in E, k \\in \\{ 1,..,K\\}$  susedni cvorovi ne smeju istu boju\n",
    "3. $x_{uk} \\in \\{0,1\\}$  binarne promenljive\n",
    "\n",
    "\n",
    "Koristimo CPLEX alat da bismo pronasli vrednost funkcije"
   ]
  },
  {
   "cell_type": "code",
   "execution_count": 33,
   "metadata": {},
   "outputs": [],
   "source": [
    "from docplex.mp.model import Model"
   ]
  },
  {
   "cell_type": "code",
   "execution_count": 38,
   "metadata": {},
   "outputs": [],
   "source": [
    "def linear_programming(graph):\n",
    "    graphSize = len(graph)\n",
    "    possibleColors = list(range(graphSize))\n",
    "    m = Model('Minimal Sum Coloring')\n",
    "    x = m.binary_var_matrix(graphSize,graphSize,name=\"x\")\n",
    "    # Ogranicenje 1.\n",
    "    m.add_constraints(m.sum(m.sum(x[i,j] for j in range(graphSize)))==1 for i in range(graphSize))\n",
    "    # Ogranicenje 2\n",
    "    for color in possibleColors:\n",
    "        index = 0\n",
    "        for adjList in graph:\n",
    "            for adj in adjList:\n",
    "                m.add_constraint(x[index,color]+x[adj,color] <=1)    \n",
    "            index = index+1\n",
    "            \n",
    "    sum = 0\n",
    "    for u in range(graphSize):\n",
    "        for k in range(graphSize):\n",
    "            sum+=(k+1)*x[u,k]\n",
    "        \n",
    "    m.minimize(sum)\n",
    "    m.print_information()\n",
    "    s = m.solve()\n",
    "    m.print_solution()\n",
    "    \n"
   ]
  },
  {
   "cell_type": "code",
   "execution_count": 40,
   "metadata": {},
   "outputs": [
    {
     "name": "stdout",
     "output_type": "stream",
     "text": [
      "Model: Minimal Sum Coloring\n",
      " - number of variables: 64\n",
      "   - binary=64, integer=0, continuous=0\n",
      " - number of constraints: 120\n",
      "   - linear=120\n",
      " - parameters: defaults\n",
      " - objective: minimize\n",
      " - problem type is: MILP\n",
      "objective: 11\n",
      "  x_0_0=1\n",
      "  x_1_0=1\n",
      "  x_2_0=1\n",
      "  x_3_2=1\n",
      "  x_4_1=1\n",
      "  x_5_0=1\n",
      "  x_6_0=1\n",
      "  x_7_0=1\n"
     ]
    }
   ],
   "source": [
    "graph0 = [[3],[3],[3],[0,1,2,4],[3,5,6,7],[4],[4],[4]]\n",
    "linear_programming(graph0)"
   ]
  },
  {
   "cell_type": "code",
   "execution_count": 41,
   "metadata": {},
   "outputs": [
    {
     "name": "stdout",
     "output_type": "stream",
     "text": [
      "Model: Minimal Sum Coloring\n",
      " - number of variables: 121\n",
      "   - binary=121, integer=0, continuous=0\n",
      " - number of constraints: 451\n",
      "   - linear=451\n",
      " - parameters: defaults\n",
      " - objective: minimize\n",
      " - problem type is: MILP\n",
      "objective: 21\n",
      "  x_0_1=1\n",
      "  x_1_2=1\n",
      "  x_2_1=1\n",
      "  x_3_2=1\n",
      "  x_4_3=1\n",
      "  x_5_0=1\n",
      "  x_6_0=1\n",
      "  x_7_0=1\n",
      "  x_8_0=1\n",
      "  x_9_0=1\n",
      "  x_10_1=1\n"
     ]
    }
   ],
   "source": [
    "graph1 = [[1, 3, 6, 8], [0, 2, 5, 7], [1, 4, 6, 9], \n",
    "          [0, 4, 5, 9], [2, 3, 7, 8], \n",
    "          [1, 3, 10], [0, 2, 10],\n",
    "          [1, 4, 10], [0, 4, 10], [2, 3, 10], \n",
    "          [5, 6, 7, 8, 9]]\n",
    "\n",
    "linear_programming(graph1)"
   ]
  },
  {
   "cell_type": "code",
   "execution_count": 45,
   "metadata": {},
   "outputs": [
    {
     "name": "stdout",
     "output_type": "stream",
     "text": [
      "Model: Minimal Sum Coloring\n",
      " - number of variables: 2209\n",
      "   - binary=2209, integer=0, continuous=0\n",
      " - number of constraints: 22231\n",
      "   - linear=22231\n",
      " - parameters: defaults\n",
      " - objective: minimize\n",
      " - problem type is: MILP\n"
     ]
    },
    {
     "ename": "DOcplexLimitsExceeded",
     "evalue": "**** Promotional version. Problem size limits exceeded, CPLEX code=1016",
     "output_type": "error",
     "traceback": [
      "\u001b[0;31m---------------------------------------------------------------------------\u001b[0m",
      "\u001b[0;31mCplexSolverError\u001b[0m                          Traceback (most recent call last)",
      "\u001b[0;32m~/.local/lib/python3.6/site-packages/docplex/mp/cplex_engine.py\u001b[0m in \u001b[0;36msolve\u001b[0;34m(self, mdl, parameters, **kwargs)\u001b[0m\n\u001b[1;32m   1905\u001b[0m             \u001b[0;32melse\u001b[0m\u001b[0;34m:\u001b[0m\u001b[0;34m\u001b[0m\u001b[0;34m\u001b[0m\u001b[0m\n\u001b[0;32m-> 1906\u001b[0;31m                 \u001b[0mcpx\u001b[0m\u001b[0;34m.\u001b[0m\u001b[0msolve\u001b[0m\u001b[0;34m(\u001b[0m\u001b[0;34m)\u001b[0m\u001b[0;34m\u001b[0m\u001b[0;34m\u001b[0m\u001b[0m\n\u001b[0m\u001b[1;32m   1907\u001b[0m \u001b[0;34m\u001b[0m\u001b[0m\n",
      "\u001b[0;32m~/.local/lib/python3.6/site-packages/cplex/__init__.py\u001b[0m in \u001b[0;36msolve\u001b[0;34m(self, paramsets)\u001b[0m\n\u001b[1;32m   1328\u001b[0m             \u001b[0;32melse\u001b[0m\u001b[0;34m:\u001b[0m\u001b[0;34m\u001b[0m\u001b[0;34m\u001b[0m\u001b[0m\n\u001b[0;32m-> 1329\u001b[0;31m                 \u001b[0m_proc\u001b[0m\u001b[0;34m.\u001b[0m\u001b[0mmipopt\u001b[0m\u001b[0;34m(\u001b[0m\u001b[0mself\u001b[0m\u001b[0;34m.\u001b[0m\u001b[0m_env\u001b[0m\u001b[0;34m.\u001b[0m\u001b[0m_e\u001b[0m\u001b[0;34m,\u001b[0m \u001b[0mself\u001b[0m\u001b[0;34m.\u001b[0m\u001b[0m_lp\u001b[0m\u001b[0;34m)\u001b[0m\u001b[0;34m\u001b[0m\u001b[0;34m\u001b[0m\u001b[0m\n\u001b[0m\u001b[1;32m   1330\u001b[0m         \u001b[0;32melif\u001b[0m \u001b[0mself\u001b[0m\u001b[0;34m.\u001b[0m\u001b[0mquadratic_constraints\u001b[0m\u001b[0;34m.\u001b[0m\u001b[0mget_num\u001b[0m\u001b[0;34m(\u001b[0m\u001b[0;34m)\u001b[0m \u001b[0;34m>\u001b[0m \u001b[0;36m0\u001b[0m\u001b[0;34m:\u001b[0m\u001b[0;34m\u001b[0m\u001b[0;34m\u001b[0m\u001b[0m\n",
      "\u001b[0;32m~/.local/lib/python3.6/site-packages/cplex/_internal/_procedural.py\u001b[0m in \u001b[0;36mmipopt\u001b[0;34m(env, lp)\u001b[0m\n\u001b[1;32m    691\u001b[0m         \u001b[0mstatus\u001b[0m \u001b[0;34m=\u001b[0m \u001b[0mCR\u001b[0m\u001b[0;34m.\u001b[0m\u001b[0mCPXXmipopt\u001b[0m\u001b[0;34m(\u001b[0m\u001b[0menv\u001b[0m\u001b[0;34m,\u001b[0m \u001b[0mlp\u001b[0m\u001b[0;34m)\u001b[0m\u001b[0;34m\u001b[0m\u001b[0;34m\u001b[0m\u001b[0m\n\u001b[0;32m--> 692\u001b[0;31m     \u001b[0mcheck_status\u001b[0m\u001b[0;34m(\u001b[0m\u001b[0menv\u001b[0m\u001b[0;34m,\u001b[0m \u001b[0mstatus\u001b[0m\u001b[0;34m)\u001b[0m\u001b[0;34m\u001b[0m\u001b[0;34m\u001b[0m\u001b[0m\n\u001b[0m\u001b[1;32m    693\u001b[0m \u001b[0;34m\u001b[0m\u001b[0m\n",
      "\u001b[0;32m~/.local/lib/python3.6/site-packages/cplex/_internal/_procedural.py\u001b[0m in \u001b[0;36m__call__\u001b[0;34m(self, env, status, from_cb)\u001b[0m\n\u001b[1;32m    235\u001b[0m                     \u001b[0merror_string\u001b[0m \u001b[0;34m=\u001b[0m \u001b[0mgeterrorstring\u001b[0m\u001b[0;34m(\u001b[0m\u001b[0menv\u001b[0m\u001b[0;34m,\u001b[0m \u001b[0mstatus\u001b[0m\u001b[0;34m)\u001b[0m\u001b[0;34m\u001b[0m\u001b[0;34m\u001b[0m\u001b[0m\n\u001b[0;32m--> 236\u001b[0;31m             \u001b[0;32mraise\u001b[0m \u001b[0mCplexSolverError\u001b[0m\u001b[0;34m(\u001b[0m\u001b[0merror_string\u001b[0m\u001b[0;34m,\u001b[0m \u001b[0menv\u001b[0m\u001b[0;34m,\u001b[0m \u001b[0mstatus\u001b[0m\u001b[0;34m)\u001b[0m\u001b[0;34m\u001b[0m\u001b[0;34m\u001b[0m\u001b[0m\n\u001b[0m\u001b[1;32m    237\u001b[0m \u001b[0;34m\u001b[0m\u001b[0m\n",
      "\u001b[0;31mCplexSolverError\u001b[0m: CPLEX Error  1016: Community Edition. Problem size limits exceeded. Purchase at http://ibm.biz/error1016.",
      "\nDuring handling of the above exception, another exception occurred:\n",
      "\u001b[0;31mDOcplexLimitsExceeded\u001b[0m                     Traceback (most recent call last)",
      "\u001b[0;32m<ipython-input-45-5ead556d5964>\u001b[0m in \u001b[0;36m<module>\u001b[0;34m\u001b[0m\n\u001b[1;32m     47\u001b[0m  [23,24,25,26,27,28,29,30,31,32,33,34,35,36,37,38,39,40,41,42,43,44,45]]\n\u001b[1;32m     48\u001b[0m \u001b[0;34m\u001b[0m\u001b[0m\n\u001b[0;32m---> 49\u001b[0;31m \u001b[0mlinear_programming\u001b[0m\u001b[0;34m(\u001b[0m\u001b[0mgraph2\u001b[0m\u001b[0;34m)\u001b[0m\u001b[0;34m\u001b[0m\u001b[0;34m\u001b[0m\u001b[0m\n\u001b[0m",
      "\u001b[0;32m<ipython-input-38-032ca7a4c9d3>\u001b[0m in \u001b[0;36mlinear_programming\u001b[0;34m(graph)\u001b[0m\n\u001b[1;32m     21\u001b[0m     \u001b[0mm\u001b[0m\u001b[0;34m.\u001b[0m\u001b[0mminimize\u001b[0m\u001b[0;34m(\u001b[0m\u001b[0msum\u001b[0m\u001b[0;34m)\u001b[0m\u001b[0;34m\u001b[0m\u001b[0;34m\u001b[0m\u001b[0m\n\u001b[1;32m     22\u001b[0m     \u001b[0mm\u001b[0m\u001b[0;34m.\u001b[0m\u001b[0mprint_information\u001b[0m\u001b[0;34m(\u001b[0m\u001b[0;34m)\u001b[0m\u001b[0;34m\u001b[0m\u001b[0;34m\u001b[0m\u001b[0m\n\u001b[0;32m---> 23\u001b[0;31m     \u001b[0ms\u001b[0m \u001b[0;34m=\u001b[0m \u001b[0mm\u001b[0m\u001b[0;34m.\u001b[0m\u001b[0msolve\u001b[0m\u001b[0;34m(\u001b[0m\u001b[0;34m)\u001b[0m\u001b[0;34m\u001b[0m\u001b[0;34m\u001b[0m\u001b[0m\n\u001b[0m\u001b[1;32m     24\u001b[0m     \u001b[0mm\u001b[0m\u001b[0;34m.\u001b[0m\u001b[0mprint_solution\u001b[0m\u001b[0;34m(\u001b[0m\u001b[0;34m)\u001b[0m\u001b[0;34m\u001b[0m\u001b[0;34m\u001b[0m\u001b[0m\n\u001b[1;32m     25\u001b[0m \u001b[0;34m\u001b[0m\u001b[0m\n",
      "\u001b[0;32m~/.local/lib/python3.6/site-packages/docplex/mp/model.py\u001b[0m in \u001b[0;36msolve\u001b[0;34m(self, **kwargs)\u001b[0m\n\u001b[1;32m   4392\u001b[0m                 \u001b[0;31m# take arg clean flag or this model's\u001b[0m\u001b[0;34m\u001b[0m\u001b[0;34m\u001b[0m\u001b[0;34m\u001b[0m\u001b[0m\n\u001b[1;32m   4393\u001b[0m                 \u001b[0mused_clean_before_solve\u001b[0m \u001b[0;34m=\u001b[0m \u001b[0mkwargs\u001b[0m\u001b[0;34m.\u001b[0m\u001b[0mget\u001b[0m\u001b[0;34m(\u001b[0m\u001b[0;34m'clean_before_solve'\u001b[0m\u001b[0;34m,\u001b[0m \u001b[0mself\u001b[0m\u001b[0;34m.\u001b[0m\u001b[0mclean_before_solve\u001b[0m\u001b[0;34m)\u001b[0m\u001b[0;34m\u001b[0m\u001b[0;34m\u001b[0m\u001b[0m\n\u001b[0;32m-> 4394\u001b[0;31m                 \u001b[0;32mreturn\u001b[0m \u001b[0mself\u001b[0m\u001b[0;34m.\u001b[0m\u001b[0m_solve_local\u001b[0m\u001b[0;34m(\u001b[0m\u001b[0mcontext\u001b[0m\u001b[0;34m,\u001b[0m \u001b[0mused_clean_before_solve\u001b[0m\u001b[0;34m,\u001b[0m \u001b[0mlex_timelimits\u001b[0m\u001b[0;34m,\u001b[0m \u001b[0mlex_mipgaps\u001b[0m\u001b[0;34m)\u001b[0m\u001b[0;34m\u001b[0m\u001b[0;34m\u001b[0m\u001b[0m\n\u001b[0m\u001b[1;32m   4395\u001b[0m             \u001b[0;32melif\u001b[0m \u001b[0mhave_credentials\u001b[0m\u001b[0;34m:\u001b[0m\u001b[0;34m\u001b[0m\u001b[0;34m\u001b[0m\u001b[0m\n\u001b[1;32m   4396\u001b[0m                 \u001b[0;31m# no context passed as argument, no Cplex installed, try model's own context\u001b[0m\u001b[0;34m\u001b[0m\u001b[0;34m\u001b[0m\u001b[0;34m\u001b[0m\u001b[0m\n",
      "\u001b[0;32m~/.local/lib/python3.6/site-packages/docplex/mp/model.py\u001b[0m in \u001b[0;36m_solve_local\u001b[0;34m(self, context, clean_before_solve, lex_timelimits, lex_mipgaps)\u001b[0m\n\u001b[1;32m   4514\u001b[0m         \u001b[0;32mexcept\u001b[0m \u001b[0mDOcplexException\u001b[0m \u001b[0;32mas\u001b[0m \u001b[0mdocpx_e\u001b[0m\u001b[0;34m:\u001b[0m  \u001b[0;31m# pragma: no cover\u001b[0m\u001b[0;34m\u001b[0m\u001b[0;34m\u001b[0m\u001b[0m\n\u001b[1;32m   4515\u001b[0m             \u001b[0mself\u001b[0m\u001b[0;34m.\u001b[0m\u001b[0m_set_solution\u001b[0m\u001b[0;34m(\u001b[0m\u001b[0;32mNone\u001b[0m\u001b[0;34m)\u001b[0m\u001b[0;34m\u001b[0m\u001b[0;34m\u001b[0m\u001b[0m\n\u001b[0;32m-> 4516\u001b[0;31m             \u001b[0;32mraise\u001b[0m \u001b[0mdocpx_e\u001b[0m\u001b[0;34m\u001b[0m\u001b[0;34m\u001b[0m\u001b[0m\n\u001b[0m\u001b[1;32m   4517\u001b[0m \u001b[0;34m\u001b[0m\u001b[0m\n\u001b[1;32m   4518\u001b[0m         \u001b[0;32mexcept\u001b[0m \u001b[0mException\u001b[0m \u001b[0;32mas\u001b[0m \u001b[0me\u001b[0m\u001b[0;34m:\u001b[0m\u001b[0;34m\u001b[0m\u001b[0;34m\u001b[0m\u001b[0m\n",
      "\u001b[0;32m~/.local/lib/python3.6/site-packages/docplex/mp/model.py\u001b[0m in \u001b[0;36m_solve_local\u001b[0;34m(self, context, clean_before_solve, lex_timelimits, lex_mipgaps)\u001b[0m\n\u001b[1;32m   4505\u001b[0m                                              \u001b[0mclean_before_solve\u001b[0m\u001b[0;34m=\u001b[0m\u001b[0mclean_before_solve\u001b[0m\u001b[0;34m,\u001b[0m\u001b[0;34m\u001b[0m\u001b[0;34m\u001b[0m\u001b[0m\n\u001b[1;32m   4506\u001b[0m                                              \u001b[0mlex_timelimits\u001b[0m\u001b[0;34m=\u001b[0m\u001b[0mlex_timelimits\u001b[0m\u001b[0;34m,\u001b[0m\u001b[0;34m\u001b[0m\u001b[0;34m\u001b[0m\u001b[0m\n\u001b[0;32m-> 4507\u001b[0;31m                                              lex_mipgaps=lex_mipgaps)\n\u001b[0m\u001b[1;32m   4508\u001b[0m             \u001b[0mself\u001b[0m\u001b[0;34m.\u001b[0m\u001b[0m_set_solution\u001b[0m\u001b[0;34m(\u001b[0m\u001b[0mnew_solution\u001b[0m\u001b[0;34m)\u001b[0m\u001b[0;34m\u001b[0m\u001b[0;34m\u001b[0m\u001b[0m\n\u001b[1;32m   4509\u001b[0m \u001b[0;34m\u001b[0m\u001b[0m\n",
      "\u001b[0;32m~/.local/lib/python3.6/site-packages/docplex/mp/cplex_engine.py\u001b[0m in \u001b[0;36msolve\u001b[0;34m(self, mdl, parameters, **kwargs)\u001b[0m\n\u001b[1;32m   1936\u001b[0m                 \u001b[0mcpx_status\u001b[0m \u001b[0;34m=\u001b[0m \u001b[0;36m1016\u001b[0m\u001b[0;34m\u001b[0m\u001b[0;34m\u001b[0m\u001b[0m\n\u001b[1;32m   1937\u001b[0m                 \u001b[0mcpx_status_string\u001b[0m \u001b[0;34m=\u001b[0m \u001b[0;34m\"Promotional version. Problem size limits exceeded., CPLEX code=1016.\"\u001b[0m\u001b[0;34m\u001b[0m\u001b[0;34m\u001b[0m\u001b[0m\n\u001b[0;32m-> 1938\u001b[0;31m                 \u001b[0mself\u001b[0m\u001b[0;34m.\u001b[0m\u001b[0m_model\u001b[0m\u001b[0;34m.\u001b[0m\u001b[0mfatal_ce_limits\u001b[0m\u001b[0;34m(\u001b[0m\u001b[0;34m)\u001b[0m\u001b[0;34m\u001b[0m\u001b[0;34m\u001b[0m\u001b[0m\n\u001b[0m\u001b[1;32m   1939\u001b[0m \u001b[0;34m\u001b[0m\u001b[0m\n\u001b[1;32m   1940\u001b[0m             \u001b[0;32melif\u001b[0m \u001b[0mself\u001b[0m\u001b[0;34m.\u001b[0m\u001b[0mfix_multiobj_error_1300\u001b[0m \u001b[0;32mand\u001b[0m \u001b[0;36m1300\u001b[0m \u001b[0;34m==\u001b[0m \u001b[0mcpx_code\u001b[0m\u001b[0;34m:\u001b[0m\u001b[0;34m\u001b[0m\u001b[0;34m\u001b[0m\u001b[0m\n",
      "\u001b[0;32m~/.local/lib/python3.6/site-packages/docplex/mp/model.py\u001b[0m in \u001b[0;36mfatal_ce_limits\u001b[0;34m(self, *args)\u001b[0m\n\u001b[1;32m    946\u001b[0m \u001b[0;34m\u001b[0m\u001b[0m\n\u001b[1;32m    947\u001b[0m     \u001b[0;32mdef\u001b[0m \u001b[0mfatal_ce_limits\u001b[0m\u001b[0;34m(\u001b[0m\u001b[0mself\u001b[0m\u001b[0;34m,\u001b[0m \u001b[0;34m*\u001b[0m\u001b[0margs\u001b[0m\u001b[0;34m)\u001b[0m\u001b[0;34m:\u001b[0m\u001b[0;34m\u001b[0m\u001b[0;34m\u001b[0m\u001b[0m\n\u001b[0;32m--> 948\u001b[0;31m         \u001b[0mself\u001b[0m\u001b[0;34m.\u001b[0m\u001b[0m_error_handler\u001b[0m\u001b[0;34m.\u001b[0m\u001b[0mfatal_limits_exceeded\u001b[0m\u001b[0;34m(\u001b[0m\u001b[0;34m)\u001b[0m\u001b[0;34m\u001b[0m\u001b[0;34m\u001b[0m\u001b[0m\n\u001b[0m\u001b[1;32m    949\u001b[0m \u001b[0;34m\u001b[0m\u001b[0m\n\u001b[1;32m    950\u001b[0m     \u001b[0;32mdef\u001b[0m \u001b[0merror\u001b[0m\u001b[0;34m(\u001b[0m\u001b[0mself\u001b[0m\u001b[0;34m,\u001b[0m \u001b[0mmsg\u001b[0m\u001b[0;34m,\u001b[0m \u001b[0;34m*\u001b[0m\u001b[0margs\u001b[0m\u001b[0;34m)\u001b[0m\u001b[0;34m:\u001b[0m\u001b[0;34m\u001b[0m\u001b[0;34m\u001b[0m\u001b[0m\n",
      "\u001b[0;32m~/.local/lib/python3.6/site-packages/docplex/mp/error_handler.py\u001b[0m in \u001b[0;36mfatal_limits_exceeded\u001b[0;34m(self)\u001b[0m\n\u001b[1;32m    213\u001b[0m     \u001b[0;32mdef\u001b[0m \u001b[0mfatal_limits_exceeded\u001b[0m\u001b[0;34m(\u001b[0m\u001b[0mself\u001b[0m\u001b[0;34m)\u001b[0m\u001b[0;34m:\u001b[0m\u001b[0;34m\u001b[0m\u001b[0;34m\u001b[0m\u001b[0m\n\u001b[1;32m    214\u001b[0m         \u001b[0mdocplex_error_stop_here\u001b[0m\u001b[0;34m(\u001b[0m\u001b[0;34m)\u001b[0m\u001b[0;34m\u001b[0m\u001b[0;34m\u001b[0m\u001b[0m\n\u001b[0;32m--> 215\u001b[0;31m         \u001b[0;32mraise\u001b[0m \u001b[0mDOcplexLimitsExceeded\u001b[0m\u001b[0;34m(\u001b[0m\u001b[0;34m)\u001b[0m\u001b[0;34m\u001b[0m\u001b[0;34m\u001b[0m\u001b[0m\n\u001b[0m\u001b[1;32m    216\u001b[0m \u001b[0;34m\u001b[0m\u001b[0m\n\u001b[1;32m    217\u001b[0m \u001b[0;34m\u001b[0m\u001b[0m\n",
      "\u001b[0;31mDOcplexLimitsExceeded\u001b[0m: **** Promotional version. Problem size limits exceeded, CPLEX code=1016"
     ]
    }
   ],
   "source": [
    "graph2 =[[1, 3, 6, 8, 12, 14, 17, 19, 24, 26, 29, 31, 35, 37, 40, 42],\n",
    " [0, 2, 5, 7, 11, 13, 16, 18, 23, 25, 28, 30, 34, 36, 39, 41],\n",
    " [1, 4, 6, 9, 12, 15, 17, 20, 24, 27, 29, 32, 35, 38, 40, 43],\n",
    " [0, 4, 5, 9, 11, 15, 16, 20, 23, 27, 28, 32, 34, 38, 39, 43],\n",
    " [2, 3, 7, 8, 13, 14, 18, 19, 25, 26, 30, 31, 36, 37, 41, 42],\n",
    " [1, 3, 10, 12, 14, 21, 24, 26, 33, 35, 37, 44],\n",
    " [0, 2, 10, 11, 13, 21, 23, 25, 33, 34, 36, 44],\n",
    " [1, 4, 10, 12, 15, 21, 24, 27, 33, 35, 38, 44],\n",
    " [0, 4, 10, 11, 15, 21, 23, 27, 33, 34, 38, 44],\n",
    " [2, 3, 10, 13, 14, 21, 25, 26, 33, 36, 37, 44],\n",
    " [5, 6, 7, 8, 9, 16, 17, 18, 19, 20, 28, 29, 30, 31, 32, 39, 40, 41, 42, 43],\n",
    " [1, 3, 6, 8, 22, 24, 26, 29, 31, 45],\n",
    " [0, 2, 5, 7, 22, 23, 25, 28, 30, 45],\n",
    " [1, 4, 6, 9, 22, 24, 27, 29, 32, 45],\n",
    " [0, 4, 5, 9, 22, 23, 27, 28, 32, 45],\n",
    " [2, 3, 7, 8, 22, 25, 26, 30, 31, 45],\n",
    " [1, 3, 10, 22, 24, 26, 33, 45],\n",
    " [0, 2, 10, 22, 23, 25, 33, 45],\n",
    " [1, 4, 10, 22, 24, 27, 33, 45],\n",
    " [0, 4, 10, 22, 23, 27, 33, 45],\n",
    " [2, 3, 10, 22, 25, 26, 33, 45],\n",
    " [5, 6, 7, 8, 9, 22, 28, 29, 30, 31, 32, 45],\n",
    " [11,12,13,14,15,16,17,18,19,20,21,34,35,36,37,38,39,40,41,42,43,44],\n",
    " [1, 3, 6, 8, 12, 14, 17, 19, 46],\n",
    " [0, 2, 5, 7, 11, 13, 16, 18, 46],\n",
    " [1, 4, 6, 9, 12, 15, 17, 20, 46],\n",
    " [0, 4, 5, 9, 11, 15, 16, 20, 46],\n",
    " [2, 3, 7, 8, 13, 14, 18, 19, 46],\n",
    " [1, 3, 10, 12, 14, 21, 46],\n",
    " [0, 2, 10, 11, 13, 21, 46],\n",
    " [1, 4, 10, 12, 15, 21, 46],\n",
    " [0, 4, 10, 11, 15, 21, 46],\n",
    " [2, 3, 10, 13, 14, 21, 46],\n",
    " [5, 6, 7, 8, 9, 16, 17, 18, 19, 20, 46],\n",
    " [1, 3, 6, 8, 22, 46],\n",
    " [0, 2, 5, 7, 22, 46],\n",
    " [1, 4, 6, 9, 22, 46],\n",
    " [0, 4, 5, 9, 22, 46],\n",
    " [2, 3, 7, 8, 22, 46],\n",
    " [1, 3, 10, 22, 46],\n",
    " [0, 2, 10, 22, 46],\n",
    " [1, 4, 10, 22, 46],\n",
    " [0, 4, 10, 22, 46],\n",
    " [2, 3, 10, 22, 46],\n",
    " [5, 6, 7, 8, 9, 22, 46],\n",
    " [11, 12, 13, 14, 15, 16, 17, 18, 19, 20, 21, 46],\n",
    " [23,24,25,26,27,28,29,30,31,32,33,34,35,36,37,38,39,40,41,42,43,44,45]]\n",
    "\n",
    "linear_programming(graph2)"
   ]
  },
  {
   "cell_type": "code",
   "execution_count": null,
   "metadata": {},
   "outputs": [],
   "source": []
  }
 ],
 "metadata": {
  "kernelspec": {
   "display_name": "Python 3",
   "language": "python",
   "name": "python3"
  },
  "language_info": {
   "codemirror_mode": {
    "name": "ipython",
    "version": 3
   },
   "file_extension": ".py",
   "mimetype": "text/x-python",
   "name": "python",
   "nbconvert_exporter": "python",
   "pygments_lexer": "ipython3",
   "version": "3.6.9"
  }
 },
 "nbformat": 4,
 "nbformat_minor": 2
}
