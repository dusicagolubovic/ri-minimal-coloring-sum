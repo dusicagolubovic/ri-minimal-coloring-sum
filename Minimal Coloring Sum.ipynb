{
 "cells": [
  {
   "cell_type": "markdown",
   "metadata": {},
   "source": [
    "# Minimal Color Sum"
   ]
  },
  {
   "cell_type": "markdown",
   "metadata": {},
   "source": [
    "Izvor grafova i njihovih najboljih bojenja: https://mat.gsia.cmu.edu/COLOR/instances.html"
   ]
  },
  {
   "cell_type": "markdown",
   "metadata": {},
   "source": [
    "## Podaci"
   ]
  },
  {
   "cell_type": "markdown",
   "metadata": {},
   "source": [
    "### Parsiranje velikih grafova u  DIMACS formatu"
   ]
  },
  {
   "cell_type": "code",
   "execution_count": 6,
   "metadata": {},
   "outputs": [],
   "source": [
    "import codecs\n",
    "\n",
    "def parse_dimacs_to_list(graph_file_name):\n",
    "    \n",
    "    graph_list = []\n",
    "    dim = 0\n",
    "\n",
    "    with codecs.open(graph_file_name, encoding='ascii') as graph_text:\n",
    "    \n",
    "        for line in graph_text:\n",
    "            if line.startswith('e'):\n",
    "                line = line[:-2]  \n",
    "                line = line.split(' ')\n",
    "                del line[0]    \n",
    "                int_list = list(map(int,line))\n",
    "                dim = max(dim, int(int_list[0]), int(int_list[1]))\n",
    "\n",
    "        print('Dimenzija: ',dim)\n",
    "\n",
    "        for i in range(0,dim+1):\n",
    "            graph_list.append([])\n",
    "        \n",
    "\n",
    "    #popunjavanje liste\n",
    "    with codecs.open(graph_file_name, encoding='ascii') as graph_text:        \n",
    "\n",
    "        for line in graph_text:\n",
    "            if line.startswith('e'):\n",
    "                #print(line)\n",
    "                line = line[:-2]  \n",
    "                line = line.split(' ')\n",
    "                del line[0]    \n",
    "                int_list = list(map(int,line))\n",
    "                #print(int_list)\n",
    "                #print(int_list[0],int_list[1])\n",
    "                graph_list[int_list[0]].append(int_list[1])\n",
    "                graph_list[int_list[1]].append(int_list[0])\n",
    "                #print(graph_list)\n",
    "\n",
    "\n",
    "    return graph_list\n"
   ]
  },
  {
   "cell_type": "code",
   "execution_count": 7,
   "metadata": {},
   "outputs": [],
   "source": [
    "#\n",
    "graph0 = [\n",
    "  [1,2],\n",
    "  [0,3,4,6],\n",
    "  [0,2,5],\n",
    "  [1],\n",
    "  [1,5],\n",
    "  [2,4],\n",
    "  [1]\n",
    "]\n",
    "\n"
   ]
  },
  {
   "cell_type": "code",
   "execution_count": 13,
   "metadata": {},
   "outputs": [
    {
     "name": "stdout",
     "output_type": "stream",
     "text": [
      "Dimenzija:  11\n",
      "[[], [2, 4, 7, 9], [1, 3, 6, 8], [2, 5, 7, 10], [1, 5, 6, 10], [3, 4, 8, 9], [2, 4, 11], [1, 3, 11], [2, 5, 11], [1, 5, 11], [3, 4, 11], [6, 7, 8, 9, 10]]\n"
     ]
    }
   ],
   "source": [
    "#mali (4)\n",
    "graph1 = parse_dimacs_to_list('graph1.txt')\n",
    "#graph1.pop(0) \n",
    "print(graph1)"
   ]
  },
  {
   "cell_type": "code",
   "execution_count": 14,
   "metadata": {},
   "outputs": [
    {
     "name": "stdout",
     "output_type": "stream",
     "text": [
      "Dimenzija:  47\n",
      "[[], [2, 4, 7, 9, 13, 15, 18, 20, 25, 27, 30, 32, 36, 38, 41, 43], [1, 3, 6, 8, 12, 14, 17, 19, 24, 26, 29, 31, 35, 37, 40, 42], [2, 5, 7, 10, 13, 16, 18, 21, 25, 28, 30, 33, 36, 39, 41, 44], [1, 5, 6, 10, 12, 16, 17, 21, 24, 28, 29, 33, 35, 39, 40, 44], [3, 4, 8, 9, 14, 15, 19, 20, 26, 27, 31, 32, 37, 38, 42, 43], [2, 4, 11, 13, 15, 22, 25, 27, 34, 36, 38, 45], [1, 3, 11, 12, 14, 22, 24, 26, 34, 35, 37, 45], [2, 5, 11, 13, 16, 22, 25, 28, 34, 36, 39, 45], [1, 5, 11, 12, 16, 22, 24, 28, 34, 35, 39, 45], [3, 4, 11, 14, 15, 22, 26, 27, 34, 37, 38, 45], [6, 7, 8, 9, 10, 17, 18, 19, 20, 21, 29, 30, 31, 32, 33, 40, 41, 42, 43, 44], [2, 4, 7, 9, 23, 25, 27, 30, 32, 46], [1, 3, 6, 8, 23, 24, 26, 29, 31, 46], [2, 5, 7, 10, 23, 25, 28, 30, 33, 46], [1, 5, 6, 10, 23, 24, 28, 29, 33, 46], [3, 4, 8, 9, 23, 26, 27, 31, 32, 46], [2, 4, 11, 23, 25, 27, 34, 46], [1, 3, 11, 23, 24, 26, 34, 46], [2, 5, 11, 23, 25, 28, 34, 46], [1, 5, 11, 23, 24, 28, 34, 46], [3, 4, 11, 23, 26, 27, 34, 46], [6, 7, 8, 9, 10, 23, 29, 30, 31, 32, 33, 46], [12, 13, 14, 15, 16, 17, 18, 19, 20, 21, 22, 35, 36, 37, 38, 39, 40, 41, 42, 43, 44, 45], [2, 4, 7, 9, 13, 15, 18, 20, 47], [1, 3, 6, 8, 12, 14, 17, 19, 47], [2, 5, 7, 10, 13, 16, 18, 21, 47], [1, 5, 6, 10, 12, 16, 17, 21, 47], [3, 4, 8, 9, 14, 15, 19, 20, 47], [2, 4, 11, 13, 15, 22, 47], [1, 3, 11, 12, 14, 22, 47], [2, 5, 11, 13, 16, 22, 47], [1, 5, 11, 12, 16, 22, 47], [3, 4, 11, 14, 15, 22, 47], [6, 7, 8, 9, 10, 17, 18, 19, 20, 21, 47], [2, 4, 7, 9, 23, 47], [1, 3, 6, 8, 23, 47], [2, 5, 7, 10, 23, 47], [1, 5, 6, 10, 23, 47], [3, 4, 8, 9, 23, 47], [2, 4, 11, 23, 47], [1, 3, 11, 23, 47], [2, 5, 11, 23, 47], [1, 5, 11, 23, 47], [3, 4, 11, 23, 47], [6, 7, 8, 9, 10, 23, 47], [12, 13, 14, 15, 16, 17, 18, 19, 20, 21, 22, 47], [24, 25, 26, 27, 28, 29, 30, 31, 32, 33, 34, 35, 36, 37, 38, 39, 40, 41, 42, 43, 44, 45, 46]]\n"
     ]
    }
   ],
   "source": [
    "#srednji (6)\n",
    "graph2 = parse_dimacs_to_list('graph2.txt')\n",
    "print(graph2)"
   ]
  },
  {
   "cell_type": "code",
   "execution_count": 15,
   "metadata": {},
   "outputs": [
    {
     "name": "stdout",
     "output_type": "stream",
     "text": [
      "Dimenzija:  128\n"
     ]
    }
   ],
   "source": [
    "#srednje boja mnogo cvorova (20)\n",
    "graph3 = parse_dimacs_to_list('graph3.txt')"
   ]
  },
  {
   "cell_type": "code",
   "execution_count": 16,
   "metadata": {},
   "outputs": [
    {
     "name": "stdout",
     "output_type": "stream",
     "text": [
      "Dimenzija:  128\n"
     ]
    }
   ],
   "source": [
    "#mnogo boja mnogo cvorova  (42)\n",
    "graph4 = parse_dimacs_to_list('graph4.txt')"
   ]
  },
  {
   "cell_type": "code",
   "execution_count": 17,
   "metadata": {},
   "outputs": [
    {
     "name": "stdout",
     "output_type": "stream",
     "text": [
      "Dimenzija:  95\n",
      "[[], [2, 4, 7, 9, 13, 15, 18, 20, 25, 27, 30, 32, 36, 38, 41, 43, 49, 51, 54, 56, 60, 62, 65, 67, 72, 74, 77, 79, 83, 85, 88, 90], [1, 3, 6, 8, 12, 14, 17, 19, 24, 26, 29, 31, 35, 37, 40, 42, 48, 50, 53, 55, 59, 61, 64, 66, 71, 73, 76, 78, 82, 84, 87, 89], [2, 5, 7, 10, 13, 16, 18, 21, 25, 28, 30, 33, 36, 39, 41, 44, 49, 52, 54, 57, 60, 63, 65, 68, 72, 75, 77, 80, 83, 86, 88, 91], [1, 5, 6, 10, 12, 16, 17, 21, 24, 28, 29, 33, 35, 39, 40, 44, 48, 52, 53, 57, 59, 63, 64, 68, 71, 75, 76, 80, 82, 86, 87, 91], [3, 4, 8, 9, 14, 15, 19, 20, 26, 27, 31, 32, 37, 38, 42, 43, 50, 51, 55, 56, 61, 62, 66, 67, 73, 74, 78, 79, 84, 85, 89, 90], [2, 4, 11, 13, 15, 22, 25, 27, 34, 36, 38, 45, 49, 51, 58, 60, 62, 69, 72, 74, 81, 83, 85, 92], [1, 3, 11, 12, 14, 22, 24, 26, 34, 35, 37, 45, 48, 50, 58, 59, 61, 69, 71, 73, 81, 82, 84, 92], [2, 5, 11, 13, 16, 22, 25, 28, 34, 36, 39, 45, 49, 52, 58, 60, 63, 69, 72, 75, 81, 83, 86, 92], [1, 5, 11, 12, 16, 22, 24, 28, 34, 35, 39, 45, 48, 52, 58, 59, 63, 69, 71, 75, 81, 82, 86, 92], [3, 4, 11, 14, 15, 22, 26, 27, 34, 37, 38, 45, 50, 51, 58, 61, 62, 69, 73, 74, 81, 84, 85, 92], [6, 7, 8, 9, 10, 17, 18, 19, 20, 21, 29, 30, 31, 32, 33, 40, 41, 42, 43, 44, 53, 54, 55, 56, 57, 64, 65, 66, 67, 68, 76, 77, 78, 79, 80, 87, 88, 89, 90, 91], [2, 4, 7, 9, 23, 25, 27, 30, 32, 46, 49, 51, 54, 56, 70, 72, 74, 77, 79, 93], [1, 3, 6, 8, 23, 24, 26, 29, 31, 46, 48, 50, 53, 55, 70, 71, 73, 76, 78, 93], [2, 5, 7, 10, 23, 25, 28, 30, 33, 46, 49, 52, 54, 57, 70, 72, 75, 77, 80, 93], [1, 5, 6, 10, 23, 24, 28, 29, 33, 46, 48, 52, 53, 57, 70, 71, 75, 76, 80, 93], [3, 4, 8, 9, 23, 26, 27, 31, 32, 46, 50, 51, 55, 56, 70, 73, 74, 78, 79, 93], [2, 4, 11, 23, 25, 27, 34, 46, 49, 51, 58, 70, 72, 74, 81, 93], [1, 3, 11, 23, 24, 26, 34, 46, 48, 50, 58, 70, 71, 73, 81, 93], [2, 5, 11, 23, 25, 28, 34, 46, 49, 52, 58, 70, 72, 75, 81, 93], [1, 5, 11, 23, 24, 28, 34, 46, 48, 52, 58, 70, 71, 75, 81, 93], [3, 4, 11, 23, 26, 27, 34, 46, 50, 51, 58, 70, 73, 74, 81, 93], [6, 7, 8, 9, 10, 23, 29, 30, 31, 32, 33, 46, 53, 54, 55, 56, 57, 70, 76, 77, 78, 79, 80, 93], [12, 13, 14, 15, 16, 17, 18, 19, 20, 21, 22, 35, 36, 37, 38, 39, 40, 41, 42, 43, 44, 45, 59, 60, 61, 62, 63, 64, 65, 66, 67, 68, 69, 82, 83, 84, 85, 86, 87, 88, 89, 90, 91, 92], [2, 4, 7, 9, 13, 15, 18, 20, 47, 49, 51, 54, 56, 60, 62, 65, 67, 94], [1, 3, 6, 8, 12, 14, 17, 19, 47, 48, 50, 53, 55, 59, 61, 64, 66, 94], [2, 5, 7, 10, 13, 16, 18, 21, 47, 49, 52, 54, 57, 60, 63, 65, 68, 94], [1, 5, 6, 10, 12, 16, 17, 21, 47, 48, 52, 53, 57, 59, 63, 64, 68, 94], [3, 4, 8, 9, 14, 15, 19, 20, 47, 50, 51, 55, 56, 61, 62, 66, 67, 94], [2, 4, 11, 13, 15, 22, 47, 49, 51, 58, 60, 62, 69, 94], [1, 3, 11, 12, 14, 22, 47, 48, 50, 58, 59, 61, 69, 94], [2, 5, 11, 13, 16, 22, 47, 49, 52, 58, 60, 63, 69, 94], [1, 5, 11, 12, 16, 22, 47, 48, 52, 58, 59, 63, 69, 94], [3, 4, 11, 14, 15, 22, 47, 50, 51, 58, 61, 62, 69, 94], [6, 7, 8, 9, 10, 17, 18, 19, 20, 21, 47, 53, 54, 55, 56, 57, 64, 65, 66, 67, 68, 94], [2, 4, 7, 9, 23, 47, 49, 51, 54, 56, 70, 94], [1, 3, 6, 8, 23, 47, 48, 50, 53, 55, 70, 94], [2, 5, 7, 10, 23, 47, 49, 52, 54, 57, 70, 94], [1, 5, 6, 10, 23, 47, 48, 52, 53, 57, 70, 94], [3, 4, 8, 9, 23, 47, 50, 51, 55, 56, 70, 94], [2, 4, 11, 23, 47, 49, 51, 58, 70, 94], [1, 3, 11, 23, 47, 48, 50, 58, 70, 94], [2, 5, 11, 23, 47, 49, 52, 58, 70, 94], [1, 5, 11, 23, 47, 48, 52, 58, 70, 94], [3, 4, 11, 23, 47, 50, 51, 58, 70, 94], [6, 7, 8, 9, 10, 23, 47, 53, 54, 55, 56, 57, 70, 94], [12, 13, 14, 15, 16, 17, 18, 19, 20, 21, 22, 47, 59, 60, 61, 62, 63, 64, 65, 66, 67, 68, 69, 94], [24, 25, 26, 27, 28, 29, 30, 31, 32, 33, 34, 35, 36, 37, 38, 39, 40, 41, 42, 43, 44, 45, 46, 71, 72, 73, 74, 75, 76, 77, 78, 79, 80, 81, 82, 83, 84, 85, 86, 87, 88, 89, 90, 91, 92, 93], [2, 4, 7, 9, 13, 15, 18, 20, 25, 27, 30, 32, 36, 38, 41, 43, 95], [1, 3, 6, 8, 12, 14, 17, 19, 24, 26, 29, 31, 35, 37, 40, 42, 95], [2, 5, 7, 10, 13, 16, 18, 21, 25, 28, 30, 33, 36, 39, 41, 44, 95], [1, 5, 6, 10, 12, 16, 17, 21, 24, 28, 29, 33, 35, 39, 40, 44, 95], [3, 4, 8, 9, 14, 15, 19, 20, 26, 27, 31, 32, 37, 38, 42, 43, 95], [2, 4, 11, 13, 15, 22, 25, 27, 34, 36, 38, 45, 95], [1, 3, 11, 12, 14, 22, 24, 26, 34, 35, 37, 45, 95], [2, 5, 11, 13, 16, 22, 25, 28, 34, 36, 39, 45, 95], [1, 5, 11, 12, 16, 22, 24, 28, 34, 35, 39, 45, 95], [3, 4, 11, 14, 15, 22, 26, 27, 34, 37, 38, 45, 95], [6, 7, 8, 9, 10, 17, 18, 19, 20, 21, 29, 30, 31, 32, 33, 40, 41, 42, 43, 44, 95], [2, 4, 7, 9, 23, 25, 27, 30, 32, 46, 95], [1, 3, 6, 8, 23, 24, 26, 29, 31, 46, 95], [2, 5, 7, 10, 23, 25, 28, 30, 33, 46, 95], [1, 5, 6, 10, 23, 24, 28, 29, 33, 46, 95], [3, 4, 8, 9, 23, 26, 27, 31, 32, 46, 95], [2, 4, 11, 23, 25, 27, 34, 46, 95], [1, 3, 11, 23, 24, 26, 34, 46, 95], [2, 5, 11, 23, 25, 28, 34, 46, 95], [1, 5, 11, 23, 24, 28, 34, 46, 95], [3, 4, 11, 23, 26, 27, 34, 46, 95], [6, 7, 8, 9, 10, 23, 29, 30, 31, 32, 33, 46, 95], [12, 13, 14, 15, 16, 17, 18, 19, 20, 21, 22, 35, 36, 37, 38, 39, 40, 41, 42, 43, 44, 45, 95], [2, 4, 7, 9, 13, 15, 18, 20, 47, 95], [1, 3, 6, 8, 12, 14, 17, 19, 47, 95], [2, 5, 7, 10, 13, 16, 18, 21, 47, 95], [1, 5, 6, 10, 12, 16, 17, 21, 47, 95], [3, 4, 8, 9, 14, 15, 19, 20, 47, 95], [2, 4, 11, 13, 15, 22, 47, 95], [1, 3, 11, 12, 14, 22, 47, 95], [2, 5, 11, 13, 16, 22, 47, 95], [1, 5, 11, 12, 16, 22, 47, 95], [3, 4, 11, 14, 15, 22, 47, 95], [6, 7, 8, 9, 10, 17, 18, 19, 20, 21, 47, 95], [2, 4, 7, 9, 23, 47, 95], [1, 3, 6, 8, 23, 47, 95], [2, 5, 7, 10, 23, 47, 95], [1, 5, 6, 10, 23, 47, 95], [3, 4, 8, 9, 23, 47, 95], [2, 4, 11, 23, 47, 95], [1, 3, 11, 23, 47, 95], [2, 5, 11, 23, 47, 95], [1, 5, 11, 23, 47, 95], [3, 4, 11, 23, 47, 95], [6, 7, 8, 9, 10, 23, 47, 95], [12, 13, 14, 15, 16, 17, 18, 19, 20, 21, 22, 47, 95], [24, 25, 26, 27, 28, 29, 30, 31, 32, 33, 34, 35, 36, 37, 38, 39, 40, 41, 42, 43, 44, 45, 46, 95], [48, 49, 50, 51, 52, 53, 54, 55, 56, 57, 58, 59, 60, 61, 62, 63, 64, 65, 66, 67, 68, 69, 70, 71, 72, 73, 74, 75, 76, 77, 78, 79, 80, 81, 82, 83, 84, 85, 86, 87, 88, 89, 90, 91, 92, 93, 94]]\n"
     ]
    }
   ],
   "source": [
    "#mnogo covrova malo boja (8)\n",
    "graph5 = parse_dimacs_to_list('graph5.txt')\n",
    "print(graph5)"
   ]
  },
  {
   "cell_type": "code",
   "execution_count": 18,
   "metadata": {},
   "outputs": [
    {
     "name": "stdout",
     "output_type": "stream",
     "text": [
      "Dimenzija:  120\n"
     ]
    }
   ],
   "source": [
    "#mnogo cvorova malo grana (9)\n",
    "graph6 = parse_dimacs_to_list('graph6.txt')"
   ]
  },
  {
   "cell_type": "markdown",
   "metadata": {},
   "source": [
    "## Algoritmi"
   ]
  },
  {
   "cell_type": "markdown",
   "metadata": {},
   "source": [
    "### Brute Force"
   ]
  },
  {
   "cell_type": "code",
   "execution_count": 11,
   "metadata": {},
   "outputs": [
    {
     "name": "stdout",
     "output_type": "stream",
     "text": [
      "inf\n"
     ]
    }
   ],
   "source": [
    "\n",
    "\n",
    "\n",
    "\n",
    "\n",
    "minSolution = float('inf')\n",
    "def isFeasible(graph, solution):\n",
    "    for i in range(len(graph)):\n",
    "        for neigh in graph[i]:\n",
    "            if(solution[i]==solution[neigh]):\n",
    "                return False\n",
    "            \n",
    "    return True\n",
    "\n",
    "\n",
    "def allPossibleSolutionsRecur (possibleColors, data, last, index,graph): \n",
    "    length = len(possibleColors) \n",
    "    global minSolution\n",
    "    for i in range(length):\n",
    "        data[index] = possibleColors[i] \n",
    "        if index==last:\n",
    "            # Ovde uopste ne ulazi, nzm zasto\n",
    "            if(isFeasible(graph,data)):\n",
    "                if(sum(data)< minSolution):\n",
    "                    minSolution = sum(data)\n",
    "                \n",
    "                \n",
    "        else: \n",
    "            allPossibleSolutionsRecur(possibleColors, data, last, index+1,graph) \n",
    "            \n",
    "\n",
    "    \n",
    "def allPossibleSolutions(possibleColors,graph): \n",
    "    \n",
    "    length = len(possibleColors) \n",
    "    data = [1] * (length)  \n",
    "    allPossibleSolutionsRecur(possibleColors, data, length-1, 0,graph) \n",
    "    print(minSolution)\n",
    "    \n",
    "    \n",
    "allPossibleSolutions([1,2,3,4,5,6,7],graph0)\n"
   ]
  },
  {
   "cell_type": "markdown",
   "metadata": {},
   "source": [
    "### Pohlepni algoritam"
   ]
  },
  {
   "cell_type": "code",
   "execution_count": 13,
   "metadata": {},
   "outputs": [
    {
     "name": "stdout",
     "output_type": "stream",
     "text": [
      "[-1, 1, 1, 4, 2, 1, 1, 2, 1, 3, 3, 2, 2, 7, 3, 4, 1, 3, 10, 15, 2, 5, 3, 3, 11, 9, 6, 6, 16, 1, 13, 10, 4, 3, 1, 4, 1, 5, 14, 3, 9, 15, 4, 4, 4, 12, 16, 1, 3, 4, 5, 3, 15, 18, 3, 9, 9, 7, 19, 6, 8, 6, 14, 7, 1, 4, 10, 2, 3, 17, 5, 6, 3, 9, 6, 9, 5, 8, 5, 9, 8, 1, 20, 1, 4, 8, 7, 2, 8, 2, 7, 13, 11, 16, 5, 5, 10, 2, 6, 9, 12, 8, 5, 5, 1, 1, 4, 2, 4, 3, 2, 17, 2, 8, 11, 7, 21, 10, 4, 1, 2, 2, 4, 6, 7, 7, 4, 5, 10]\n"
     ]
    }
   ],
   "source": [
    "\n",
    "\n",
    "\n",
    "def bfs(graph, root):\n",
    "  \n",
    "    visited = [root]\n",
    "    queue = [root]\n",
    "  \n",
    "    color_dict = [-1 for i in range(len(graph))]\n",
    "\n",
    "    while queue:\n",
    "    \n",
    "        s = queue.pop(0)\n",
    "\n",
    "\n",
    "        #ovo moze lepse vrv\n",
    "        not_satisfied = True\n",
    "        color = 1\n",
    "\n",
    "      \n",
    "\n",
    "        adj = list(map(lambda x : color_dict[x], graph[s]))\n",
    "        #print ('adj:',adj, end = '\\n')\n",
    "        while not_satisfied:\n",
    "            if color not in adj:\n",
    "                color_dict[s] = color\n",
    "                not_satisfied = False\n",
    "            else: \n",
    "                color = color + 1\n",
    "      \n",
    "        for neighbour in graph[s]:\n",
    "            if neighbour not in visited:\n",
    "                visited.append(neighbour)\n",
    "                queue.append(neighbour)\n",
    "\n",
    "    return color_dict\n",
    "\n",
    "\n",
    "#color_dict = bfs(graph3,1)\n",
    "#print(color_dict)"
   ]
  },
  {
   "cell_type": "markdown",
   "metadata": {},
   "source": [
    "### Genetski algoritam"
   ]
  },
  {
   "cell_type": "code",
   "execution_count": 125,
   "metadata": {},
   "outputs": [],
   "source": [
    "import random\n",
    "\n",
    "class Individual:\n",
    "    \n",
    "    \n",
    "    def __init__(self,graph):\n",
    "        self.graph = graph\n",
    "        self.colors = self.initColors(graph)\n",
    "        self.fitness = 0\n",
    "        \n",
    "    def __lt__(self,other):\n",
    "        return self.fitness < other.fitness\n",
    "    \n",
    "    def findAjdColors(self,i):\n",
    "        ajdColors = []\n",
    "        for ajd in self.graph[i]:\n",
    "            ajdColors.append(self.colors[ajd])\n",
    "        return ajdColors\n",
    "        \n",
    "        \n",
    "    def correctNonFeasible(self):\n",
    "        \n",
    "        for i in range(len(self.graph)):\n",
    "            ajdColors = self.findAjdColors(i)\n",
    "            if(self.colors[i] in ajdColors):\n",
    "                \n",
    "                possibleColors = list(set([1,2,3,4,5,6,7,8])-set(ajdColors))\n",
    "                self.colors[i] = random.choice(possibleColors)\n",
    "        \n",
    "            \n",
    "    def fitnessFunction(self,colors):\n",
    "        value = 0\n",
    "        for color in colors:\n",
    "            value+=color\n",
    "        return value\n",
    "    \n",
    "    def initColors(self,graph):\n",
    "        colors = []\n",
    "        numberOfColors = len(graph)\n",
    "        for i in range(numberOfColors):\n",
    "            colors.append(random.randrange(1,numberOfColors+1))\n",
    "        return colors\n",
    "\n",
    "    def __str__(self):\n",
    "        print('Bojenje' + str(self.colors))\n",
    "        \n",
    "\n",
    "        \n",
    "# Selekcija -> biramo jedinke iz populacije za generisanje naredne\n",
    "# Koristimo turnirsku: za pocetak 6 turnira \n",
    "def tournamentSelection(population):\n",
    "    min = float('inf')\n",
    "    k=-1\n",
    "    for j in range(6):\n",
    "        j = random.randrange(100) # 100 -> broj populacije\n",
    "        if population[j].fitness < min:\n",
    "            min = population[j].fitness\n",
    "            k=j\n",
    "    \n",
    "    return k\n",
    "\n",
    "\n",
    "\n",
    "def rouletteSelection(population):\n",
    "    totalFitness = sum([individual.fitness for individual in population])\n",
    "    randomValue = random.randrange(0,totalFitness)\n",
    "    currentSum = 0\n",
    "    \n",
    "    for i in range(len(population)):\n",
    "        currentSum += population[i].fitness\n",
    "        if currentSum > randomValue:\n",
    "            return i\n",
    "        \n",
    "        \n",
    "        \n",
    "# Jednopoziciono ukrstanje\n",
    "def crossover(parent1,parent2,child1,child2):\n",
    "    numberColors = len(parent1.colors)\n",
    "    # biramo poziciju ukrstanja\n",
    "    position = random.randrange(numberColors)\n",
    "    # razmenjujemo\n",
    "    # prvi deo bojenja\n",
    "    for i in range(position):\n",
    "        child1.colors[i]=parent1.colors[i]\n",
    "        child2.colors[i]=parent2.colors[i]\n",
    "    \n",
    "    # drugi deo bojenja\n",
    "    for j in range(position,numberColors):\n",
    "        child1.colors[j]=parent2.colors[j]\n",
    "        child2.colors[j]=parent1.colors[j]\n",
    "        \n",
    "    # menjamo da budu dopustiva\n",
    "    child1.correctNonFeasible()\n",
    "    child2.correctNonFeasible()\n",
    "    \n",
    "    \n",
    "    \n",
    "    \n",
    "# Mutacija\n",
    "# Verovatnoca za mutaciju 0.05 (parametar, probati druge)\n",
    "def mutation(individual):\n",
    "    numberColors = len(individual.colors)\n",
    "    for i in range(numberColors):\n",
    "        if random.random() > 0.05:\n",
    "            continue\n",
    "        individual.colors[i] = random.choice(individual.colors)\n",
    "        individual.correctNonFeasible()\n",
    "        \n",
    "        \n",
    "# Inicijalna populacija\n",
    "# 100 jedinki u populaciji (parametar, probati druge)\n",
    "# za\n",
    "def initPopulation(graph):\n",
    "    population = []\n",
    "    newPopulation = []\n",
    "    for i in range(100):\n",
    "        individual = Individual(graph)\n",
    "        individual.initColors(graph)\n",
    "        individual.correctNonFeasible()\n",
    "        individual.fitness = individual.fitnessFunction(individual.colors)\n",
    "        population.append(individual)\n",
    "        newPopulation.append(individual)\n",
    "        \n",
    "    return (population,newPopulation)\n",
    "\n"
   ]
  },
  {
   "cell_type": "code",
   "execution_count": 128,
   "metadata": {},
   "outputs": [],
   "source": [
    "# Sprovodimo Genetski algoritam\n",
    "# 500 iteracija (probati druge parametre)\n",
    "\n",
    "\n",
    "\n",
    "\n",
    "# Dobijamo inicijalnu populaciju\n",
    "def Gen(graph):\n",
    "    population,newPopulation = initPopulation(graph)\n",
    "\n",
    "\n",
    "\n",
    "    for iteration in range(500):\n",
    "        population.sort() # da bi nam prvi bio sa najboljim fitnesom tj minimalnom sumom\n",
    "        # Elitizam, cuvamo 30 najboljih\n",
    "        for i in range(30):\n",
    "            newPopulation[i] = population[i]\n",
    "        # Ostale zamenjujemo decom\n",
    "        for i in range(30,100,2):\n",
    "            ind1 = tournamentSelection(population)\n",
    "            ind2 = tournamentSelection(population)\n",
    "            crossover(population[ind1],population[ind2],newPopulation[i],newPopulation[i+1])\n",
    "            mutation(newPopulation[i])\n",
    "            mutation(newPopulation[i+1])\n",
    "            newPopulation[i].fitness = newPopulation[i].fitnessFunction(newPopulation[i].colors)\n",
    "            newPopulation[i+1].fitness = newPopulation[i+1].fitnessFunction(newPopulation[i+1].colors)\n",
    "\n",
    "        population=newPopulation\n",
    "\n",
    "    population.sort()\n",
    "\n",
    "    print('Resenje',population[0].fitness)\n",
    "# Sa ruletskom se dobija 12\n",
    "\n",
    "\n"
   ]
  },
  {
   "cell_type": "markdown",
   "metadata": {},
   "source": [
    "### Simulirano kaljenje"
   ]
  },
  {
   "cell_type": "code",
   "execution_count": null,
   "metadata": {},
   "outputs": [],
   "source": [
    "from numpy import log as ln\n",
    "\n",
    "def isFeasible(graph, solution):\n",
    "    for i in range(len(graph)):\n",
    "        for neigh in graph[i]:\n",
    "            if(solution[i]==solution[neigh]):\n",
    "                return False\n",
    "            \n",
    "    return True\n",
    "\n",
    "def findAjdColors(i,graph,colors):\n",
    "        ajdColors = []\n",
    "        for ajd in graph[i]:\n",
    "            ajdColors.append(colors[ajd])\n",
    "        return ajdColors\n",
    "        \n",
    "        \n",
    "def correctNonFeasible(graph,colors):\n",
    "        \n",
    "    for i in range(len(graph)):\n",
    "        ajdColors = findAjdColors(i,graph,colors)\n",
    "        if(colors[i] in ajdColors):  \n",
    "            possibleColors = list(set([1,2,3,4,5,6,7,8])-set(ajdColors))\n",
    "            colors[i] = random.choice(possibleColors)\n",
    "    \n",
    "\n",
    "\n",
    "def initializeSolution(graph):\n",
    "    colors = []\n",
    "    numberOfColors = len(graph)\n",
    "    for i in range(numberOfColors):\n",
    "            colors.append(random.randrange(1,numberOfColors+1))\n",
    "    \n",
    "    if not isFeasible(graph,colors):\n",
    "        correctNonFeasible(graph,colors)\n",
    "        \n",
    "    return colors\n",
    "\n",
    "# racuna vrednost funkcije cilja\n",
    "def solutionValue(solution):\n",
    "    return sum(solution)\n",
    "# biramo resenje iz okoline\n",
    "# random odaberemo indeks i smanjimo mu vrednost boje\n",
    "oldValue = 0\n",
    "def adjacencySolution(solution,graph):\n",
    "    global oldValue\n",
    "    position = random.randrange(0,len(graph))\n",
    "    oldValue = solution[position]\n",
    "    oldPosition = position\n",
    "    if solution[position]==1:\n",
    "        solution[position]=solution[position]+1\n",
    "    else:\n",
    "        solution[position]=solution[position]-1\n",
    "      \n",
    "    #newColor = random.randrange(1,len(graph)+1)\n",
    "    #solution[position] = newColor ---> nije susedno vrv\n",
    "    if isFeasible(graph,solution):\n",
    "        return position\n",
    "    solution[position] = oldValue\n",
    "    return -1\n",
    "            \n",
    "    \n",
    "# vracamo staru vrednost ako ne dobijamo bolje resenje\n",
    "\n",
    "def restore(position,solution):\n",
    "    solution[position] = oldValue"
   ]
  },
  {
   "cell_type": "code",
   "execution_count": null,
   "metadata": {},
   "outputs": [],
   "source": [
    "# Algoritam simuliranog kaljenja\n",
    "def simulatedAnnealing(graph,solution,maxIters):\n",
    "    currValue = solutionValue(solution)\n",
    "    bestValue = currValue # na pocetku od pocetnog resenja \n",
    "    i=1\n",
    "    # ponavljamo postupak dok ne dostignemo maksimalno iteracija\n",
    "    while i<maxIters:\n",
    "        # uzimamo resenje u okolini\n",
    "        j = adjacencySolution(solution,graph)\n",
    "        # ako nije dopustivo idemo na narednu iteraciju \n",
    "        if j<0: \n",
    "            continue\n",
    "        newValue = solutionValue(solution)\n",
    "        if newValue < currValue:\n",
    "            currValue = newValue\n",
    "        else:\n",
    "            # Racunamo vrednost opadajuce fje\n",
    "            # Uzimamo druge fje p\n",
    "            \n",
    "            p = 1.0 / i ** 0.5\n",
    "           # p = ln(2) / ln(1+i) \n",
    "            q = random.uniform(0, 1) #treba nam random vr [0,1]\n",
    "            if p > q:\n",
    "                currValue = newValue\n",
    "            else:\n",
    "                restore(j, solution)\n",
    "        if newValue < bestValue:\n",
    "            bestValue = newValue\n",
    "        i += 1\n",
    "    return bestValue"
   ]
  },
  {
   "cell_type": "code",
   "execution_count": null,
   "metadata": {},
   "outputs": [],
   "source": [
    "graph_list2 = [[3],[3],[3],[0,1,2,4],[3,5,6,7],[4],[4],[4]]\n",
    "solution = initializeSolution(graph_list2)\n",
    "value = simulatedAnnealing(graph_list2,solution,19000)\n",
    "print('Najbolje resenje',value)"
   ]
  },
  {
   "cell_type": "markdown",
   "metadata": {},
   "source": [
    "#### Hibridizacija"
   ]
  },
  {
   "cell_type": "code",
   "execution_count": null,
   "metadata": {},
   "outputs": [],
   "source": [
    "import random\n",
    "\n",
    "class Individual_hybrid:\n",
    "    \n",
    "    \n",
    "    def __init__(self,graph):\n",
    "        self.graph = graph\n",
    "        self.colors = self.initColors(graph)\n",
    "        self.fitness = 0\n",
    "        self.oldValue = 0\n",
    "        \n",
    "    def __lt__(self,other):\n",
    "        return self.fitness < other.fitness\n",
    "    \n",
    "    def findAjdColors(self,i):\n",
    "        ajdColors = []\n",
    "        for ajd in self.graph[i]:\n",
    "            ajdColors.append(self.colors[ajd])\n",
    "        return ajdColors\n",
    "   \n",
    "\n",
    "    def isFeasible(self):\n",
    "        for i in range(len(self.graph)):\n",
    "            for neigh in self.graph[i]:\n",
    "                if(self.colors[i]==self.colors[neigh]):\n",
    "                    return False\n",
    "            \n",
    "        return True\n",
    "    \n",
    "    # biramo resenje iz okoline\n",
    "# random odaberemo indeks i smanjimo mu vrednost boje\n",
    "   \n",
    "    def adjacencySolution(self):\n",
    "        position = random.randrange(0,len(self.graph))\n",
    "        self.oldValue = self.colors[position]\n",
    "        if self.colors[position]==1:\n",
    "            self.colors[position]=self.colors[position]+1\n",
    "        else:\n",
    "            self.colors[position]=self.colors[position]-1\n",
    "      \n",
    "    #newColor = random.randrange(1,len(graph)+1)\n",
    "    #solution[position] = newColor ---> nije susedno vrv\n",
    "        if self.isFeasible():\n",
    "            return position\n",
    "        self.colors[position] = self.oldValue\n",
    "        return -1\n",
    "\n",
    "        \n",
    "    def correctNonFeasible(self):\n",
    "        \n",
    "        for i in range(len(self.graph)):\n",
    "            ajdColors = self.findAjdColors(i)\n",
    "            if(self.colors[i] in ajdColors):\n",
    "                \n",
    "                possibleColors = list(set([1,2,3,4,5,6,7,8])-set(ajdColors))\n",
    "                self.colors[i] = random.choice(possibleColors)\n",
    "        \n",
    "    \n",
    "    def restore(self,position):\n",
    "        self.colors[position] = self.oldValue\n",
    "\n",
    "    def fitnessFunction(self,colors):\n",
    "        value = 0\n",
    "        for color in colors:\n",
    "            value+=color\n",
    "        return value\n",
    "    \n",
    "    def initColors(self,graph):\n",
    "        colors = []\n",
    "        numberOfColors = len(graph)\n",
    "        for i in range(numberOfColors):\n",
    "            colors.append(random.randrange(1,numberOfColors+1))\n",
    "        return colors\n",
    "\n",
    "    def __str__(self):\n",
    "        print('Bojenje' + str(self.colors))\n",
    "        \n"
   ]
  },
  {
   "cell_type": "code",
   "execution_count": null,
   "metadata": {},
   "outputs": [],
   "source": [
    "def simulatedAnnealing(individual, maxIters):\n",
    "    for i in range(maxIters):\n",
    "        j = individual.adjacencySolution()\n",
    "        if j < 0:\n",
    "            continue\n",
    "        newFitness = individual.fitnessFunction(individual.colors)\n",
    "        if newFitness < individual.fitness:\n",
    "            individual.fitness = newFitness\n",
    "        else:\n",
    "            p = 1.0 / (i + 1) ** 0.5\n",
    "            q = random.uniform(0, 1)\n",
    "            if p > q:\n",
    "                individual.fitness = newFitness\n",
    "            else:\n",
    "                individual.restore(j)"
   ]
  },
  {
   "cell_type": "code",
   "execution_count": null,
   "metadata": {},
   "outputs": [],
   "source": [
    "# Sprovodimo Genetski algoritam\n",
    "# 500 iteracija (probati druge parametre)\n",
    "\n",
    "graph_list = [\n",
    "  [1,2],\n",
    "  [0,3,4,6],\n",
    "  [0,2,5],\n",
    "  [1],\n",
    "  [1,5],\n",
    "  [2,4],\n",
    "  [1]\n",
    "]\n",
    "\n",
    "#graph_list2 = [[3],[3],[3],[0,1,2,4],[3,5,6,7],[4],[4],[4]]\n",
    "\n",
    "# Dobijamo inicijalnu populaciju\n",
    "population,newPopulation = initPopulation(graph_list2)\n",
    "\n",
    "\n",
    "\n",
    "for iteration in range(500):\n",
    "    population.sort() # da bi nam prvi bio sa najboljim fitnesom tj minimalnom sumom\n",
    "    # Elitizam, cuvamo 30 najboljih\n",
    "    for i in range(30):\n",
    "        newPopulation[i] = population[i]\n",
    "    # Ostale zamenjujemo decom\n",
    "    for i in range(30,100,2):\n",
    "        ind1 = tournamentSelection(population)\n",
    "        ind2 = tournamentSelection(population)\n",
    "        crossover(population[ind1],population[ind2],newPopulation[i],newPopulation[i+1])\n",
    "        mutation(newPopulation[i])\n",
    "        mutation(newPopulation[i+1])\n",
    "        newPopulation[i].fitness = newPopulation[i].fitnessFunction(newPopulation[i].colors)\n",
    "        newPopulation[i+1].fitness = newPopulation[i+1].fitnessFunction(newPopulation[i+1].colors)\n",
    "    # sprovodimo kaljenje na najbolji u populaciji\n",
    "    simulatedAnnealing(newPopulation[0], 100)\n",
    "    population=newPopulation\n",
    "\n",
    "population.sort()\n",
    "\n",
    "print('Resenje',population[0].fitness)\n",
    "# Sa ruletskom se dobija 12"
   ]
  },
  {
   "cell_type": "markdown",
   "metadata": {},
   "source": [
    "### PSO"
   ]
  },
  {
   "cell_type": "code",
   "execution_count": 25,
   "metadata": {},
   "outputs": [],
   "source": [
    "import random\n",
    "def isFeasiblePSO(graph, solution):\n",
    "    for i in range(len(graph)):\n",
    "        for neigh in graph[i]:\n",
    "            if(solution[i]==solution[neigh]):\n",
    "                return False\n",
    "            \n",
    "    return True\n",
    "\n",
    "def findAjdColorsPSO(i,graph,colors):\n",
    "        ajdColors = []\n",
    "        for ajd in graph[i]:\n",
    "            ajdColors.append(colors[ajd])\n",
    "        return ajdColors\n",
    "        \n",
    "        \n",
    "def correctNonFeasiblePSO(graph,colors):\n",
    "        \n",
    "    for i in range(len(graph)):\n",
    "        ajdColors = findAjdColorsPSO(i,graph,colors)\n",
    "        if(colors[i] in ajdColors):  \n",
    "            possibleColors = list(set([1,2,3,4,5,6,7,8])-set(ajdColors))\n",
    "\n",
    "            colors[i] = random.choice(possibleColors)\n",
    "            \n",
    "                \n",
    "\n",
    "\n",
    "def initializeSolutionPSO(graph):\n",
    "    colors = []\n",
    "    numberOfColors = len(graph)\n",
    "    for i in range(numberOfColors):\n",
    "            colors.append(random.randrange(1,numberOfColors+1))\n",
    "    \n",
    "    if not isFeasiblePSO(graph,colors):\n",
    "        correctNonFeasiblePSO(graph,colors)\n",
    "        \n",
    "    return colors\n",
    "\n",
    "# racuna vrednost funkcije cilja\n",
    "def solutionValuePSO(solution):\n",
    "    return sum(solution)"
   ]
  },
  {
   "cell_type": "code",
   "execution_count": 26,
   "metadata": {},
   "outputs": [],
   "source": [
    "def init(numberVertex,position,velocity,bestValue,numberOfParticles,graph):\n",
    "    # za svaku cesticu pravimo bojenje\n",
    "    globalBestValue = float(\"inf\")\n",
    "    for i in range(numberOfParticles):\n",
    "        coloring = initializeSolutionPSO(graph)\n",
    "        position.append(coloring)\n",
    "        bestValue.append(solutionValuePSO(coloring))\n",
    "        velocity.append(0.0)\n",
    "        if(solutionValuePSO(coloring)<globalBestValue):\n",
    "            globalBestValue = solutionValuePSO(coloring)\n",
    "            globalBest = coloring\n",
    "\n",
    "    return globalBestValue,globalBest "
   ]
  },
  {
   "cell_type": "code",
   "execution_count": 27,
   "metadata": {},
   "outputs": [],
   "source": [
    "#apdejtujemo vektor brzina\n",
    "max_velocity = 10\n",
    "def updateVelocity(position,velocity,bestValue,globalBestValue):\n",
    "    # za svaku jedinku\n",
    "    for i in range(len(velocity)):\n",
    "        # po formuli \n",
    "        #              koliko pridajemo znajacnosti      pravac\n",
    "        velocity[i] += 2.0*random.random()*(bestValue[i]-solutionValuePSO(position[i])) \\\n",
    "                    + 2.0*random.random()*(globalBestValue-solutionValuePSO(position[i]))\n",
    "        if velocity[i] > max_velocity:\n",
    "            velocity[i] = max_velocity\n",
    "        if velocity[i] < -max_velocity:\n",
    "            velocity[i] = - max_velocity"
   ]
  },
  {
   "cell_type": "code",
   "execution_count": 28,
   "metadata": {},
   "outputs": [],
   "source": [
    "\n",
    "def updatePosition(position,velocity,bestValue,globalBest,globalBestValue,graph):\n",
    "    # za svaku cesticu\n",
    "    for i in range(len(position)):\n",
    "        # prolazimo kroz svaki deo koloringa, na svaki broj dodajemo brzinu\n",
    "        # isto formula\n",
    "        for j in range(len(position[i])):\n",
    "            position[i][j]+=int(velocity[i])#jer nam trebaju celi brojevi, necemo velocity jer bismo stalno zaokruzili i usporili\n",
    "            if position[i][j] > len(graph):\n",
    "                position[i][j] = len(graph)\n",
    "            if position[i][j] < 1:\n",
    "                position[i][j] = 1\n",
    "\n",
    "        if not isFeasiblePSO(graph,position[i]):\n",
    "            correctNonFeasiblePSO(graph,position[i])\n",
    "        value = solutionValuePSO(position[i])\n",
    "        if value < bestValue[i]:\n",
    "            bestValue[i]=value\n",
    "        if value<globalBestValue:\n",
    "            globalBestValue = value\n",
    "            globalBest = position[i].copy()\n",
    "        \n",
    "        \n",
    "    return globalBestValue  \n",
    "\n",
    "def PSO(graph,numberVertex,numberOfParticles,maxIteration):\n",
    "    position = []   #niz svih bojenja\n",
    "    velocity = []  # vektor brzina\n",
    "    bestValue = [] #vektor najboljih pozicija za svaku cesticu\n",
    "    \n",
    "    globalBestValue,globalBest = init(len(graph),position,velocity,bestValue,numberOfParticles,graph)\n",
    "    for iteration in range(maxIteration):\n",
    "        #apdejtujemo brzinu\n",
    "        updateVelocity(position,velocity,bestValue,globalBestValue)\n",
    "        globalBestValue = updatePosition(position,velocity,bestValue,globalBest,globalBestValue,graph)\n",
    "        \n",
    "    print('Najbolje resenje',globalBestValue)"
   ]
  },
  {
   "cell_type": "code",
   "execution_count": 121,
   "metadata": {},
   "outputs": [
    {
     "name": "stdout",
     "output_type": "stream",
     "text": [
      "Najbolje resenje 99\n"
     ]
    }
   ],
   "source": [
    "PSO(graph5,len(graph5),5,550)"
   ]
  },
  {
   "cell_type": "code",
   "execution_count": null,
   "metadata": {},
   "outputs": [],
   "source": []
  },
  {
   "cell_type": "code",
   "execution_count": null,
   "metadata": {},
   "outputs": [],
   "source": []
  },
  {
   "cell_type": "code",
   "execution_count": null,
   "metadata": {},
   "outputs": [],
   "source": [
    "info_map{\n",
    "    'brute_force':{},\n",
    "    'greedy':{},\n",
    "    'gen_alg':{},\n",
    "    'anneling':{},\n",
    "    'pso':{}\n",
    "    \n",
    "}"
   ]
  },
  {
   "cell_type": "code",
   "execution_count": null,
   "metadata": {},
   "outputs": [],
   "source": []
  },
  {
   "cell_type": "code",
   "execution_count": 83,
   "metadata": {},
   "outputs": [],
   "source": [
    "import time\n"
   ]
  },
  {
   "cell_type": "code",
   "execution_count": 58,
   "metadata": {},
   "outputs": [],
   "source": [
    "def timer(algorithm, a1, a2):\n",
    "    start = time.perf_counter()\n",
    "\n",
    "    algorithm(a1, a2)\n",
    "    \n",
    "    end = time.perf_counter()\n",
    "    print(end - start)"
   ]
  },
  {
   "cell_type": "code",
   "execution_count": 82,
   "metadata": {},
   "outputs": [
    {
     "name": "stdout",
     "output_type": "stream",
     "text": [
      "6\n",
      "3.729999934876105e-05\n"
     ]
    }
   ],
   "source": [
    "timer(fn, 2, 2)"
   ]
  },
  {
   "cell_type": "code",
   "execution_count": 21,
   "metadata": {},
   "outputs": [],
   "source": [
    "import time "
   ]
  },
  {
   "cell_type": "markdown",
   "metadata": {},
   "source": [
    "### Rezultati"
   ]
  },
  {
   "cell_type": "code",
   "execution_count": null,
   "metadata": {},
   "outputs": [],
   "source": [
    "#possible color vectors prep\n",
    "#doduse ad-hoc za sad\n",
    "bf_colors0 = list(range(1,7+2))\n",
    "bf_colors1 = list(range(1,10+2))\n",
    "bf_colors2 = list(range(1,47+2))\n",
    "bf_colors3 = list(range(1,128+2))\n",
    "bf_colors4 = list(range(1,128+2))\n",
    "bf_colors5 = list(range(1,95+2))\n",
    "bf_colors6 = list(range(1,120+2))\n",
    "\n",
    "color_list = [bf_colors0, bf_colors1, bf_colors2, bf_colors3, bf_colors4, bf_colors5, bf_colors6]\n",
    "graphs = [graph0, graph1, graph2, graph3, graph4, graph5, graph6]\n",
    "\n",
    "zipped = zip(color_list, graphs)\n",
    "\n",
    "for z in zipped:\n",
    "    start = time.perf_counter()\n",
    "    allPossibleSolutions(z[0],z[1])\n",
    "    end = time.perf_counter()\n",
    "    print(end - start)\n"
   ]
  },
  {
   "cell_type": "code",
   "execution_count": 23,
   "metadata": {},
   "outputs": [
    {
     "ename": "NameError",
     "evalue": "name 'bfs' is not defined",
     "output_type": "error",
     "traceback": [
      "\u001b[1;31m---------------------------------------------------------------------------\u001b[0m",
      "\u001b[1;31mNameError\u001b[0m                                 Traceback (most recent call last)",
      "\u001b[1;32m<ipython-input-23-9328c93819d4>\u001b[0m in \u001b[0;36m<module>\u001b[1;34m\u001b[0m\n\u001b[0;32m      2\u001b[0m     \u001b[0mstart\u001b[0m \u001b[1;33m=\u001b[0m \u001b[0mtime\u001b[0m\u001b[1;33m.\u001b[0m\u001b[0mperf_counter\u001b[0m\u001b[1;33m(\u001b[0m\u001b[1;33m)\u001b[0m\u001b[1;33m\u001b[0m\u001b[1;33m\u001b[0m\u001b[0m\n\u001b[0;32m      3\u001b[0m \u001b[1;33m\u001b[0m\u001b[0m\n\u001b[1;32m----> 4\u001b[1;33m     \u001b[0mbfs\u001b[0m\u001b[1;33m(\u001b[0m\u001b[0mg\u001b[0m\u001b[1;33m,\u001b[0m \u001b[1;36m1\u001b[0m\u001b[1;33m)\u001b[0m\u001b[1;33m\u001b[0m\u001b[1;33m\u001b[0m\u001b[0m\n\u001b[0m\u001b[0;32m      5\u001b[0m \u001b[1;33m\u001b[0m\u001b[0m\n\u001b[0;32m      6\u001b[0m     \u001b[0mend\u001b[0m \u001b[1;33m=\u001b[0m \u001b[0mtime\u001b[0m\u001b[1;33m.\u001b[0m\u001b[0mperf_counter\u001b[0m\u001b[1;33m(\u001b[0m\u001b[1;33m)\u001b[0m\u001b[1;33m\u001b[0m\u001b[1;33m\u001b[0m\u001b[0m\n",
      "\u001b[1;31mNameError\u001b[0m: name 'bfs' is not defined"
     ]
    }
   ],
   "source": [
    "for g in [graph0, graph1, graph2, graph3, graph4, graph5, graph6]:\n",
    "    start = time.perf_counter()\n",
    "\n",
    "    bfs(g, 1)\n",
    "\n",
    "    end = time.perf_counter()\n",
    "    print(end - start)"
   ]
  },
  {
   "cell_type": "code",
   "execution_count": 124,
   "metadata": {},
   "outputs": [
    {
     "name": "stdout",
     "output_type": "stream",
     "text": [
      "Najbolje resenje 10\n",
      "0.08092359999955079\n",
      "Najbolje resenje 15\n",
      "0.1320303000002241\n",
      "Najbolje resenje 51\n",
      "0.6680900000001202\n",
      "Najbolje resenje 132\n",
      "2.747887399999854\n"
     ]
    },
    {
     "ename": "IndexError",
     "evalue": "list index out of range",
     "output_type": "error",
     "traceback": [
      "\u001b[1;31m---------------------------------------------------------------------------\u001b[0m",
      "\u001b[1;31mIndexError\u001b[0m                                Traceback (most recent call last)",
      "\u001b[1;32m<ipython-input-124-450e159f90f4>\u001b[0m in \u001b[0;36m<module>\u001b[1;34m\u001b[0m\n\u001b[0;32m      4\u001b[0m     \u001b[0mstart\u001b[0m \u001b[1;33m=\u001b[0m \u001b[0mtime\u001b[0m\u001b[1;33m.\u001b[0m\u001b[0mperf_counter\u001b[0m\u001b[1;33m(\u001b[0m\u001b[1;33m)\u001b[0m\u001b[1;33m\u001b[0m\u001b[1;33m\u001b[0m\u001b[0m\n\u001b[0;32m      5\u001b[0m \u001b[1;33m\u001b[0m\u001b[0m\n\u001b[1;32m----> 6\u001b[1;33m     \u001b[0mPSO\u001b[0m\u001b[1;33m(\u001b[0m\u001b[0mg\u001b[0m\u001b[1;33m,\u001b[0m\u001b[0mlen\u001b[0m\u001b[1;33m(\u001b[0m\u001b[0mg\u001b[0m\u001b[1;33m)\u001b[0m\u001b[1;33m,\u001b[0m\u001b[1;36m5\u001b[0m\u001b[1;33m,\u001b[0m\u001b[1;36m550\u001b[0m\u001b[1;33m)\u001b[0m\u001b[1;33m\u001b[0m\u001b[1;33m\u001b[0m\u001b[0m\n\u001b[0m\u001b[0;32m      7\u001b[0m \u001b[1;33m\u001b[0m\u001b[0m\n\u001b[0;32m      8\u001b[0m     \u001b[0mend\u001b[0m \u001b[1;33m=\u001b[0m \u001b[0mtime\u001b[0m\u001b[1;33m.\u001b[0m\u001b[0mperf_counter\u001b[0m\u001b[1;33m(\u001b[0m\u001b[1;33m)\u001b[0m\u001b[1;33m\u001b[0m\u001b[1;33m\u001b[0m\u001b[0m\n",
      "\u001b[1;32m<ipython-input-118-d96f51e63c80>\u001b[0m in \u001b[0;36mPSO\u001b[1;34m(graph, numberVertex, numberOfParticles, maxIteration)\u001b[0m\n\u001b[0;32m     33\u001b[0m         \u001b[1;31m#apdejtujemo brzinu\u001b[0m\u001b[1;33m\u001b[0m\u001b[1;33m\u001b[0m\u001b[1;33m\u001b[0m\u001b[0m\n\u001b[0;32m     34\u001b[0m         \u001b[0mupdateVelocity\u001b[0m\u001b[1;33m(\u001b[0m\u001b[0mposition\u001b[0m\u001b[1;33m,\u001b[0m\u001b[0mvelocity\u001b[0m\u001b[1;33m,\u001b[0m\u001b[0mbestValue\u001b[0m\u001b[1;33m,\u001b[0m\u001b[0mglobalBestValue\u001b[0m\u001b[1;33m)\u001b[0m\u001b[1;33m\u001b[0m\u001b[1;33m\u001b[0m\u001b[0m\n\u001b[1;32m---> 35\u001b[1;33m         \u001b[0mglobalBestValue\u001b[0m \u001b[1;33m=\u001b[0m \u001b[0mupdatePosition\u001b[0m\u001b[1;33m(\u001b[0m\u001b[0mposition\u001b[0m\u001b[1;33m,\u001b[0m\u001b[0mvelocity\u001b[0m\u001b[1;33m,\u001b[0m\u001b[0mbestValue\u001b[0m\u001b[1;33m,\u001b[0m\u001b[0mglobalBest\u001b[0m\u001b[1;33m,\u001b[0m\u001b[0mglobalBestValue\u001b[0m\u001b[1;33m,\u001b[0m\u001b[0mgraph\u001b[0m\u001b[1;33m)\u001b[0m\u001b[1;33m\u001b[0m\u001b[1;33m\u001b[0m\u001b[0m\n\u001b[0m\u001b[0;32m     36\u001b[0m \u001b[1;33m\u001b[0m\u001b[0m\n\u001b[0;32m     37\u001b[0m     \u001b[0mprint\u001b[0m\u001b[1;33m(\u001b[0m\u001b[1;34m'Najbolje resenje'\u001b[0m\u001b[1;33m,\u001b[0m\u001b[0mglobalBestValue\u001b[0m\u001b[1;33m)\u001b[0m\u001b[1;33m\u001b[0m\u001b[1;33m\u001b[0m\u001b[0m\n",
      "\u001b[1;32m<ipython-input-118-d96f51e63c80>\u001b[0m in \u001b[0;36mupdatePosition\u001b[1;34m(position, velocity, bestValue, globalBest, globalBestValue, graph)\u001b[0m\n\u001b[0;32m     13\u001b[0m \u001b[1;33m\u001b[0m\u001b[0m\n\u001b[0;32m     14\u001b[0m         \u001b[1;32mif\u001b[0m \u001b[1;32mnot\u001b[0m \u001b[0misFeasiblePSO\u001b[0m\u001b[1;33m(\u001b[0m\u001b[0mgraph\u001b[0m\u001b[1;33m,\u001b[0m\u001b[0mposition\u001b[0m\u001b[1;33m[\u001b[0m\u001b[0mi\u001b[0m\u001b[1;33m]\u001b[0m\u001b[1;33m)\u001b[0m\u001b[1;33m:\u001b[0m\u001b[1;33m\u001b[0m\u001b[1;33m\u001b[0m\u001b[0m\n\u001b[1;32m---> 15\u001b[1;33m             \u001b[0mcorrectNonFeasiblePSO\u001b[0m\u001b[1;33m(\u001b[0m\u001b[0mgraph\u001b[0m\u001b[1;33m,\u001b[0m\u001b[0mposition\u001b[0m\u001b[1;33m[\u001b[0m\u001b[0mi\u001b[0m\u001b[1;33m]\u001b[0m\u001b[1;33m)\u001b[0m\u001b[1;33m\u001b[0m\u001b[1;33m\u001b[0m\u001b[0m\n\u001b[0m\u001b[0;32m     16\u001b[0m         \u001b[0mvalue\u001b[0m \u001b[1;33m=\u001b[0m \u001b[0msolutionValuePSO\u001b[0m\u001b[1;33m(\u001b[0m\u001b[0mposition\u001b[0m\u001b[1;33m[\u001b[0m\u001b[0mi\u001b[0m\u001b[1;33m]\u001b[0m\u001b[1;33m)\u001b[0m\u001b[1;33m\u001b[0m\u001b[1;33m\u001b[0m\u001b[0m\n\u001b[0;32m     17\u001b[0m         \u001b[1;32mif\u001b[0m \u001b[0mvalue\u001b[0m \u001b[1;33m<\u001b[0m \u001b[0mbestValue\u001b[0m\u001b[1;33m[\u001b[0m\u001b[0mi\u001b[0m\u001b[1;33m]\u001b[0m\u001b[1;33m:\u001b[0m\u001b[1;33m\u001b[0m\u001b[1;33m\u001b[0m\u001b[0m\n",
      "\u001b[1;32m<ipython-input-115-2296fba75526>\u001b[0m in \u001b[0;36mcorrectNonFeasiblePSO\u001b[1;34m(graph, colors)\u001b[0m\n\u001b[0;32m     31\u001b[0m                     \u001b[0mpos\u001b[0m \u001b[1;33m=\u001b[0m \u001b[0mi\u001b[0m\u001b[1;33m\u001b[0m\u001b[1;33m\u001b[0m\u001b[0m\n\u001b[0;32m     32\u001b[0m            \u001b[1;31m# colors[i] = random.choice(possibleColors)\u001b[0m\u001b[1;33m\u001b[0m\u001b[1;33m\u001b[0m\u001b[1;33m\u001b[0m\u001b[0m\n\u001b[1;32m---> 33\u001b[1;33m             \u001b[0mcolors\u001b[0m\u001b[1;33m[\u001b[0m\u001b[0mi\u001b[0m\u001b[1;33m]\u001b[0m \u001b[1;33m=\u001b[0m \u001b[0mpossibleColors\u001b[0m\u001b[1;33m[\u001b[0m\u001b[0mpos\u001b[0m\u001b[1;33m]\u001b[0m\u001b[1;33m\u001b[0m\u001b[1;33m\u001b[0m\u001b[0m\n\u001b[0m\u001b[0;32m     34\u001b[0m \u001b[1;33m\u001b[0m\u001b[0m\n\u001b[0;32m     35\u001b[0m \u001b[1;33m\u001b[0m\u001b[0m\n",
      "\u001b[1;31mIndexError\u001b[0m: list index out of range"
     ]
    }
   ],
   "source": [
    "\n",
    "\n",
    "for g in [graph0, graph1, graph2, graph3, graph4, graph5, graph6]:\n",
    "    start = time.perf_counter()\n",
    "\n",
    "    PSO(g,len(g),5,550)\n",
    "\n",
    "    end = time.perf_counter()\n",
    "    print(end - start)\n",
    "\n",
    "\n"
   ]
  },
  {
   "cell_type": "code",
   "execution_count": 129,
   "metadata": {},
   "outputs": [
    {
     "name": "stdout",
     "output_type": "stream",
     "text": [
      "Resenje 12\n",
      "Resenje 11\n",
      "0.7758906999997635\n",
      "Resenje 23\n",
      "1.0771248999999443\n"
     ]
    },
    {
     "ename": "IndexError",
     "evalue": "Cannot choose from an empty sequence",
     "output_type": "error",
     "traceback": [
      "\u001b[1;31m---------------------------------------------------------------------------\u001b[0m",
      "\u001b[1;31mIndexError\u001b[0m                                Traceback (most recent call last)",
      "\u001b[1;32m<ipython-input-129-9413831c858b>\u001b[0m in \u001b[0;36m<module>\u001b[1;34m\u001b[0m\n\u001b[0;32m      4\u001b[0m     \u001b[0mstart\u001b[0m \u001b[1;33m=\u001b[0m \u001b[0mtime\u001b[0m\u001b[1;33m.\u001b[0m\u001b[0mperf_counter\u001b[0m\u001b[1;33m(\u001b[0m\u001b[1;33m)\u001b[0m\u001b[1;33m\u001b[0m\u001b[1;33m\u001b[0m\u001b[0m\n\u001b[0;32m      5\u001b[0m \u001b[1;33m\u001b[0m\u001b[0m\n\u001b[1;32m----> 6\u001b[1;33m     \u001b[0mGen\u001b[0m\u001b[1;33m(\u001b[0m\u001b[0mg\u001b[0m\u001b[1;33m)\u001b[0m\u001b[1;33m\u001b[0m\u001b[1;33m\u001b[0m\u001b[0m\n\u001b[0m\u001b[0;32m      7\u001b[0m \u001b[1;33m\u001b[0m\u001b[0m\n\u001b[0;32m      8\u001b[0m     \u001b[0mend\u001b[0m \u001b[1;33m=\u001b[0m \u001b[0mtime\u001b[0m\u001b[1;33m.\u001b[0m\u001b[0mperf_counter\u001b[0m\u001b[1;33m(\u001b[0m\u001b[1;33m)\u001b[0m\u001b[1;33m\u001b[0m\u001b[1;33m\u001b[0m\u001b[0m\n",
      "\u001b[1;32m<ipython-input-128-990e9809d126>\u001b[0m in \u001b[0;36mGen\u001b[1;34m(graph)\u001b[0m\n\u001b[0;32m     20\u001b[0m             \u001b[0mind1\u001b[0m \u001b[1;33m=\u001b[0m \u001b[0mtournamentSelection\u001b[0m\u001b[1;33m(\u001b[0m\u001b[0mpopulation\u001b[0m\u001b[1;33m)\u001b[0m\u001b[1;33m\u001b[0m\u001b[1;33m\u001b[0m\u001b[0m\n\u001b[0;32m     21\u001b[0m             \u001b[0mind2\u001b[0m \u001b[1;33m=\u001b[0m \u001b[0mtournamentSelection\u001b[0m\u001b[1;33m(\u001b[0m\u001b[0mpopulation\u001b[0m\u001b[1;33m)\u001b[0m\u001b[1;33m\u001b[0m\u001b[1;33m\u001b[0m\u001b[0m\n\u001b[1;32m---> 22\u001b[1;33m             \u001b[0mcrossover\u001b[0m\u001b[1;33m(\u001b[0m\u001b[0mpopulation\u001b[0m\u001b[1;33m[\u001b[0m\u001b[0mind1\u001b[0m\u001b[1;33m]\u001b[0m\u001b[1;33m,\u001b[0m\u001b[0mpopulation\u001b[0m\u001b[1;33m[\u001b[0m\u001b[0mind2\u001b[0m\u001b[1;33m]\u001b[0m\u001b[1;33m,\u001b[0m\u001b[0mnewPopulation\u001b[0m\u001b[1;33m[\u001b[0m\u001b[0mi\u001b[0m\u001b[1;33m]\u001b[0m\u001b[1;33m,\u001b[0m\u001b[0mnewPopulation\u001b[0m\u001b[1;33m[\u001b[0m\u001b[0mi\u001b[0m\u001b[1;33m+\u001b[0m\u001b[1;36m1\u001b[0m\u001b[1;33m]\u001b[0m\u001b[1;33m)\u001b[0m\u001b[1;33m\u001b[0m\u001b[1;33m\u001b[0m\u001b[0m\n\u001b[0m\u001b[0;32m     23\u001b[0m             \u001b[0mmutation\u001b[0m\u001b[1;33m(\u001b[0m\u001b[0mnewPopulation\u001b[0m\u001b[1;33m[\u001b[0m\u001b[0mi\u001b[0m\u001b[1;33m]\u001b[0m\u001b[1;33m)\u001b[0m\u001b[1;33m\u001b[0m\u001b[1;33m\u001b[0m\u001b[0m\n\u001b[0;32m     24\u001b[0m             \u001b[0mmutation\u001b[0m\u001b[1;33m(\u001b[0m\u001b[0mnewPopulation\u001b[0m\u001b[1;33m[\u001b[0m\u001b[0mi\u001b[0m\u001b[1;33m+\u001b[0m\u001b[1;36m1\u001b[0m\u001b[1;33m]\u001b[0m\u001b[1;33m)\u001b[0m\u001b[1;33m\u001b[0m\u001b[1;33m\u001b[0m\u001b[0m\n",
      "\u001b[1;32m<ipython-input-125-143d7d5647e1>\u001b[0m in \u001b[0;36mcrossover\u001b[1;34m(parent1, parent2, child1, child2)\u001b[0m\n\u001b[0;32m     91\u001b[0m \u001b[1;33m\u001b[0m\u001b[0m\n\u001b[0;32m     92\u001b[0m     \u001b[1;31m# menjamo da budu dopustiva\u001b[0m\u001b[1;33m\u001b[0m\u001b[1;33m\u001b[0m\u001b[1;33m\u001b[0m\u001b[0m\n\u001b[1;32m---> 93\u001b[1;33m     \u001b[0mchild1\u001b[0m\u001b[1;33m.\u001b[0m\u001b[0mcorrectNonFeasible\u001b[0m\u001b[1;33m(\u001b[0m\u001b[1;33m)\u001b[0m\u001b[1;33m\u001b[0m\u001b[1;33m\u001b[0m\u001b[0m\n\u001b[0m\u001b[0;32m     94\u001b[0m     \u001b[0mchild2\u001b[0m\u001b[1;33m.\u001b[0m\u001b[0mcorrectNonFeasible\u001b[0m\u001b[1;33m(\u001b[0m\u001b[1;33m)\u001b[0m\u001b[1;33m\u001b[0m\u001b[1;33m\u001b[0m\u001b[0m\n\u001b[0;32m     95\u001b[0m \u001b[1;33m\u001b[0m\u001b[0m\n",
      "\u001b[1;32m<ipython-input-125-143d7d5647e1>\u001b[0m in \u001b[0;36mcorrectNonFeasible\u001b[1;34m(self)\u001b[0m\n\u001b[0;32m     26\u001b[0m \u001b[1;33m\u001b[0m\u001b[0m\n\u001b[0;32m     27\u001b[0m                 \u001b[0mpossibleColors\u001b[0m \u001b[1;33m=\u001b[0m \u001b[0mlist\u001b[0m\u001b[1;33m(\u001b[0m\u001b[0mset\u001b[0m\u001b[1;33m(\u001b[0m\u001b[1;33m[\u001b[0m\u001b[1;36m1\u001b[0m\u001b[1;33m,\u001b[0m\u001b[1;36m2\u001b[0m\u001b[1;33m,\u001b[0m\u001b[1;36m3\u001b[0m\u001b[1;33m,\u001b[0m\u001b[1;36m4\u001b[0m\u001b[1;33m,\u001b[0m\u001b[1;36m5\u001b[0m\u001b[1;33m,\u001b[0m\u001b[1;36m6\u001b[0m\u001b[1;33m,\u001b[0m\u001b[1;36m7\u001b[0m\u001b[1;33m,\u001b[0m\u001b[1;36m8\u001b[0m\u001b[1;33m]\u001b[0m\u001b[1;33m)\u001b[0m\u001b[1;33m-\u001b[0m\u001b[0mset\u001b[0m\u001b[1;33m(\u001b[0m\u001b[0majdColors\u001b[0m\u001b[1;33m)\u001b[0m\u001b[1;33m)\u001b[0m\u001b[1;33m\u001b[0m\u001b[1;33m\u001b[0m\u001b[0m\n\u001b[1;32m---> 28\u001b[1;33m                 \u001b[0mself\u001b[0m\u001b[1;33m.\u001b[0m\u001b[0mcolors\u001b[0m\u001b[1;33m[\u001b[0m\u001b[0mi\u001b[0m\u001b[1;33m]\u001b[0m \u001b[1;33m=\u001b[0m \u001b[0mrandom\u001b[0m\u001b[1;33m.\u001b[0m\u001b[0mchoice\u001b[0m\u001b[1;33m(\u001b[0m\u001b[0mpossibleColors\u001b[0m\u001b[1;33m)\u001b[0m\u001b[1;33m\u001b[0m\u001b[1;33m\u001b[0m\u001b[0m\n\u001b[0m\u001b[0;32m     29\u001b[0m \u001b[1;33m\u001b[0m\u001b[0m\n\u001b[0;32m     30\u001b[0m \u001b[1;33m\u001b[0m\u001b[0m\n",
      "\u001b[1;32m~\\Anaconda3\\lib\\random.py\u001b[0m in \u001b[0;36mchoice\u001b[1;34m(self, seq)\u001b[0m\n\u001b[0;32m    259\u001b[0m             \u001b[0mi\u001b[0m \u001b[1;33m=\u001b[0m \u001b[0mself\u001b[0m\u001b[1;33m.\u001b[0m\u001b[0m_randbelow\u001b[0m\u001b[1;33m(\u001b[0m\u001b[0mlen\u001b[0m\u001b[1;33m(\u001b[0m\u001b[0mseq\u001b[0m\u001b[1;33m)\u001b[0m\u001b[1;33m)\u001b[0m\u001b[1;33m\u001b[0m\u001b[1;33m\u001b[0m\u001b[0m\n\u001b[0;32m    260\u001b[0m         \u001b[1;32mexcept\u001b[0m \u001b[0mValueError\u001b[0m\u001b[1;33m:\u001b[0m\u001b[1;33m\u001b[0m\u001b[1;33m\u001b[0m\u001b[0m\n\u001b[1;32m--> 261\u001b[1;33m             \u001b[1;32mraise\u001b[0m \u001b[0mIndexError\u001b[0m\u001b[1;33m(\u001b[0m\u001b[1;34m'Cannot choose from an empty sequence'\u001b[0m\u001b[1;33m)\u001b[0m \u001b[1;32mfrom\u001b[0m \u001b[1;32mNone\u001b[0m\u001b[1;33m\u001b[0m\u001b[1;33m\u001b[0m\u001b[0m\n\u001b[0m\u001b[0;32m    262\u001b[0m         \u001b[1;32mreturn\u001b[0m \u001b[0mseq\u001b[0m\u001b[1;33m[\u001b[0m\u001b[0mi\u001b[0m\u001b[1;33m]\u001b[0m\u001b[1;33m\u001b[0m\u001b[1;33m\u001b[0m\u001b[0m\n\u001b[0;32m    263\u001b[0m \u001b[1;33m\u001b[0m\u001b[0m\n",
      "\u001b[1;31mIndexError\u001b[0m: Cannot choose from an empty sequence"
     ]
    }
   ],
   "source": [
    "Gen(graph_list2)\n",
    "\n",
    "for g in [graph0, graph1, graph2, graph3, graph4, graph5, graph6]:\n",
    "    start = time.perf_counter()\n",
    "\n",
    "    Gen(g)\n",
    "\n",
    "    end = time.perf_counter()\n",
    "    print(end - start)\n"
   ]
  },
  {
   "cell_type": "code",
   "execution_count": 102,
   "metadata": {},
   "outputs": [
    {
     "data": {
      "text/plain": [
       "[1, 2, 3, 4, 5, 6, 7]"
      ]
     },
     "execution_count": 102,
     "metadata": {},
     "output_type": "execute_result"
    }
   ],
   "source": [
    "bf_colors0 = list(range(1,7+1))\n",
    "bf_colors0"
   ]
  },
  {
   "cell_type": "code",
   "execution_count": 4,
   "metadata": {},
   "outputs": [
    {
     "name": "stdout",
     "output_type": "stream",
     "text": [
      "[1, 2, 3, 4, 5, 6, 7, 8, 9, 10]\n"
     ]
    }
   ],
   "source": [
    "print(list(range(1,10+1)))"
   ]
  }
 ],
 "metadata": {
  "kernelspec": {
   "display_name": "Python 3",
   "language": "python",
   "name": "python3"
  },
  "language_info": {
   "codemirror_mode": {
    "name": "ipython",
    "version": 3
   },
   "file_extension": ".py",
   "mimetype": "text/x-python",
   "name": "python",
   "nbconvert_exporter": "python",
   "pygments_lexer": "ipython3",
   "version": "3.7.1"
  }
 },
 "nbformat": 4,
 "nbformat_minor": 2
}
