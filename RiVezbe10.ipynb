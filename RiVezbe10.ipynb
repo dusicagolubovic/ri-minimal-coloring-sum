{
  "nbformat": 4,
  "nbformat_minor": 0,
  "metadata": {
    "colab": {
      "name": "RiVezbe10.ipynb",
      "provenance": [],
      "collapsed_sections": [],
      "authorship_tag": "ABX9TyPnX1+p0mfyUerPndqAuceT",
      "include_colab_link": true
    },
    "kernelspec": {
      "name": "python3",
      "display_name": "Python 3"
    }
  },
  "cells": [
    {
      "cell_type": "markdown",
      "metadata": {
        "id": "view-in-github",
        "colab_type": "text"
      },
      "source": [
        "<a href=\"https://colab.research.google.com/github/dusicagolubovic/ri-minimal-coloring-sum/blob/master/RiVezbe10.ipynb\" target=\"_parent\"><img src=\"https://colab.research.google.com/assets/colab-badge.svg\" alt=\"Open In Colab\"/></a>"
      ]
    },
    {
      "cell_type": "code",
      "metadata": {
        "id": "FlOaZiEwa82x"
      },
      "source": [
        "from keras.models import Sequential\n",
        "from sklearn import datasets\n",
        "from keras.layers import Dense, Dropout\n",
        "from keras import losses, optimizers\n",
        "from keras import regularizers\n",
        "import numpy as np\n",
        "from sklearn import preprocessing\n",
        "from sklearn import model_selection\n",
        "import matplotlib.pyplot as plt\n"
      ],
      "execution_count": 35,
      "outputs": []
    },
    {
      "cell_type": "code",
      "metadata": {
        "colab": {
          "base_uri": "https://localhost:8080/"
        },
        "id": "8DrHAyY9bFUg",
        "outputId": "f556f2cc-1bb3-47f2-bb43-79fe18a2c6fb"
      },
      "source": [
        "data = datasets.load_breast_cancer()\n",
        "X_train, X_test, Y_train, Y_test = model_selection.train_test_split(data.data,data.target,test_size = 0.33)\n",
        "# skaliramo podatke \n",
        "scaler = preprocessing.StandardScaler() \n",
        "scaler.fit(X_train) # naucimo na treningu\n",
        "X_test = scaler.transform(X_test)\n",
        "X_train = scaler.transform(X_train) \n",
        "model = Sequential()\n",
        "#model.add(Dense(units=50,input_dim=X_train.shape[1],activation='relu',kernel_regularizer=regularizers.l2(1e-4)))\n",
        "model.add(Dense(units=50,input_dim=X_train.shape[1],activation='relu'))\n",
        "model.add(Dropout(0.3))\n",
        "model.add(Dense(units=20,activation='relu'))\n",
        "model.add(Dense(units=1,activation='sigmoid'))\n",
        "\n",
        "model.compile(optimizer='adam',loss=losses.binary_crossentropy,metrics=['accuracy'])\n",
        "model.summary()\n",
        "history = model.fit(X_train,Y_train,epochs=20,verbose=1,validation_split=0.3,batch_size=16)\n",
        "epochs = history.epoch\n",
        "loss = history.history['loss']\n",
        "validation_loss = history.history['val_loss']\n",
        "acc = history.history['accuracy']\n",
        "val_acc = history.history['val_accuracy']\n",
        "\n"
      ],
      "execution_count": 26,
      "outputs": [
        {
          "output_type": "stream",
          "text": [
            "Model: \"sequential_9\"\n",
            "_________________________________________________________________\n",
            "Layer (type)                 Output Shape              Param #   \n",
            "=================================================================\n",
            "dense_25 (Dense)             (None, 50)                1550      \n",
            "_________________________________________________________________\n",
            "dropout (Dropout)            (None, 50)                0         \n",
            "_________________________________________________________________\n",
            "dense_26 (Dense)             (None, 20)                1020      \n",
            "_________________________________________________________________\n",
            "dense_27 (Dense)             (None, 1)                 21        \n",
            "=================================================================\n",
            "Total params: 2,591\n",
            "Trainable params: 2,591\n",
            "Non-trainable params: 0\n",
            "_________________________________________________________________\n",
            "Epoch 1/20\n",
            "17/17 [==============================] - 1s 13ms/step - loss: 0.6676 - accuracy: 0.6096 - val_loss: 0.3876 - val_accuracy: 0.9478\n",
            "Epoch 2/20\n",
            "17/17 [==============================] - 0s 16ms/step - loss: 0.4024 - accuracy: 0.8982 - val_loss: 0.2362 - val_accuracy: 0.9652\n",
            "Epoch 3/20\n",
            "17/17 [==============================] - 0s 4ms/step - loss: 0.2711 - accuracy: 0.9314 - val_loss: 0.1659 - val_accuracy: 0.9826\n",
            "Epoch 4/20\n",
            "17/17 [==============================] - 0s 5ms/step - loss: 0.1858 - accuracy: 0.9401 - val_loss: 0.1252 - val_accuracy: 0.9826\n",
            "Epoch 5/20\n",
            "17/17 [==============================] - 0s 5ms/step - loss: 0.1919 - accuracy: 0.9390 - val_loss: 0.0979 - val_accuracy: 0.9826\n",
            "Epoch 6/20\n",
            "17/17 [==============================] - 0s 4ms/step - loss: 0.1236 - accuracy: 0.9687 - val_loss: 0.0844 - val_accuracy: 0.9826\n",
            "Epoch 7/20\n",
            "17/17 [==============================] - 0s 4ms/step - loss: 0.1097 - accuracy: 0.9586 - val_loss: 0.0744 - val_accuracy: 0.9739\n",
            "Epoch 8/20\n",
            "17/17 [==============================] - 0s 4ms/step - loss: 0.1225 - accuracy: 0.9609 - val_loss: 0.0686 - val_accuracy: 0.9739\n",
            "Epoch 9/20\n",
            "17/17 [==============================] - 0s 5ms/step - loss: 0.0979 - accuracy: 0.9739 - val_loss: 0.0620 - val_accuracy: 0.9739\n",
            "Epoch 10/20\n",
            "17/17 [==============================] - 0s 4ms/step - loss: 0.0975 - accuracy: 0.9766 - val_loss: 0.0565 - val_accuracy: 0.9826\n",
            "Epoch 11/20\n",
            "17/17 [==============================] - 0s 5ms/step - loss: 0.0663 - accuracy: 0.9753 - val_loss: 0.0542 - val_accuracy: 0.9739\n",
            "Epoch 12/20\n",
            "17/17 [==============================] - 0s 4ms/step - loss: 0.0985 - accuracy: 0.9705 - val_loss: 0.0509 - val_accuracy: 0.9739\n",
            "Epoch 13/20\n",
            "17/17 [==============================] - 0s 4ms/step - loss: 0.0538 - accuracy: 0.9929 - val_loss: 0.0494 - val_accuracy: 0.9739\n",
            "Epoch 14/20\n",
            "17/17 [==============================] - 0s 4ms/step - loss: 0.0524 - accuracy: 0.9924 - val_loss: 0.0448 - val_accuracy: 0.9739\n",
            "Epoch 15/20\n",
            "17/17 [==============================] - 0s 4ms/step - loss: 0.0830 - accuracy: 0.9651 - val_loss: 0.0437 - val_accuracy: 0.9739\n",
            "Epoch 16/20\n",
            "17/17 [==============================] - 0s 4ms/step - loss: 0.0804 - accuracy: 0.9736 - val_loss: 0.0427 - val_accuracy: 0.9739\n",
            "Epoch 17/20\n",
            "17/17 [==============================] - 0s 4ms/step - loss: 0.0464 - accuracy: 0.9950 - val_loss: 0.0395 - val_accuracy: 0.9739\n",
            "Epoch 18/20\n",
            "17/17 [==============================] - 0s 4ms/step - loss: 0.0553 - accuracy: 0.9778 - val_loss: 0.0375 - val_accuracy: 0.9739\n",
            "Epoch 19/20\n",
            "17/17 [==============================] - 0s 5ms/step - loss: 0.0404 - accuracy: 0.9876 - val_loss: 0.0365 - val_accuracy: 0.9739\n",
            "Epoch 20/20\n",
            "17/17 [==============================] - 0s 4ms/step - loss: 0.0441 - accuracy: 0.9842 - val_loss: 0.0369 - val_accuracy: 0.9739\n"
          ],
          "name": "stdout"
        }
      ]
    },
    {
      "cell_type": "code",
      "metadata": {
        "colab": {
          "base_uri": "https://localhost:8080/",
          "height": 279
        },
        "id": "BHjOa5glbMHs",
        "outputId": "f56e6ab3-90f8-4b35-cdf3-8cc60f446b2b"
      },
      "source": [
        "plt.xlabel(\"epochs\")\n",
        "plt.ylabel(\"loss\")\n",
        "plt.plot(epochs,loss,c=\"red\")\n",
        "plt.plot(epochs,validation_loss,c=\"blue\")\n",
        "plt.show()\n",
        "\n"
      ],
      "execution_count": 27,
      "outputs": [
        {
          "output_type": "display_data",
          "data": {
            "image/png": "[encoded data removed]",
            "text/plain": [
              "<Figure size 432x288 with 1 Axes>"
            ]
          },
          "metadata": {
            "tags": [],
            "needs_background": "light"
          }
        }
      ]
    },
    {
      "cell_type": "code",
      "metadata": {
        "colab": {
          "base_uri": "https://localhost:8080/",
          "height": 282
        },
        "id": "x4Bz2KRhbPGE",
        "outputId": "14f0ae76-a44d-41ed-eb01-1f01f6bd1e89"
      },
      "source": [
        "plt.xlabel(\"epochs\")\n",
        "plt.ylabel(\"accuracy\")\n",
        "plt.plot(epochs,acc,c=\"red\")\n",
        "plt.plot(epochs,val_acc,c=\"blue\")\n",
        "plt.show()\n",
        "\n",
        "# Doslo je do overfittovanja!!!"
      ],
      "execution_count": 28,
      "outputs": [
        {
          "output_type": "display_data",
          "data": {
            "image/png": "[encoded data removed]",
            "text/plain": [
              "<Figure size 432x288 with 1 Axes>"
            ]
          },
          "metadata": {
            "tags": [],
            "needs_background": "light"
          }
        }
      ]
    },
    {
      "cell_type": "code",
      "metadata": {
        "colab": {
          "base_uri": "https://localhost:8080/"
        },
        "id": "9WUqEpLdqcmT",
        "outputId": "1662b03b-5161-4df0-ea1b-61a3404b9988"
      },
      "source": [
        "test_loss,test_acc = model.evaluate(X_test,Y_test)"
      ],
      "execution_count": 29,
      "outputs": [
        {
          "output_type": "stream",
          "text": [
            "6/6 [==============================] - 0s 2ms/step - loss: 0.0928 - accuracy: 0.9681\n"
          ],
          "name": "stdout"
        }
      ]
    },
    {
      "cell_type": "markdown",
      "metadata": {
        "id": "YYSb8UzYtmnA"
      },
      "source": [
        "Primer 2"
      ]
    },
    {
      "cell_type": "code",
      "metadata": {
        "id": "eegKKGJttsvo"
      },
      "source": [
        "from keras.datasets import boston_housing"
      ],
      "execution_count": 30,
      "outputs": []
    },
    {
      "cell_type": "code",
      "metadata": {
        "id": "0p4jOA3oxASB"
      },
      "source": [
        "data = boston_housing.load_data(test_split=0.33)\n",
        "(X_train,Y_train),(X_test,Y_test) = data"
      ],
      "execution_count": 32,
      "outputs": []
    },
    {
      "cell_type": "code",
      "metadata": {
        "id": "uG_PM4AoxrhR"
      },
      "source": [
        "scaler = preprocessing.StandardScaler()\n",
        "scaler.fit(X_train)\n",
        "X_train = scaler.transform(X_train)\n",
        "X_test = scaler.transform(X_test)"
      ],
      "execution_count": 33,
      "outputs": []
    },
    {
      "cell_type": "code",
      "metadata": {
        "colab": {
          "base_uri": "https://localhost:8080/"
        },
        "id": "cmy9zX7u18U-",
        "outputId": "fe4dad7b-a6b1-4bd6-a796-8f99f5bb9706"
      },
      "source": [
        "model = Sequential()\n",
        "model.add(Dense(units = 100,input_dim = X_train.shape[1],activation='relu'))\n",
        "model.add(Dense(units = 1))\n",
        "model.compile(optimizer='adam',loss='mse')\n",
        "model.summary()"
      ],
      "execution_count": 38,
      "outputs": [
        {
          "output_type": "stream",
          "text": [
            "Model: \"sequential_11\"\n",
            "_________________________________________________________________\n",
            "Layer (type)                 Output Shape              Param #   \n",
            "=================================================================\n",
            "dense_28 (Dense)             (None, 100)               1400      \n",
            "_________________________________________________________________\n",
            "dense_29 (Dense)             (None, 1)                 101       \n",
            "=================================================================\n",
            "Total params: 1,501\n",
            "Trainable params: 1,501\n",
            "Non-trainable params: 0\n",
            "_________________________________________________________________\n"
          ],
          "name": "stdout"
        }
      ]
    },
    {
      "cell_type": "code",
      "metadata": {
        "colab": {
          "base_uri": "https://localhost:8080/"
        },
        "id": "y7Tr0GxZ1_io",
        "outputId": "63ca3f29-8f77-4b7d-a517-a55fd1c21b24"
      },
      "source": [
        "history = model.fit(X_train,Y_train,epochs=100,batch_size=30,verbose=1,validation_split=0.2)\n"
      ],
      "execution_count": 40,
      "outputs": [
        {
          "output_type": "stream",
          "text": [
            "Epoch 1/100\n",
            "10/10 [==============================] - 0s 18ms/step - loss: 573.8752 - val_loss: 613.4955\n",
            "Epoch 2/100\n",
            "10/10 [==============================] - 0s 6ms/step - loss: 516.8184 - val_loss: 593.2386\n",
            "Epoch 3/100\n",
            "10/10 [==============================] - 0s 6ms/step - loss: 512.2021 - val_loss: 572.9235\n",
            "Epoch 4/100\n",
            "10/10 [==============================] - 0s 6ms/step - loss: 508.2144 - val_loss: 551.8657\n",
            "Epoch 5/100\n",
            "10/10 [==============================] - 0s 6ms/step - loss: 471.2042 - val_loss: 530.5534\n",
            "Epoch 6/100\n",
            "10/10 [==============================] - 0s 6ms/step - loss: 441.7140 - val_loss: 507.1524\n",
            "Epoch 7/100\n",
            "10/10 [==============================] - 0s 6ms/step - loss: 442.1920 - val_loss: 482.8943\n",
            "Epoch 8/100\n",
            "10/10 [==============================] - 0s 6ms/step - loss: 394.5471 - val_loss: 456.2718\n",
            "Epoch 9/100\n",
            "10/10 [==============================] - 0s 6ms/step - loss: 384.8052 - val_loss: 428.5852\n",
            "Epoch 10/100\n",
            "10/10 [==============================] - 0s 6ms/step - loss: 327.5766 - val_loss: 400.3389\n",
            "Epoch 11/100\n",
            "10/10 [==============================] - 0s 26ms/step - loss: 306.7834 - val_loss: 372.0980\n",
            "Epoch 12/100\n",
            "10/10 [==============================] - 0s 7ms/step - loss: 274.0298 - val_loss: 344.4626\n",
            "Epoch 13/100\n",
            "10/10 [==============================] - 0s 6ms/step - loss: 255.6645 - val_loss: 315.7800\n",
            "Epoch 14/100\n",
            "10/10 [==============================] - 0s 6ms/step - loss: 236.3383 - val_loss: 287.5903\n",
            "Epoch 15/100\n",
            "10/10 [==============================] - 0s 6ms/step - loss: 198.7548 - val_loss: 260.4408\n",
            "Epoch 16/100\n",
            "10/10 [==============================] - 0s 6ms/step - loss: 180.6841 - val_loss: 236.7786\n",
            "Epoch 17/100\n",
            "10/10 [==============================] - 0s 6ms/step - loss: 153.3941 - val_loss: 217.2396\n",
            "Epoch 18/100\n",
            "10/10 [==============================] - 0s 6ms/step - loss: 131.7359 - val_loss: 200.0370\n",
            "Epoch 19/100\n",
            "10/10 [==============================] - 0s 6ms/step - loss: 131.9934 - val_loss: 185.6905\n",
            "Epoch 20/100\n",
            "10/10 [==============================] - 0s 6ms/step - loss: 117.6858 - val_loss: 171.9247\n",
            "Epoch 21/100\n",
            "10/10 [==============================] - 0s 6ms/step - loss: 106.2742 - val_loss: 159.6301\n",
            "Epoch 22/100\n",
            "10/10 [==============================] - 0s 7ms/step - loss: 86.2688 - val_loss: 148.9151\n",
            "Epoch 23/100\n",
            "10/10 [==============================] - 0s 6ms/step - loss: 99.0527 - val_loss: 138.8552\n",
            "Epoch 24/100\n",
            "10/10 [==============================] - 0s 6ms/step - loss: 76.6210 - val_loss: 129.8554\n",
            "Epoch 25/100\n",
            "10/10 [==============================] - 0s 6ms/step - loss: 70.8725 - val_loss: 122.9655\n",
            "Epoch 26/100\n",
            "10/10 [==============================] - 0s 6ms/step - loss: 59.4550 - val_loss: 117.2679\n",
            "Epoch 27/100\n",
            "10/10 [==============================] - 0s 7ms/step - loss: 67.0080 - val_loss: 111.3652\n",
            "Epoch 28/100\n",
            "10/10 [==============================] - 0s 7ms/step - loss: 60.6848 - val_loss: 106.5398\n",
            "Epoch 29/100\n",
            "10/10 [==============================] - 0s 6ms/step - loss: 52.5803 - val_loss: 101.2442\n",
            "Epoch 30/100\n",
            "10/10 [==============================] - 0s 7ms/step - loss: 49.2977 - val_loss: 96.8108\n",
            "Epoch 31/100\n",
            "10/10 [==============================] - 0s 7ms/step - loss: 44.8935 - val_loss: 93.0151\n",
            "Epoch 32/100\n",
            "10/10 [==============================] - 0s 6ms/step - loss: 44.1178 - val_loss: 88.8826\n",
            "Epoch 33/100\n",
            "10/10 [==============================] - 0s 7ms/step - loss: 46.7255 - val_loss: 85.2476\n",
            "Epoch 34/100\n",
            "10/10 [==============================] - 0s 6ms/step - loss: 33.7503 - val_loss: 81.9389\n",
            "Epoch 35/100\n",
            "10/10 [==============================] - 0s 6ms/step - loss: 31.2003 - val_loss: 79.2909\n",
            "Epoch 36/100\n",
            "10/10 [==============================] - 0s 7ms/step - loss: 33.9469 - val_loss: 77.4510\n",
            "Epoch 37/100\n",
            "10/10 [==============================] - 0s 6ms/step - loss: 37.0384 - val_loss: 75.2482\n",
            "Epoch 38/100\n",
            "10/10 [==============================] - 0s 6ms/step - loss: 36.7337 - val_loss: 73.0253\n",
            "Epoch 39/100\n",
            "10/10 [==============================] - 0s 6ms/step - loss: 32.0390 - val_loss: 70.7507\n",
            "Epoch 40/100\n",
            "10/10 [==============================] - 0s 6ms/step - loss: 32.8503 - val_loss: 69.0651\n",
            "Epoch 41/100\n",
            "10/10 [==============================] - 0s 6ms/step - loss: 40.5846 - val_loss: 67.6438\n",
            "Epoch 42/100\n",
            "10/10 [==============================] - 0s 6ms/step - loss: 27.8806 - val_loss: 66.1729\n",
            "Epoch 43/100\n",
            "10/10 [==============================] - 0s 6ms/step - loss: 32.1070 - val_loss: 64.7022\n",
            "Epoch 44/100\n",
            "10/10 [==============================] - 0s 7ms/step - loss: 25.9091 - val_loss: 63.5235\n",
            "Epoch 45/100\n",
            "10/10 [==============================] - 0s 6ms/step - loss: 22.8643 - val_loss: 62.3965\n",
            "Epoch 46/100\n",
            "10/10 [==============================] - 0s 6ms/step - loss: 28.9898 - val_loss: 61.2603\n",
            "Epoch 47/100\n",
            "10/10 [==============================] - 0s 6ms/step - loss: 26.3571 - val_loss: 60.0961\n",
            "Epoch 48/100\n",
            "10/10 [==============================] - 0s 6ms/step - loss: 31.6505 - val_loss: 58.5801\n",
            "Epoch 49/100\n",
            "10/10 [==============================] - 0s 6ms/step - loss: 23.8183 - val_loss: 57.5694\n",
            "Epoch 50/100\n",
            "10/10 [==============================] - 0s 6ms/step - loss: 26.9207 - val_loss: 56.6351\n",
            "Epoch 51/100\n",
            "10/10 [==============================] - 0s 7ms/step - loss: 24.9969 - val_loss: 55.7039\n",
            "Epoch 52/100\n",
            "10/10 [==============================] - 0s 8ms/step - loss: 29.4101 - val_loss: 54.4960\n",
            "Epoch 53/100\n",
            "10/10 [==============================] - 0s 7ms/step - loss: 23.9898 - val_loss: 53.8892\n",
            "Epoch 54/100\n",
            "10/10 [==============================] - 0s 6ms/step - loss: 23.6342 - val_loss: 53.3175\n",
            "Epoch 55/100\n",
            "10/10 [==============================] - 0s 6ms/step - loss: 21.9749 - val_loss: 52.9297\n",
            "Epoch 56/100\n",
            "10/10 [==============================] - 0s 7ms/step - loss: 22.9865 - val_loss: 52.3800\n",
            "Epoch 57/100\n",
            "10/10 [==============================] - 0s 7ms/step - loss: 23.7556 - val_loss: 51.8205\n",
            "Epoch 58/100\n",
            "10/10 [==============================] - 0s 6ms/step - loss: 25.6388 - val_loss: 51.1365\n",
            "Epoch 59/100\n",
            "10/10 [==============================] - 0s 24ms/step - loss: 26.3923 - val_loss: 50.3363\n",
            "Epoch 60/100\n",
            "10/10 [==============================] - 0s 7ms/step - loss: 26.1779 - val_loss: 49.7118\n",
            "Epoch 61/100\n",
            "10/10 [==============================] - 0s 7ms/step - loss: 17.8488 - val_loss: 49.1596\n",
            "Epoch 62/100\n",
            "10/10 [==============================] - 0s 6ms/step - loss: 28.0309 - val_loss: 48.4424\n",
            "Epoch 63/100\n",
            "10/10 [==============================] - 0s 6ms/step - loss: 22.6238 - val_loss: 47.9051\n",
            "Epoch 64/100\n",
            "10/10 [==============================] - 0s 6ms/step - loss: 20.3599 - val_loss: 47.1334\n",
            "Epoch 65/100\n",
            "10/10 [==============================] - 0s 6ms/step - loss: 23.0315 - val_loss: 45.6291\n",
            "Epoch 66/100\n",
            "10/10 [==============================] - 0s 6ms/step - loss: 18.5287 - val_loss: 44.9699\n",
            "Epoch 67/100\n",
            "10/10 [==============================] - 0s 6ms/step - loss: 23.6789 - val_loss: 44.4994\n",
            "Epoch 68/100\n",
            "10/10 [==============================] - 0s 7ms/step - loss: 24.0831 - val_loss: 44.0806\n",
            "Epoch 69/100\n",
            "10/10 [==============================] - 0s 6ms/step - loss: 19.6071 - val_loss: 43.7029\n",
            "Epoch 70/100\n",
            "10/10 [==============================] - 0s 7ms/step - loss: 18.9742 - val_loss: 43.1248\n",
            "Epoch 71/100\n",
            "10/10 [==============================] - 0s 6ms/step - loss: 22.1804 - val_loss: 42.7246\n",
            "Epoch 72/100\n",
            "10/10 [==============================] - 0s 8ms/step - loss: 17.0433 - val_loss: 42.5498\n",
            "Epoch 73/100\n",
            "10/10 [==============================] - 0s 6ms/step - loss: 17.2598 - val_loss: 42.2896\n",
            "Epoch 74/100\n",
            "10/10 [==============================] - 0s 6ms/step - loss: 15.8489 - val_loss: 42.1999\n",
            "Epoch 75/100\n",
            "10/10 [==============================] - 0s 6ms/step - loss: 22.9568 - val_loss: 41.9552\n",
            "Epoch 76/100\n",
            "10/10 [==============================] - 0s 6ms/step - loss: 18.8508 - val_loss: 41.6386\n",
            "Epoch 77/100\n",
            "10/10 [==============================] - 0s 6ms/step - loss: 19.4861 - val_loss: 41.2983\n",
            "Epoch 78/100\n",
            "10/10 [==============================] - 0s 6ms/step - loss: 21.1345 - val_loss: 41.0212\n",
            "Epoch 79/100\n",
            "10/10 [==============================] - 0s 6ms/step - loss: 15.4727 - val_loss: 40.8370\n",
            "Epoch 80/100\n",
            "10/10 [==============================] - 0s 7ms/step - loss: 18.1796 - val_loss: 40.6263\n",
            "Epoch 81/100\n",
            "10/10 [==============================] - 0s 6ms/step - loss: 15.7753 - val_loss: 40.3587\n",
            "Epoch 82/100\n",
            "10/10 [==============================] - 0s 7ms/step - loss: 17.8534 - val_loss: 40.0461\n",
            "Epoch 83/100\n",
            "10/10 [==============================] - 0s 7ms/step - loss: 15.1266 - val_loss: 39.8569\n",
            "Epoch 84/100\n",
            "10/10 [==============================] - 0s 6ms/step - loss: 16.7789 - val_loss: 39.5213\n",
            "Epoch 85/100\n",
            "10/10 [==============================] - 0s 6ms/step - loss: 14.7639 - val_loss: 39.3270\n",
            "Epoch 86/100\n",
            "10/10 [==============================] - 0s 6ms/step - loss: 15.4256 - val_loss: 39.1268\n",
            "Epoch 87/100\n",
            "10/10 [==============================] - 0s 7ms/step - loss: 16.7447 - val_loss: 38.7987\n",
            "Epoch 88/100\n",
            "10/10 [==============================] - 0s 8ms/step - loss: 15.7713 - val_loss: 38.4593\n",
            "Epoch 89/100\n",
            "10/10 [==============================] - 0s 7ms/step - loss: 18.7516 - val_loss: 38.0023\n",
            "Epoch 90/100\n",
            "10/10 [==============================] - 0s 7ms/step - loss: 16.1411 - val_loss: 37.7177\n",
            "Epoch 91/100\n",
            "10/10 [==============================] - 0s 6ms/step - loss: 15.6262 - val_loss: 37.4054\n",
            "Epoch 92/100\n",
            "10/10 [==============================] - 0s 6ms/step - loss: 17.9939 - val_loss: 37.1540\n",
            "Epoch 93/100\n",
            "10/10 [==============================] - 0s 7ms/step - loss: 15.4320 - val_loss: 37.0350\n",
            "Epoch 94/100\n",
            "10/10 [==============================] - 0s 7ms/step - loss: 16.4986 - val_loss: 36.8290\n",
            "Epoch 95/100\n",
            "10/10 [==============================] - 0s 7ms/step - loss: 18.8505 - val_loss: 36.5171\n",
            "Epoch 96/100\n",
            "10/10 [==============================] - 0s 7ms/step - loss: 17.0391 - val_loss: 36.3062\n",
            "Epoch 97/100\n",
            "10/10 [==============================] - 0s 7ms/step - loss: 12.4722 - val_loss: 36.1235\n",
            "Epoch 98/100\n",
            "10/10 [==============================] - 0s 6ms/step - loss: 14.7501 - val_loss: 35.8867\n",
            "Epoch 99/100\n",
            "10/10 [==============================] - 0s 7ms/step - loss: 15.8982 - val_loss: 35.4270\n",
            "Epoch 100/100\n",
            "10/10 [==============================] - 0s 6ms/step - loss: 18.0588 - val_loss: 35.0563\n"
          ],
          "name": "stdout"
        }
      ]
    },
    {
      "cell_type": "code",
      "metadata": {
        "colab": {
          "base_uri": "https://localhost:8080/",
          "height": 279
        },
        "id": "Y_4odtUt2h1n",
        "outputId": "0f5453e3-0dac-46cf-d2de-bf9dbb80fb88"
      },
      "source": [
        "epochs = history.epoch\n",
        "loss = history.history['loss']\n",
        "val_loss = history.history['val_loss']\n",
        "\n",
        "plt.xlabel(\"epochs\")\n",
        "plt.ylabel(\"loss\")\n",
        "plt.plot(epochs,loss,c=\"red\")\n",
        "plt.plot(epochs,val_loss,c=\"blue\")\n",
        "plt.show()\n"
      ],
      "execution_count": 42,
      "outputs": [
        {
          "output_type": "display_data",
          "data": {
            "image/png": "[encoded data removed]",
            "text/plain": [
              "<Figure size 432x288 with 1 Axes>"
            ]
          },
          "metadata": {
            "tags": [],
            "needs_background": "light"
          }
        }
      ]
    },
    {
      "cell_type": "code",
      "metadata": {
        "id": "fJEsKeRf22hw"
      },
      "source": [
        ""
      ],
      "execution_count": null,
      "outputs": []
    }
  ]
}