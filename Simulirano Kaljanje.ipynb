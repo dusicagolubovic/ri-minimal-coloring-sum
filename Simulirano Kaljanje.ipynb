{
 "cells": [
  {
   "cell_type": "markdown",
   "metadata": {},
   "source": [
    "### Algoritam simuliranog kaljanja\n",
    "\n",
    "Prvo cemo na jednom resenju pa potom ubacujemo u genetski"
   ]
  },
  {
   "cell_type": "code",
   "execution_count": 11,
   "metadata": {},
   "outputs": [],
   "source": [
    "import random\n",
    "\n",
    "def isFeasible(graph, solution):\n",
    "    for i in range(len(graph)):\n",
    "        for neigh in graph[i]:\n",
    "            if(solution[i]==solution[neigh]):\n",
    "                return False\n",
    "            \n",
    "    return True\n",
    "\n",
    "def findAjdColors(i,graph,colors):\n",
    "        ajdColors = []\n",
    "        for ajd in graph[i]:\n",
    "            ajdColors.append(colors[ajd])\n",
    "        return ajdColors\n",
    "        \n",
    "        \n",
    "def correctNonFeasible(graph,colors):\n",
    "        \n",
    "    for i in range(len(graph)):\n",
    "        ajdColors = findAjdColors(i,graph,colors)\n",
    "        if(colors[i] in ajdColors):  \n",
    "            possibleColors = list(set([1,2,3,4,5,6,7,8])-set(ajdColors))\n",
    "            colors[i] = random.choice(possibleColors)\n",
    "    \n",
    "\n",
    "\n",
    "def initializeSolution(graph):\n",
    "    colors = []\n",
    "    numberOfColors = len(graph)\n",
    "    for i in range(numberOfColors):\n",
    "            colors.append(random.randrange(1,numberOfColors+1))\n",
    "    \n",
    "    if not isFeasible(graph,colors):\n",
    "        correctNonFeasible(graph,colors)\n",
    "        \n",
    "    return colors\n",
    "\n",
    "# racuna vrednost funkcije cilja\n",
    "def solutionValue(solution):\n",
    "    return sum(solution)\n",
    "# biramo resenje iz okoline\n",
    "# random odaberemo indeks i smanjimo mu vrednost boje\n",
    "oldValue = 0\n",
    "def adjacencySolution(solution,graph):\n",
    "    global oldValue\n",
    "    position = random.randrange(0,len(graph))\n",
    "    oldValue = solution[position]\n",
    "    oldPosition = position\n",
    "    if solution[position]==1:\n",
    "        solution[position]=2\n",
    "    else:\n",
    "        solution[position]=solution[position]-1\n",
    "    \n",
    "    if isFeasible(graph,solution):\n",
    "        return position\n",
    "    solution[position] = oldValue\n",
    "    return -1\n",
    "            \n",
    "    \n",
    "# vracamo staru vrednost ako ne dobijamo bolje resenje\n",
    "\n",
    "def restore(position,solution):\n",
    "    solution[position] = oldValue\n",
    "\n"
   ]
  },
  {
   "cell_type": "code",
   "execution_count": 12,
   "metadata": {},
   "outputs": [],
   "source": [
    "# Algoritam simuliranog kaljenja\n",
    "def simulatedAnnealing(graph,solution,maxIters):\n",
    "    currValue = solutionValue(solution)\n",
    "    bestValue = currValue # na pocetku od pocetnog resenja \n",
    "    i=1\n",
    "    # ponavljamo postupak dok ne dostignemo maksimalno iteracija\n",
    "    while i<maxIters:\n",
    "        # uzimamo resenje u okolini\n",
    "        j = adjacencySolution(solution,graph)\n",
    "        # ako nije dopustivo idemo na narednu iteraciju \n",
    "        if j<0: \n",
    "            continue\n",
    "        newValue = solutionValue(solution)\n",
    "        if newValue < currValue:\n",
    "            currValue = newValue\n",
    "        else:\n",
    "            p = 1.0 / i ** 0.5\n",
    "            q = random.uniform(0, 1)\n",
    "            if p > q:\n",
    "                currValue = newValue\n",
    "            else:\n",
    "                restore(j, solution)\n",
    "        if newValue < bestValue:\n",
    "            bestValue = newValue\n",
    "        i += 1\n",
    "    return bestValue"
   ]
  },
  {
   "cell_type": "code",
   "execution_count": 14,
   "metadata": {},
   "outputs": [
    {
     "name": "stdout",
     "output_type": "stream",
     "text": [
      "Najbolje resenje 11\n"
     ]
    }
   ],
   "source": [
    "graph_list2 = [[3],[3],[3],[0,1,2,4],[3,5,6,7],[4],[4],[4]]\n",
    "solution = initializeSolution(graph_list2)\n",
    "value = simulatedAnnealing(graph_list2,solution,100000)\n",
    "print('Najbolje resenje',value)"
   ]
  },
  {
   "cell_type": "code",
   "execution_count": null,
   "metadata": {},
   "outputs": [],
   "source": []
  }
 ],
 "metadata": {
  "kernelspec": {
   "display_name": "Python 3",
   "language": "python",
   "name": "python3"
  },
  "language_info": {
   "codemirror_mode": {
    "name": "ipython",
    "version": 3
   },
   "file_extension": ".py",
   "mimetype": "text/x-python",
   "name": "python",
   "nbconvert_exporter": "python",
   "pygments_lexer": "ipython3",
   "version": "3.7.3"
  }
 },
 "nbformat": 4,
 "nbformat_minor": 2
}
