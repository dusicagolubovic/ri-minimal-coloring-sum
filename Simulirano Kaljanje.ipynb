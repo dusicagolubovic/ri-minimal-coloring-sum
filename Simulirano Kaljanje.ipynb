{
 "cells": [
  {
   "cell_type": "markdown",
   "metadata": {},
   "source": [
    "### Algoritam simuliranog kaljanja\n",
    "\n",
    "Prvo cemo na jednom resenju pa potom ubacujemo u genetski"
   ]
  },
  {
   "cell_type": "code",
   "execution_count": 8,
   "metadata": {},
   "outputs": [],
   "source": [
    "import random\n",
    "\n",
    "def isFeasible(graph, solution):\n",
    "    for i in range(len(graph)):\n",
    "        for neigh in graph[i]:\n",
    "            if(solution[i]==solution[neigh]):\n",
    "                return False\n",
    "            \n",
    "    return True\n",
    "\n",
    "def findAjdColors(i,graph,colors):\n",
    "        ajdColors = []\n",
    "        for ajd in graph[i]:\n",
    "            ajdColors.append(colors[ajd])\n",
    "        return ajdColors\n",
    "        \n",
    "        \n",
    "def correctNonFeasible(graph,colors):\n",
    "        \n",
    "    for i in range(len(graph)):\n",
    "        ajdColors = self.findAjdColors(i,graph,colors)\n",
    "        if(colors[i] in ajdColors):  \n",
    "            possibleColors = list(set([1,2,3,4,5,6,7,8])-set(ajdColors))\n",
    "            colors[i] = random.choice(possibleColors)\n",
    "    \n",
    "\n",
    "\n",
    "def initializeSolution(graph):\n",
    "    colors = []\n",
    "    numberOfColors = len(graph)\n",
    "    for i in range(numberOfColors):\n",
    "            colors.append(random.randrange(1,numberOfColors+1))\n",
    "    \n",
    "    if not isFeasible(graph,colors):\n",
    "        correctNonFeasible(graph,colors)\n",
    "        \n",
    "    return colors\n",
    "\n",
    "# racuna vrednost funkcije cilja\n",
    "def solutionValue(solution):\n",
    "    return sum(solution)\n",
    "# biramo resenje iz okoline\n",
    "# random odaberemo indeks i smanjimo mu vrednost boje\n",
    "oldValue = 0\n",
    "def adjacencySolution(solution,graph):\n",
    "    global oldValue\n",
    "    position = random.randrange(0,len(graph))\n",
    "    oldValue = solution[position]\n",
    "    oldPosition = position\n",
    "    if solution[position]==1:\n",
    "        solution[position]=2\n",
    "    else:\n",
    "        solution[position]=solution[position]-1\n",
    "    \n",
    "    if isFeasible(graph,solution):\n",
    "        return position\n",
    "    solution[position] = oldValue\n",
    "    return -1\n",
    "            \n",
    "    \n",
    "# vracamo staru vrednost ako ne dobijamo bolje resenje\n",
    "\n",
    "def restore(position,solution):\n",
    "    solution[position] = oldValue\n",
    "\n"
   ]
  },
  {
   "cell_type": "code",
   "execution_count": 9,
   "metadata": {},
   "outputs": [],
   "source": [
    "# Algoritam simuliranog kaljenja\n",
    "def simulatedAnnealing(graph,solution,maxIters):\n",
    "    currValue = solutionValue(solution)\n",
    "    bestValue = currValue # na pocetku od pocetnog resenja \n",
    "    i=1\n",
    "    # ponavljamo postupak dok ne dostignemo maksimalno iteracija\n",
    "    while i<maxIters:\n",
    "        # uzimamo resenje u okolini\n",
    "        j = adjacencySolution(solution,graph)\n",
    "        # ako nije dopustivo idemo na narednu iteraciju \n",
    "        if j<0: \n",
    "            continue\n",
    "        newValue = solutionValue(solution)\n",
    "        if newValue < currValue:\n",
    "            currValue = newValue\n",
    "        else:\n",
    "            p = 1.0 / i ** 0.5\n",
    "            q = random.uniform(0, 1)\n",
    "            if p > q:\n",
    "                currValue = newValue\n",
    "            else:\n",
    "                restore(j, solution)\n",
    "        if newValue < bestValue:\n",
    "            bestValue = newValue\n",
    "        i += 1\n",
    "    return bestValue"
   ]
  },
  {
   "cell_type": "code",
   "execution_count": 10,
   "metadata": {},
   "outputs": [
    {
     "ename": "NameError",
     "evalue": "name 'self' is not defined",
     "output_type": "error",
     "traceback": [
      "\u001b[0;31m---------------------------------------------------------------------------\u001b[0m",
      "\u001b[0;31mNameError\u001b[0m                                 Traceback (most recent call last)",
      "\u001b[0;32m<ipython-input-10-c2a996cd42d7>\u001b[0m in \u001b[0;36m<module>\u001b[0;34m\u001b[0m\n\u001b[1;32m      1\u001b[0m \u001b[0mgraph_list2\u001b[0m \u001b[0;34m=\u001b[0m \u001b[0;34m[\u001b[0m\u001b[0;34m[\u001b[0m\u001b[0;36m3\u001b[0m\u001b[0;34m]\u001b[0m\u001b[0;34m,\u001b[0m\u001b[0;34m[\u001b[0m\u001b[0;36m3\u001b[0m\u001b[0;34m]\u001b[0m\u001b[0;34m,\u001b[0m\u001b[0;34m[\u001b[0m\u001b[0;36m3\u001b[0m\u001b[0;34m]\u001b[0m\u001b[0;34m,\u001b[0m\u001b[0;34m[\u001b[0m\u001b[0;36m0\u001b[0m\u001b[0;34m,\u001b[0m\u001b[0;36m1\u001b[0m\u001b[0;34m,\u001b[0m\u001b[0;36m2\u001b[0m\u001b[0;34m,\u001b[0m\u001b[0;36m4\u001b[0m\u001b[0;34m]\u001b[0m\u001b[0;34m,\u001b[0m\u001b[0;34m[\u001b[0m\u001b[0;36m3\u001b[0m\u001b[0;34m,\u001b[0m\u001b[0;36m5\u001b[0m\u001b[0;34m,\u001b[0m\u001b[0;36m6\u001b[0m\u001b[0;34m,\u001b[0m\u001b[0;36m7\u001b[0m\u001b[0;34m]\u001b[0m\u001b[0;34m,\u001b[0m\u001b[0;34m[\u001b[0m\u001b[0;36m4\u001b[0m\u001b[0;34m]\u001b[0m\u001b[0;34m,\u001b[0m\u001b[0;34m[\u001b[0m\u001b[0;36m4\u001b[0m\u001b[0;34m]\u001b[0m\u001b[0;34m,\u001b[0m\u001b[0;34m[\u001b[0m\u001b[0;36m4\u001b[0m\u001b[0;34m]\u001b[0m\u001b[0;34m]\u001b[0m\u001b[0;34m\u001b[0m\u001b[0;34m\u001b[0m\u001b[0m\n\u001b[0;32m----> 2\u001b[0;31m \u001b[0msolution\u001b[0m \u001b[0;34m=\u001b[0m \u001b[0minitializeSolution\u001b[0m\u001b[0;34m(\u001b[0m\u001b[0mgraph_list2\u001b[0m\u001b[0;34m)\u001b[0m\u001b[0;34m\u001b[0m\u001b[0;34m\u001b[0m\u001b[0m\n\u001b[0m\u001b[1;32m      3\u001b[0m \u001b[0mvalue\u001b[0m \u001b[0;34m=\u001b[0m \u001b[0msimulatedAnnealing\u001b[0m\u001b[0;34m(\u001b[0m\u001b[0mgraph_list2\u001b[0m\u001b[0;34m,\u001b[0m\u001b[0msolution\u001b[0m\u001b[0;34m,\u001b[0m\u001b[0;36m10000\u001b[0m\u001b[0;34m)\u001b[0m\u001b[0;34m\u001b[0m\u001b[0;34m\u001b[0m\u001b[0m\n\u001b[1;32m      4\u001b[0m \u001b[0mprint\u001b[0m\u001b[0;34m(\u001b[0m\u001b[0;34m'Najbolje resenje'\u001b[0m\u001b[0;34m,\u001b[0m\u001b[0mvalue\u001b[0m\u001b[0;34m)\u001b[0m\u001b[0;34m\u001b[0m\u001b[0;34m\u001b[0m\u001b[0m\n",
      "\u001b[0;32m<ipython-input-8-a124f4f437c6>\u001b[0m in \u001b[0;36minitializeSolution\u001b[0;34m(graph)\u001b[0m\n\u001b[1;32m     33\u001b[0m \u001b[0;34m\u001b[0m\u001b[0m\n\u001b[1;32m     34\u001b[0m     \u001b[0;32mif\u001b[0m \u001b[0;32mnot\u001b[0m \u001b[0misFeasible\u001b[0m\u001b[0;34m(\u001b[0m\u001b[0mgraph\u001b[0m\u001b[0;34m,\u001b[0m\u001b[0mcolors\u001b[0m\u001b[0;34m)\u001b[0m\u001b[0;34m:\u001b[0m\u001b[0;34m\u001b[0m\u001b[0;34m\u001b[0m\u001b[0m\n\u001b[0;32m---> 35\u001b[0;31m         \u001b[0mcorrectNonFeasible\u001b[0m\u001b[0;34m(\u001b[0m\u001b[0mgraph\u001b[0m\u001b[0;34m,\u001b[0m\u001b[0mcolors\u001b[0m\u001b[0;34m)\u001b[0m\u001b[0;34m\u001b[0m\u001b[0;34m\u001b[0m\u001b[0m\n\u001b[0m\u001b[1;32m     36\u001b[0m \u001b[0;34m\u001b[0m\u001b[0m\n\u001b[1;32m     37\u001b[0m     \u001b[0;32mreturn\u001b[0m \u001b[0mcolors\u001b[0m\u001b[0;34m\u001b[0m\u001b[0;34m\u001b[0m\u001b[0m\n",
      "\u001b[0;32m<ipython-input-8-a124f4f437c6>\u001b[0m in \u001b[0;36mcorrectNonFeasible\u001b[0;34m(graph, colors)\u001b[0m\n\u001b[1;32m     19\u001b[0m \u001b[0;34m\u001b[0m\u001b[0m\n\u001b[1;32m     20\u001b[0m     \u001b[0;32mfor\u001b[0m \u001b[0mi\u001b[0m \u001b[0;32min\u001b[0m \u001b[0mrange\u001b[0m\u001b[0;34m(\u001b[0m\u001b[0mlen\u001b[0m\u001b[0;34m(\u001b[0m\u001b[0mgraph\u001b[0m\u001b[0;34m)\u001b[0m\u001b[0;34m)\u001b[0m\u001b[0;34m:\u001b[0m\u001b[0;34m\u001b[0m\u001b[0;34m\u001b[0m\u001b[0m\n\u001b[0;32m---> 21\u001b[0;31m         \u001b[0majdColors\u001b[0m \u001b[0;34m=\u001b[0m \u001b[0mself\u001b[0m\u001b[0;34m.\u001b[0m\u001b[0mfindAjdColors\u001b[0m\u001b[0;34m(\u001b[0m\u001b[0mi\u001b[0m\u001b[0;34m,\u001b[0m\u001b[0mgraph\u001b[0m\u001b[0;34m,\u001b[0m\u001b[0mcolors\u001b[0m\u001b[0;34m)\u001b[0m\u001b[0;34m\u001b[0m\u001b[0;34m\u001b[0m\u001b[0m\n\u001b[0m\u001b[1;32m     22\u001b[0m         \u001b[0;32mif\u001b[0m\u001b[0;34m(\u001b[0m\u001b[0mcolors\u001b[0m\u001b[0;34m[\u001b[0m\u001b[0mi\u001b[0m\u001b[0;34m]\u001b[0m \u001b[0;32min\u001b[0m \u001b[0majdColors\u001b[0m\u001b[0;34m)\u001b[0m\u001b[0;34m:\u001b[0m\u001b[0;34m\u001b[0m\u001b[0;34m\u001b[0m\u001b[0m\n\u001b[1;32m     23\u001b[0m             \u001b[0mpossibleColors\u001b[0m \u001b[0;34m=\u001b[0m \u001b[0mlist\u001b[0m\u001b[0;34m(\u001b[0m\u001b[0mset\u001b[0m\u001b[0;34m(\u001b[0m\u001b[0;34m[\u001b[0m\u001b[0;36m1\u001b[0m\u001b[0;34m,\u001b[0m\u001b[0;36m2\u001b[0m\u001b[0;34m,\u001b[0m\u001b[0;36m3\u001b[0m\u001b[0;34m,\u001b[0m\u001b[0;36m4\u001b[0m\u001b[0;34m,\u001b[0m\u001b[0;36m5\u001b[0m\u001b[0;34m,\u001b[0m\u001b[0;36m6\u001b[0m\u001b[0;34m,\u001b[0m\u001b[0;36m7\u001b[0m\u001b[0;34m,\u001b[0m\u001b[0;36m8\u001b[0m\u001b[0;34m]\u001b[0m\u001b[0;34m)\u001b[0m\u001b[0;34m-\u001b[0m\u001b[0mset\u001b[0m\u001b[0;34m(\u001b[0m\u001b[0majdColors\u001b[0m\u001b[0;34m)\u001b[0m\u001b[0;34m)\u001b[0m\u001b[0;34m\u001b[0m\u001b[0;34m\u001b[0m\u001b[0m\n",
      "\u001b[0;31mNameError\u001b[0m: name 'self' is not defined"
     ]
    }
   ],
   "source": [
    "graph_list2 = [[3],[3],[3],[0,1,2,4],[3,5,6,7],[4],[4],[4]]\n",
    "solution = initializeSolution(graph_list2)\n",
    "value = simulatedAnnealing(graph_list2,solution,10000)\n",
    "print('Najbolje resenje',value)"
   ]
  },
  {
   "cell_type": "code",
   "execution_count": null,
   "metadata": {},
   "outputs": [],
   "source": []
  }
 ],
 "metadata": {
  "kernelspec": {
   "display_name": "Python 3",
   "language": "python",
   "name": "python3"
  },
  "language_info": {
   "codemirror_mode": {
    "name": "ipython",
    "version": 3
   },
   "file_extension": ".py",
   "mimetype": "text/x-python",
   "name": "python",
   "nbconvert_exporter": "python",
   "pygments_lexer": "ipython3",
   "version": "3.7.3"
  }
 },
 "nbformat": 4,
 "nbformat_minor": 2
}
